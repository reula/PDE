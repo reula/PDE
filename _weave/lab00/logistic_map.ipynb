{
 "cells": [
  {
   "cell_type": "markdown",
   "metadata": {},
   "source": [
    "## Logistic Map\n",
    "\n",
    "##### [Logistic Map (notebook version)](/_weave/lab00/logistic_map.ipynb)"
   ]
  },
  {
   "cell_type": "code",
   "execution_count": null,
   "metadata": {},
   "outputs": [],
   "source": [
    "using Pkg\n",
    "Pkg.activate(\"../../PDE2025\")\n",
    "Pkg.instantiate()\n",
    "using Plots"
   ]
  },
  {
   "cell_type": "markdown",
   "metadata": {},
   "source": [
    "The logistc map is given by\n",
    "\n",
    "$$\n",
    "l(x) \n",
    "= r \\cdot x\\cdot (1-x)\n",
    "$$\n",
    "\n",
    "where $x_n \\in [0,1]$ is the normalized population at step $n$ and $r \\in [0,4]$ is the growth rate parameter.\n"
   ]
  },
  {
   "cell_type": "code",
   "execution_count": null,
   "metadata": {},
   "outputs": [],
   "source": [
    "function l(x,r)\n",
    "   return r*x*(1-x)\n",
    "end\n"
   ]
  },
  {
   "cell_type": "markdown",
   "metadata": {},
   "source": [
    "Or equivalently..."
   ]
  },
  {
   "cell_type": "code",
   "execution_count": null,
   "metadata": {},
   "outputs": [],
   "source": [
    "\n",
    "l(x,r) = r*x*(1-x)\n"
   ]
  },
  {
   "cell_type": "markdown",
   "metadata": {},
   "source": [
    "### Fixed points\n",
    "In a dynamical system, $f(x)$ has a stable fixed point if $|f'(x)| < 1$ in that fixed point. In this case, $l(x)$ has two fixed points,\n",
    "$x = 0$ and $x = \\frac{r-1}{r}$. \n",
    "\n",
    "Since $l'(x) = r\\cdot(1-2x)$, we can verify the stability of the two fixed points:\n",
    "\n",
    "1. $x = 0$ is stable for $r < 1$, and unstable for $r \\ge 1$.\n",
    "2. $x = \\frac{r-1}{r}$, $l'(\\frac{r-1}{r}) = 2-r$, so this fixed point is stable for $r \\in (1,3)$.\n",
    "\n",
    "We can analize the fixed points for several values of $r$ seeing the intersections between the curves $y=l(x)$ and $y=x$."
   ]
  },
  {
   "cell_type": "code",
   "execution_count": null,
   "metadata": {},
   "outputs": [],
   "source": [
    "myarray = [1,2,3,4]"
   ]
  },
  {
   "cell_type": "code",
   "execution_count": null,
   "metadata": {},
   "outputs": [],
   "source": [
    "f(x) = x*x"
   ]
  },
  {
   "cell_type": "code",
   "execution_count": null,
   "metadata": {},
   "outputs": [],
   "source": [
    "f.(myarray)"
   ]
  },
  {
   "cell_type": "code",
   "execution_count": null,
   "metadata": {},
   "outputs": [],
   "source": [
    "plt = plot(title=\"Logistic map for different parameter values\", xlim = (0.0,1.0))\n",
    "x = 0:0.001:1\n",
    "for i in 1:10                           #We plot for ten values of r\n",
    "    r = 4*i/10\n",
    "    plot!(plt, x,l.(x,r), label=\"r=$r\")\n",
    "end\n",
    "plot!(x,x, lw=2, label=\"\")              #We plot y=x\n",
    "plt"
   ]
  },
  {
   "cell_type": "markdown",
   "metadata": {},
   "source": [
    "If you try to find the fixed points vía the map: $x \\to l(x)$ or \n",
    "$$\n",
    "x_{n+1} = l(x_n)\n",
    "$$\n",
    "\n",
    "you can see in the graph below whether the sequence converges or not and towards which point."
   ]
  },
  {
   "cell_type": "code",
   "execution_count": null,
   "metadata": {},
   "outputs": [],
   "source": [
    "N=600                           #Number of iterations\n",
    "X = zeros(N)                    #Where we store the values of each iteration\n",
    "\n",
    "\"\"\"\n",
    "This function recives r, an initial x0, the number of iterations N, and the array where to\n",
    "save the values after each iteration.\n",
    "\"\"\"\n",
    "function iterates!(r,x0,N,X)\n",
    "    X[1] = x0 #First value\n",
    "    for i in 2:N\n",
    "        X[i] = l(X[i-1],r) #We store the value of each iteration xₙ₊₁ = l(xₙ)\n",
    "    end\n",
    "    return X[:]\n",
    "end\n",
    "\n",
    "\n",
    "#r=3.6\n",
    "#r = 3.45949\n",
    "#r = 3\n",
    "#r = 1\n",
    "r = 2\n",
    "\n",
    "\n",
    "iterates!(r,0.2,N,X)                                                    #We call iterates!\n",
    "plt = plot(x,l.(x,r),label=\"r=$r\")                                      #We plot y = l(x,r)\n",
    "plot!(x,x, label=\"\")                                                    #We plot y = x\n",
    "#We plot the values of each iteration, and connect each iteration with a green line.\n",
    "plot!([X[1];X[1]],[0.0;X[2]],label=\"\", ms=1, color=:green)\n",
    "scatter!([X[1];X[1]],[0.0;X[2]], label=\"\", ms=1, color=:green)\n",
    "for i in 2:(N-1)\n",
    "    plot!([X[i-1];X[i]],[X[i];X[i]], label=\"\", ms=1, color=:green)\n",
    "    scatter!([X[i-1];X[i]],[X[i];X[i]], label=\"\", ms=1, color=:green)\n",
    "    plot!([X[i];X[i]],[X[i];X[i+1]], label=\"\", ms=1, color=:green)\n",
    "    scatter!([X[i];X[i]],[X[i];X[i+1]], label=\"\", ms=1, color=:green)\n",
    "end\n",
    "plt\n"
   ]
  },
  {
   "cell_type": "code",
   "execution_count": null,
   "metadata": {},
   "outputs": [],
   "source": [
    "M = 500             #Number of values of r we will examine\n",
    "N_transient = 500   #Number of iterations we will do to let the system stabilize\n",
    "N_keep = 100        #Number of iterations we will keep after the transient\n",
    "X_transient = zeros(N_transient)\n",
    "X_keep = zeros(N_keep)\n",
    "\n",
    "plt = plot(title=\"Logistic Map\",legend=false)\n",
    "for i in 1:M\n",
    "    r = 3*i/M + 1\n",
    "    iterates!(r,0.2,N_transient,X_transient)        #We do the transient iterations\n",
    "    iterates!(r,X_transient[end], N_keep, X_keep)   #We do the remaining N_keep iterations, starting at the last value of X_transient\n",
    "    scatter!(fill(r, N_keep),X_keep,ms=0.1,color=:green)\n",
    "end\n",
    "\n",
    "savefig(\"logistic_map.png\") \n",
    "\n",
    "if N_keep <= 100\n",
    "    display(plt)\n",
    "end\n",
    "\n"
   ]
  },
  {
   "cell_type": "markdown",
   "metadata": {},
   "source": [
    "### Key Properties\n",
    "\n",
    "#### **(A) Fixed Points & Stability**\n",
    "Fixed points $ x^* $ satisfy $ x_{n+1} = x_n $.  \n",
    "- **Trivial fixed point**:  \n",
    "  $ x^* = 0 $ (always exists).  \n",
    "  - **Stability**:  \n",
    "    - Stable for $ r < 1 $,\n",
    "    - Unstable for $ r \\geq 1 $.\n",
    "\n",
    "- **Non-trivial fixed point**:  \n",
    "  $ x^* = 1 - \\frac{1}{r} $ exists for $ r \\geq 1 $).  \n",
    "  - **Stability**:  \n",
    "    - Stable for $ 1 < r < 3 $ (attracts nearby orbits),\n",
    "    - Loses stability at $ r = 3 $ via a **period-doubling bifurcation**.\n",
    "\n",
    "#### **(B) Bifurcations**\n",
    "As $ r $ increases, the system undergoes:\n",
    "1. **First bifurcation (r = 3)**:  \n",
    "   - Stable fixed point becomes unstable, giving rise to a **stable 2-cycle**.\n",
    "2. **Feigenbaum cascade (3 < r < 3.5699...)**:  \n",
    "   - Infinite sequence of period-doublings (2 → 4 → 8 → ...).\n",
    "   - Governed by the **Feigenbaum constant** $ \\delta \\approx 4.669 $, universal for many chaotic systems.\n",
    "3. **Onset of chaos (r ≈ 3.5699)**:  \n",
    "   - Orbits become aperiodic (sensitive dependence on initial conditions).\n",
    "\n",
    "#### **(C) Chaos & Ergodic Behavior**\n",
    "- **Lyapunov exponent** $ \\lambda $:  \n",
    "  - $ \\lambda > 0 $ indicates chaos (e.g., $ \\lambda = \\ln 2 $ at $ r = 4 $).\n",
    "- **Topological mixing**:  \n",
    "  Orbits fill the interval $[0,1]$ densely for $ r = 4 $.\n",
    "- **Bernoulli shift**:  \n",
    "  At $ r = 4 $, the map is conjugate to a maximally chaotic system.\n",
    "\n"
   ]
  },
  {
   "cell_type": "markdown",
   "metadata": {},
   "source": [
    "As we saw, for $r ∈ (3, 3.5699...)$ the system has a bifurcation. We can study this bifurcation by studying the function $l(l(x))$.\n",
    "\n",
    "This is because, in a bifurcation, we have two points $x_1$ and $x_2$, such that $x_2 = l(x_1)$ and $x_1 = l(x_2)$.\n",
    "\n",
    " Therefore, $x_1 = l(l(x_1))$, which is to say that $x_1$ and $x_2$ are fixed points of $l(l(x))$. Similarly we can find larger cycles by continuously composing $l(x)$ with itself."
   ]
  },
  {
   "cell_type": "code",
   "execution_count": null,
   "metadata": {},
   "outputs": [],
   "source": [
    "#This function composes l(x) n times.\n",
    "function l_n(x, r, n)\n",
    "    for i in 1:n\n",
    "        x = l(x,r)\n",
    "    end\n",
    "    return x\n",
    "end\n"
   ]
  },
  {
   "cell_type": "code",
   "execution_count": null,
   "metadata": {},
   "outputs": [],
   "source": [
    "#Here, we plot x, l(x) and l(l(x)). You can plot more compositions of l by changing the for loop.\n",
    "plt = plot(x,x,title=\"n-folding of the logistic map\", label=\"\",legend=:topleft)\n",
    "for i in 1:2\n",
    "    plot!(x,l_n.(x,3.1,i), label=\"n=$i\")\n",
    "end\n",
    "\n",
    "plt"
   ]
  },
  {
   "cell_type": "markdown",
   "metadata": {},
   "source": [
    "**Customization:** Adjust r_range to zoom in on specific bifurcations (e.g., 3.8:0.0001:4.0 for chaos)."
   ]
  },
  {
   "cell_type": "markdown",
   "metadata": {},
   "source": [
    "## Key Properties\n",
    "\n",
    "### **(A) Fixed Points & Stability**\n",
    "Fixed points $ x^* $ satisfy $ x_{n+1} = x_n $.  \n",
    "- **Trivial fixed point**:  \n",
    "  $ x^* = 0 $ (always exists).  \n",
    "  - **Stability**:  \n",
    "    - Stable for $ r < 1 $,\n",
    "    - Unstable for $ r \\geq 1 $.\n",
    "\n",
    "- **Non-trivial fixed point**:  \n",
    "  $ x^* = 1 - \\frac{1}{r} $ exists for $ r \\geq 1 $).  \n",
    "  - **Stability**:  \n",
    "    - Stable for $ 1 < r < 3 $ (attracts nearby orbits),\n",
    "    - Loses stability at $ r = 3 $ via a **period-doubling bifurcation**.\n",
    "\n",
    "### **(B) Bifurcations**\n",
    "As $ r $ increases, the system undergoes:\n",
    "1. **First bifurcation (r = 3)**:  \n",
    "   - Stable fixed point becomes unstable, giving rise to a **stable 2-cycle**.\n",
    "2. **Feigenbaum cascade (3 < r < 3.5699...)**:  \n",
    "   - Infinite sequence of period-doublings (2 → 4 → 8 → ...).\n",
    "   - Governed by the **Feigenbaum constant** $ \\delta \\approx 4.669 $, universal for many chaotic systems.\n",
    "3. **Onset of chaos (r ≈ 3.5699)**:  \n",
    "   - Orbits become aperiodic (sensitive dependence on initial conditions).\n",
    "\n",
    "### **(C) Chaos & Ergodic Behavior**\n",
    "- **Lyapunov exponent** $ \\lambda $:  \n",
    "  - $ \\lambda > 0 $ indicates chaos (e.g., $ \\lambda = \\ln 2 $ at $ r = 4 $).\n",
    "- **Topological mixing**:  \n",
    "  Orbits fill the interval $[0,1]$ densely for $ r = 4 $.\n",
    "- **Bernoulli shift**:  \n",
    "  At $ r = 4 $, the map is conjugate to a maximally chaotic system.\n",
    "\n",
    "### **(D) Universality**\n",
    "- The **Feigenbaum constants** ($ \\delta \\approx 4.669 $, $ \\alpha \\approx 2.502 $) appear in all unimodal maps with quadratic maxima (e.g., sine map).\n"
   ]
  },
  {
   "cell_type": "code",
   "execution_count": null,
   "metadata": {},
   "outputs": [],
   "source": [
    "# Lyapunov exponent\n",
    "function lyapunov_exponent(x₀, r, n_steps)\n",
    "    x = x₀\n",
    "    λ = 0.0\n",
    "    for _ in 1:n_steps\n",
    "        x = r * x * (1 - x)\n",
    "        λ += log(abs(r * (1 - 2x)))\n",
    "    end\n",
    "    return λ / n_steps\n",
    "end\n",
    "\n",
    "# Generate plots\n",
    "let\n",
    "    r_range = 2.5:0.001:4.0\n",
    "    bifurcation_diagram(r_range, 1000, 100)\n",
    "    \n",
    "    # Lyapunov plot\n",
    "    r_lyap = 2.8:0.01:4.0\n",
    "    λ = [lyapunov_exponent(0.5, r, 1000) for r in r_lyap]\n",
    "    plot(r_lyap, λ, xlabel=\"r\", ylabel=\"λ\", title=\"Lyapunov Exponent\", label=\"λ(r)\")\n",
    "    hline!([0], linestyle=:dash, color=:red, label=\"Stability threshold\")\n",
    "end"
   ]
  },
  {
   "cell_type": "markdown",
   "metadata": {},
   "source": [
    "\n",
    "\n",
    "## **Applications**\n",
    "- **Population biology**: Models species growth with limited resources.\n",
    "- **Cryptography**: Chaos-based random number generators.\n",
    "- **Physics**: Analogue for turbulence and phase transitions.\n",
    "\n",
    "---\n",
    "\n",
    "## **References**\n",
    "- Strogatz, S. H. (1994). *Nonlinear Dynamics and Chaos*.  \n",
    "- Feigenbaum, M. (1978). *Quantitative universality for a class of nonlinear transformations*.  \n",
    "\n"
   ]
  },
  {
   "cell_type": "markdown",
   "metadata": {},
   "source": []
  }
 ],
 "metadata": {
  "kernelspec": {
   "display_name": "Julia 1.11.2",
   "language": "julia",
   "name": "julia-1.11"
  },
  "language_info": {
   "file_extension": ".jl",
   "mimetype": "application/julia",
   "name": "julia",
   "version": "1.11.2"
  },
  "orig_nbformat": 4
 },
 "nbformat": 4,
 "nbformat_minor": 2
}
