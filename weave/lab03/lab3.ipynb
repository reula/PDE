{
 "cells": [
  {
   "cell_type": "markdown",
   "metadata": {},
   "source": [
    "# Lab 3"
   ]
  },
  {
   "cell_type": "markdown",
   "metadata": {},
   "source": [
    "##### [Click here to download this notebook](/weave/lab03/lab3.ipynb)\n",
    "\n",
    "### Important 1:\n",
    "\n",
    "This notebook is designed to run in Julia. If you are working in Python, create a new `.ipynb` file to run Python code and copy this file there."
   ]
  },
  {
   "cell_type": "markdown",
   "metadata": {},
   "source": [
    "### Important 2: ###\n",
    "Rename the file as:  \n",
    "`lastname_firstname_lab_3.ipynb`\n",
    "\n",
    "**All the generated code and the presentation must be included in this notebook.**\n"
   ]
  },
  {
   "cell_type": "markdown",
   "metadata": {},
   "source": [
    "**The goal of the assignment is multifaceted:**\n",
    "\n",
    "1. Become familiar with the wave equation or hyperbolic equations in general.  \n",
    "2. Get acquainted with finite difference operators of various orders.  \n",
    "3. Understand the importance of the choice of time integrator.  \n",
    "4. Qualitatively and quantitatively assess the approximation errors.  \n",
    "5. Study the convergence of the methods.  \n",
    "6. Observe the limitations of the method when shock waves are generated.\n"
   ]
  },
  {
   "cell_type": "markdown",
   "metadata": {},
   "source": [
    "**1)**  Play with the [Wave Equation code](/labs/02-we):  \n",
    "\n",
    "a) Change the initial conditions;  \n",
    "b) Evolve to different times;  \n",
    "c) Plot different variables or functions of them;  \n",
    "d) Try to plot an animation of the solution;  \n",
    "e) Test different spatial and temporal resolutions (what happens if you choose a very large `dt`?) Explain.  \n",
    "Compute the energy of the solution and observe how well it is conserved.\n"
   ]
  },
  {
   "cell_type": "markdown",
   "metadata": {},
   "source": [
    "**2)**  Using the `BandedMatrices` library, create finite difference operators of order 6 and 8. Apply them to the wave equation.  \n",
    "Together with the already implemented operators (orders 2 and 4), evolve the equations up to `T = 100` and compare the results with the exact solution  \n",
    "(after whole periods, the exact solution matches the initial data).  \n",
    "Make a plot of the different approximations.\n",
    "\n",
    "\n",
    "\n",
    "\n"
   ]
  },
  {
   "cell_type": "markdown",
   "metadata": {},
   "source": [
    "**3)**  Change the time integrator. What happens if you use Euler? Explain.\n"
   ]
  },
  {
   "cell_type": "markdown",
   "metadata": {},
   "source": [
    "**4)**  Plot the errors using different resolutions and finite difference schemes.\n"
   ]
  },
  {
   "cell_type": "markdown",
   "metadata": {},
   "source": [
    "**5)**  By computing differences between approximations at different resolutions and using appropriate norms, determine the order of convergence of the method.\n"
   ]
  },
  {
   "cell_type": "markdown",
   "metadata": {},
   "source": [
    "**6)**  Generate an initial condition in the form of a pulse consisting of the highest-frequency wave supported by the grid, modulated with a smooth compactly supported peak.  \n",
    "Observe how this pulse propagates. Estimate its velocity for the different finite difference operators implemented.\n"
   ]
  },
  {
   "cell_type": "markdown",
   "metadata": {},
   "source": [
    "**7)**  Implement the Burgers' equation, $\\frac{\\partial u}{\\partial t} = - u \\frac{\\partial u}{\\partial x}$, and evolve it.  \n",
    "Describe what happens and explain.\n"
   ]
  },
  {
   "cell_type": "markdown",
   "metadata": {},
   "source": [
    "**8)** **For the ambitious:**  \n",
    "\n",
    "  a) Implement other equations;  \n",
    "  b) Add Kreiss–Oliger dissipation;  \n",
    "  c) Incorporate source terms;  \n",
    "  d) Try to optimize the numerical method to make it more efficient;  \n",
    "  e) Explore systems with different time scales;  \n",
    "  f) For the latter case, implement IMEX (implicit–explicit) time integration methods.  \n",
    "  \n",
    "An example of a system with multiple time scales is:  \n",
    "\n",
    "$$\n",
    "\\begin{array}{rl}\n",
    "u_t &= v_x \\\\\n",
    "v_t &= u_x + \\dfrac{1}{\\epsilon} (u_x - v)\n",
    "\\end{array}\n",
    "$$\n",
    "\n",
    "with $\\epsilon > 0$ very small.\n"
   ]
  }
 ],
 "metadata": {
  "kernelspec": {
   "display_name": "Julia 1.7.2",
   "language": "julia",
   "name": "julia-1.7"
  },
  "language_info": {
   "file_extension": ".jl",
   "mimetype": "application/julia",
   "name": "julia",
   "version": "1.6.1"
  }
 },
 "nbformat": 4,
 "nbformat_minor": 4
}
