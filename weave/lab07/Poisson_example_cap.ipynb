{
 "cells": [
  {
   "cell_type": "markdown",
   "id": "55e2707a",
   "metadata": {},
   "source": [
    "- [Click here to download this notebook](/weave/lab07/Poisson_example_cap.ipynb)\n",
    "\n",
    "# Example of solving the Poisson problem with different boundary conditions and manipulation of the solution for the capacitance calculation problem"
   ]
  },
  {
   "cell_type": "markdown",
   "id": "b7065266",
   "metadata": {},
   "source": [
    "The problem to be solved is:\n",
    "\n",
    "$$\n",
    "\\begin{align}\n",
    "-\\Delta u &= f \\;\\;\\;\\;\\; \\text{in } \\Omega \\\\\n",
    "u &= g \\;\\;\\;\\;\\; \\text{in } \\partial \\Omega_{int} \\\\\n",
    "\\hat{n} \\cdot \\nabla u &= h \\;\\;\\;\\;\\; \\text{in } \\partial \\Omega_{ext} \\\\\n",
    "\\end{align}\n",
    "$$\n",
    "\n",
    "To do this, we will impose its weak form:\n",
    "\n",
    "Find $u$ in $H^1(\\Omega, f))$ (that is, with Dirichlet boundary conditions on $\\partial \\Omega_{int}$) such that,\n",
    "\n",
    "$$\n",
    "\\int_{\\Omega} \\nabla v \\cdot \\nabla u \\; d\\Omega \n",
    "- \\int_{\\Omega} v \\; f \\; d\\Omega \n",
    "- \\oint_{\\partial \\Omega_{ext}} v \\; h \\; d\\Gamma \n",
    "= 0 \\;\\;\\;\\;\\; \\forall v \\;\\; \\in H^1_0(\\Omega)\n",
    "$$\n",
    "\n",
    "If we obtain a $u$ satisfying this equation, and it is sufficiently smooth, then we can integrate the first term by parts and obtain:\n",
    "\n",
    "$$\n",
    "\\int_{\\Omega}  v \\; (-\\Delta u - f) \\; d\\Omega \n",
    "+ \\oint_{\\partial \\Omega_{ext}} v \\; (\\hat{n} \\cdot \\nabla u - h) \\; d\\Gamma \n",
    "= 0 \\;\\;\\;\\;\\; \\forall v \\;\\; \\in H^1_0(\\Omega)\n",
    "$$\n",
    "\n",
    "Taking $v$ arbitrary but with compact support, we see that $u$ must satisfy:\n",
    "\n",
    "$$\n",
    "-\\Delta u = f \\;\\;\\;\\;\\; \\text{in } \\Omega,\n",
    "$$\n",
    "and taking $v$ arbitrary we also see that the Neumann condition must be satisfied,\n",
    "\n",
    "$$\n",
    "\\hat{n} \\cdot \\nabla u = h \\;\\;\\;\\;\\; \\text{in } \\partial \\Omega_{ext}.\n",
    "$$\n",
    "\n",
    "The Dirichlet condition is automatic due to the choice of space.\n",
    "\n",
    "We will then use the solution found for a capacitance problem."
   ]
  },
  {
   "cell_type": "markdown",
   "id": "fbd37bf0",
   "metadata": {},
   "source": [
    "To solve the problem, we will use the infrastructure of the Julia package `Gridap.jl`. This example is a compilation of several examples from the package's tutorial."
   ]
  },
  {
   "cell_type": "code",
   "execution_count": null,
   "id": "b820b0d3",
   "metadata": {},
   "outputs": [],
   "source": [
    "using Gridap\n",
    "using FileIO #Gráficos y salidas\n",
    "using GridapGmsh\n",
    "#using gmsh #]add https://github.com/koehlerson/gmsh.jl.git\n",
    "#NEVER USE using Gmsh!!!\n",
    "#import Gmsh: gmsh"
   ]
  },
  {
   "cell_type": "code",
   "execution_count": null,
   "id": "3c1e617a",
   "metadata": {},
   "outputs": [],
   "source": [
    "#plot_s = false #true\n",
    "plot_s = true\n",
    "if plot_s\n",
    "    #using Pkg; Pkg.activate(\"./gridap_makie\")\n",
    "    #Pkg.add(Pkg.PackageSpec(;name=\"Makie\", version=\"0.12\"))\n",
    "    using Makie\n",
    "    using GridapMakie, GLMakie #Para graficar \n",
    "    GLMakie.activate!(inline=true) # For windows on the notebook itself. Comment out if you want the as pop-out plots.\n",
    "end"
   ]
  },
  {
   "cell_type": "markdown",
   "id": "c937a20a",
   "metadata": {},
   "source": [
    "We will use meshes built with the `gmsh` library, through the script ```mesh_generator.jl```. Note that in the script, the three boundaries are named: the external (rectangular) one as `\"ext\"` and the internal ones as `\"inner_circle\"` and `\"inner_square\"`. Based on the script and following the `gmsh` tutorial, you can build other meshes as well. Other libraries can also be used to build meshes. These are imported into the **Gridap** infrastructure, and with them the triangulation to be used is constructed."
   ]
  },
  {
   "cell_type": "code",
   "execution_count": null,
   "id": "1d5a222b",
   "metadata": {},
   "outputs": [],
   "source": [
    "create_grid = false\n",
    "\n",
    "#Grid resolution:\n",
    "res = 1 # 1, 2 or 3"
   ]
  },
  {
   "cell_type": "code",
   "execution_count": null,
   "id": "1f481631",
   "metadata": {},
   "outputs": [],
   "source": [
    "if create_grid\n",
    "\n",
    "include(\"mesh_generator.jl\")\n",
    "grid_type = \"rectangle_hole_square\"\n",
    "\n",
    "#Resoluciones:\n",
    "res = 1\n",
    "\n",
    "if res == 1\n",
    "    lc = 1e-1\n",
    "    lc_f = 0.25e-1\n",
    "    name = grid_type * \"_coarse\"\n",
    "elseif res == 2 \n",
    "    lc = 5e-2\n",
    "    lc_f = 2.5e-2\n",
    "    name = grid_type * \"_intermediate\"\n",
    "elseif res == 3\n",
    "    lc = 1e-2\n",
    "    lc_f = 0.25e-2\n",
    "    name = grid_type * \"_finner\"\n",
    "end\n",
    "    \n",
    "#Lados exteriores de la grilla rectangular\n",
    "side_x = 2\n",
    "side_y = 1\n",
    "\n",
    "#Rectangulo interior\n",
    "rec_base = 0.25  #Coordenada y de la base\n",
    "rec_top = 0.75   #Coordenada y del lado superior\n",
    "rec_left = 1.25  #Coordenada x del lado izquierdo\n",
    "rec_right = 1.75 #Coordenada x del lado derecho\n",
    "\n",
    "#Circulo interior\n",
    "circ_center_x = 0.5  #Coordenada x del centro\n",
    "circ_center_y = 0.5  #Coordenada y del centro\n",
    "circ_radius = 0.25   #Radio\n",
    "\n",
    "\n",
    "\n",
    "p = (name, side_x, side_y, circ_center_x, circ_center_y, circ_radius, rec_base, rec_top, rec_left, rec_right, lc, lc_f)\n",
    "\n",
    "model = make_model(grid_type, p)\n",
    "\n",
    "end"
   ]
  },
  {
   "cell_type": "markdown",
   "id": "08ffa10d",
   "metadata": {},
   "source": [
    "You can also upload the grid once is created and stored in the directory: models"
   ]
  },
  {
   "cell_type": "code",
   "execution_count": null,
   "id": "01bff4d8",
   "metadata": {},
   "outputs": [],
   "source": [
    "if create_grid == false\n",
    "    model = GmshDiscreteModel(\"models/rectangle_hole_square_coarse.msh\")\n",
    "end"
   ]
  },
  {
   "cell_type": "code",
   "execution_count": null,
   "id": "248aacdb",
   "metadata": {},
   "outputs": [],
   "source": [
    "Ω = Triangulation(model)"
   ]
  },
  {
   "cell_type": "code",
   "execution_count": null,
   "id": "464786a9",
   "metadata": {},
   "outputs": [],
   "source": [
    "degree = 3\n",
    "dΩ = Measure(Ω,degree)"
   ]
  },
  {
   "cell_type": "code",
   "execution_count": null,
   "id": "6c21bb7b",
   "metadata": {},
   "outputs": [],
   "source": [
    "if plot_s\n",
    "    fig, ax = plot(Ω)\n",
    "    ax.aspect = AxisAspect(2)\n",
    "    wireframe!(Ω, color=:black, linewidth=1)\n",
    "    scatter!(Ω, marker=:star8, markersize=4, color=:blue)\n",
    "    fig\n",
    "end\n",
    "display(fig)"
   ]
  },
  {
   "cell_type": "markdown",
   "id": "1eeb6358",
   "metadata": {},
   "source": [
    "We can also plot the different boundaries:"
   ]
  },
  {
   "cell_type": "code",
   "execution_count": null,
   "id": "eedad4ba",
   "metadata": {},
   "outputs": [],
   "source": [
    "boundary_tags = [\"inner_circle\", \"inner_square\", \"ext\"]\n",
    "\n",
    "Γ = BoundaryTriangulation(model,tags=boundary_tags)\n",
    "dΓ = Measure(Γ,degree)\n",
    "\n",
    "if plot_s\n",
    "    fig, ax = plot(Γ, linewidth=8)\n",
    "    ax.aspect = AxisAspect(2)\n",
    "    wireframe!(Γ, color=:black, linewidth=1)\n",
    "    fig\n",
    "end\n",
    "display(fig)"
   ]
  },
  {
   "cell_type": "markdown",
   "id": "dea90517",
   "metadata": {},
   "source": [
    "We are going to choose two simple problems to calculate the capacitance matrix of a set of conductors. We will take the conductors as the two bodies: the circle and the square, and we will set constant potential conditions. The external boundary will be considered as *infinity* and we will always set the potential to zero there."
   ]
  },
  {
   "cell_type": "code",
   "execution_count": null,
   "id": "ff80361a",
   "metadata": {},
   "outputs": [],
   "source": [
    "capacity_cs = false # potencial 1 en el círculo y potencial 0 en el cuadrado.\n",
    "capacity_sc = false # potencial 0 en el círculo y potencial 1 en el cuadrado.\n",
    "capacity_cs = true\n",
    "#capacity_sc = true "
   ]
  },
  {
   "cell_type": "markdown",
   "id": "324782d5",
   "metadata": {},
   "source": [
    "Once we have the mesh, we begin to define the finite elements that we will use. In this case, we will use Lagrangian elements of **order 1** that will satisfy a Dirichlet condition on the region $\\partial \\Omega_{int}$. When the mesh is built, this region has been marked as the interior boundary of the rectangle with the `tag` `\"int\"`."
   ]
  },
  {
   "cell_type": "code",
   "execution_count": null,
   "id": "1c6f0526",
   "metadata": {},
   "outputs": [],
   "source": [
    "order = 1\n",
    "reffe = ReferenceFE(lagrangian,Float64,order)\n",
    "\n",
    "dirichlet_tags= [\"inner_circle\", \"inner_square\",\"ext\"] \n",
    "\n",
    "V = TestFESpace(model,reffe;conformity=:H1,dirichlet_tags = dirichlet_tags)\n",
    "#V = TestFESpace(model,reffe;conformity=:L2,dirichlet_tags = dirichlet_tags) #no funciona la inversión. "
   ]
  },
  {
   "cell_type": "markdown",
   "id": "078ea6aa",
   "metadata": {},
   "source": [
    "We now assign the boundary values:"
   ]
  },
  {
   "cell_type": "code",
   "execution_count": null,
   "id": "c13d35ad",
   "metadata": {},
   "outputs": [],
   "source": [
    "# internal Dirichlet boundary condition\n",
    "g(x) = 1.0 # esta puede ser una función de x (vector posición)\n",
    "if capacity_cs\n",
    "    U = TrialFESpace(V,[g 0.0 0.0])\n",
    "elseif capacity_sc\n",
    "    U = TrialFESpace(V,[0.0 g 0.0])\n",
    "end"
   ]
  },
  {
   "cell_type": "markdown",
   "id": "4771fc5f",
   "metadata": {},
   "source": [
    "Next we define the weak problem in abstract form:"
   ]
  },
  {
   "cell_type": "code",
   "execution_count": null,
   "id": "fb28c19a",
   "metadata": {},
   "outputs": [],
   "source": [
    "f(x) = 0 # in this case we are taking the source to vanish, but in principle we could put a charge distribution inside.\n",
    "\n",
    "a(u,v) = ∫( ∇(v)⋅∇(u) )*dΩ  # in a(u,v) goes all the terms linear in the unknown, u. \n",
    "\n",
    "b(v) = ∫(v*f )*dΩ # here everything else.\n"
   ]
  },
  {
   "cell_type": "markdown",
   "id": "f249aed6",
   "metadata": {},
   "source": [
    "From this point on the package **Gridap.jl** generates a system of the form: $Ax=b$ and solves it for $u$ in the finite element version given. It first computes the matrices:"
   ]
  },
  {
   "cell_type": "code",
   "execution_count": null,
   "id": "662d81e0",
   "metadata": {},
   "outputs": [],
   "source": [
    "op = AffineFEOperator(a,b,U,V)"
   ]
  },
  {
   "cell_type": "markdown",
   "id": "5fce61fc",
   "metadata": {},
   "source": [
    "Then it solves with some of the possible known strategies. Here we give two of them, the first is just an L-U decomposition (Lower triangular Unitary). The second it the `/` operator of Julia, which in general would use the most powerful method for the case."
   ]
  },
  {
   "cell_type": "code",
   "execution_count": null,
   "id": "c7c13dda",
   "metadata": {},
   "outputs": [],
   "source": [
    "ls = LUSolver()\n",
    "lb = BackslashSolver() # x = A \\ b\n",
    "solver = LinearFESolver(lb)"
   ]
  },
  {
   "cell_type": "markdown",
   "id": "730e194d",
   "metadata": {},
   "source": [
    "And we solve it. We call the solution $u_h$."
   ]
  },
  {
   "cell_type": "code",
   "execution_count": null,
   "id": "b2a49572",
   "metadata": {},
   "outputs": [],
   "source": [
    "uh = solve(solver,op)\n",
    "#uh = solve(op)"
   ]
  },
  {
   "cell_type": "markdown",
   "id": "9cc3f474",
   "metadata": {},
   "source": [
    "Now we can plot the found approximation and also save it in a format that can be given to Paraview or VisIt for ploting and processing.\n"
   ]
  },
  {
   "cell_type": "code",
   "execution_count": null,
   "id": "361ee729",
   "metadata": {},
   "outputs": [],
   "source": [
    "if plot_s \n",
    "    fig, ax, plt = plot(Ω, uh)\n",
    "    ax.aspect = AxisAspect(2)\n",
    "    Colorbar(fig[2,1], plt, vertical=false)\n",
    "    fig\n",
    "end"
   ]
  },
  {
   "cell_type": "code",
   "execution_count": null,
   "id": "0cabd383",
   "metadata": {},
   "outputs": [],
   "source": [
    "if capacity_cs\n",
    "    writevtk(Ω,\"images/solucion_cs_$res\",cellfields=[\"uh_cs_$res\" => uh])\n",
    "    writevtk(Ω,\"images/grad_cs_$res\",cellfields=[\"grad_uh_cs_$res\" => ∇(uh)])\n",
    "elseif capacity_sc\n",
    "    writevtk(Ω,\"images/solucion_sc_$res\",cellfields=[\"uh_sc_$res\" => uh])\n",
    "    writevtk(Ω,\"images/grad_cs_$res\",cellfields=[\"grad_uh_cs_$res\" => ∇(uh)])\n",
    "end"
   ]
  },
  {
   "cell_type": "markdown",
   "id": "312b8abd",
   "metadata": {},
   "source": [
    "Once we obtain the approximations we can compute some physical quantities of interest.\n",
    "Like, for instance, the charges on each of the conductors. Here we compute the charge in the exterior and interior. Note the sign change for the interior, this is due to the fact that the package takes alwais the normal pointing to the exterior of the mesh. \n",
    "\n",
    "Recall the charge is defined as: \n",
    " \n",
    "\\begin{equation}\n",
    "Q_i = \\int_{\\partial \\Omega_i} \\sigma dS =  \\frac{1}{4\\pi}\\int_{\\partial \\Omega_i} E \\cdot \\; dS\n",
    "\\end{equation}\n",
    "\n",
    "While the **capacity matrix** as: \n",
    "\n",
    "\\begin{equation}\n",
    "Q_i = C_{ij}V^j\n",
    "\\end{equation}"
   ]
  },
  {
   "cell_type": "code",
   "execution_count": null,
   "id": "77256125",
   "metadata": {},
   "outputs": [],
   "source": [
    "Γ_ext = BoundaryTriangulation(model,tags=\"ext\")\n",
    "dΓ_ext = Measure(Γ_ext,degree)\n",
    "nb_ext = get_normal_vector(Γ_ext) # this is the normal to the boundary.\n",
    "Q_ext = -sum(∫((nb_ext ⋅ ∇(uh)))*dΓ_ext)/4/π"
   ]
  },
  {
   "cell_type": "code",
   "execution_count": null,
   "id": "00f61bc7",
   "metadata": {},
   "outputs": [],
   "source": [
    "Γ_square = BoundaryTriangulation(model,tags=\"inner_square\")\n",
    "dΓ_square = Measure(Γ_square,degree)\n",
    "nb_square = get_normal_vector(Γ_square)\n",
    "Q_square = sum(∫((nb_square ⋅ ∇(uh)))*dΓ_square)/4/π"
   ]
  },
  {
   "cell_type": "code",
   "execution_count": null,
   "id": "57855d7d",
   "metadata": {},
   "outputs": [],
   "source": [
    "Γ_circle = BoundaryTriangulation(model,tags=\"inner_circle\")\n",
    "dΓ_circle = Measure(Γ_circle,degree)\n",
    "nb_circle = get_normal_vector(Γ_circle)\n",
    "Q_circle = sum(∫((nb_circle ⋅ ∇(uh)))*dΓ_circle)/4/π"
   ]
  },
  {
   "cell_type": "code",
   "execution_count": null,
   "id": "0c1b089e",
   "metadata": {},
   "outputs": [],
   "source": [
    "Q_ext - Q_circle - Q_square # this number should vanish if there are no sources (charges) present."
   ]
  },
  {
   "cell_type": "markdown",
   "id": "f10ba8f4",
   "metadata": {},
   "source": [
    "We show an image with the program VisIt:"
   ]
  },
  {
   "cell_type": "markdown",
   "id": "96644386",
   "metadata": {},
   "source": [
    "![Una imagen con visIt](images/visit0004.png)"
   ]
  },
  {
   "cell_type": "code",
   "execution_count": null,
   "id": "778ee74e",
   "metadata": {},
   "outputs": [],
   "source": []
  }
 ],
 "metadata": {
  "kernelspec": {
   "display_name": "Julia 1.11.5",
   "language": "julia",
   "name": "julia-1.11"
  },
  "language_info": {
   "file_extension": ".jl",
   "mimetype": "application/julia",
   "name": "julia",
   "version": "1.11.5"
  }
 },
 "nbformat": 4,
 "nbformat_minor": 5
}
