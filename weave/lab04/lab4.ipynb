{
 "cells": [
  {
   "cell_type": "markdown",
   "metadata": {},
   "source": [
    "# Assignment 3\n",
    "\n",
    "**Authors:** Joaquín Pelle, Oscar Reula, Pablo Montes\n",
    "\n",
    "##### [Click here to download this notebook](/weave/lab04/lab4.ipynb)\n",
    "\n",
    "\n",
    "### Important 1: ###\n",
    "This notebook is designed to run on Julia 1.6 or later.\n",
    "\n",
    "### Important 2: ###\n",
    "Rename the file as:  \n",
    "**name_assignment_3.ipynb**\n",
    "\n",
    "**All generated code and the presentation must be included in this notebook.**\n",
    "\n",
    "**The objectives of this assignment are as follows:**\n",
    "\n",
    "1. To understand wave propagation and relate it to the need to impose boundary conditions according to the direction of propagation.\n",
    "\n",
    "2. To comprehend the scheme of imposing boundary conditions using finite difference operators with the Summation By Parts property.\n",
    "\n",
    "---\n",
    "\n",
    "**1)** In the directory, you will find a Julia notebook that allows you to evolve the advection equation by providing a boundary condition at the edge where the solution enters the integration region.  \n",
    "Try different initial and boundary conditions. What happens if you change the sign of the velocity?\n",
    "\n",
    "**2)** Note that the convergence of the method, in the $L^2$ norm, is of second order, even though the approximation at the boundary is first order.\n",
    "\n",
    "**3)** The fourth order Summation By Parts finite difference operator has the following matrix entries near $1$ and $N$:"
   ]
  },
  {
   "cell_type": "code",
   "execution_count": 1,
   "metadata": {},
   "outputs": [
    {
     "data": {
      "text/plain": [
       "4×6 Matrix{Float64}:\n",
       " -1.41176     1.73529   -0.235294  -0.0882353   0.0         0.0\n",
       " -0.5         0.0        0.5        0.0         0.0         0.0\n",
       "  0.0930233  -0.686047   0.0        0.686047   -0.0930233   0.0\n",
       "  0.0306122   0.0       -0.602041   0.0         0.653061   -0.0816327"
      ]
     },
     "metadata": {},
     "output_type": "display_data"
    }
   ],
   "source": [
    "using LinearAlgebra\n",
    "Head = [\n",
    "   -1.4117647059   1.7352941176  -0.2352941176  -0.0882352941   0.0           0.0\n",
    "   -0.5            0.0            0.5            0.0            0.0           0.0\n",
    "    0.0930232558  -0.6860465116   0.0            0.6860465116  -0.0930232558  0.0\n",
    "    0.0306122449   0.0           -0.6020408163   0.0            0.6530612245 -0.0816326531\n",
    "]"
   ]
  },
  {
   "cell_type": "markdown",
   "metadata": {},
   "source": [
    "Plus a standard band matrix part with bandwidth 5. Note that the bottom part of the matrix is not the same as the Head, but instead corresponds to an appropriate transposition and sign change of it."
   ]
  },
  {
   "cell_type": "code",
   "execution_count": 2,
   "metadata": {},
   "outputs": [
    {
     "data": {
      "text/plain": [
       "1×5 Matrix{Float64}:\n",
       " 0.666667  -0.0833333  0.0  0.0833333  0.666667"
      ]
     },
     "metadata": {},
     "output_type": "display_data"
    }
   ],
   "source": [
    "[0.6666666666666 -0.0833333333333 0 0.0833333333333 0.6666666666666]"
   ]
  },
  {
   "cell_type": "markdown",
   "metadata": {},
   "source": [
    "On the other hand, the inner product is given by:"
   ]
  },
  {
   "cell_type": "code",
   "execution_count": 3,
   "metadata": {},
   "outputs": [
    {
     "data": {
      "text/plain": [
       "10×10 Diagonal{Float64, Vector{Float64}}:\n",
       " 0.354167   ⋅        ⋅         ⋅        ⋅   …   ⋅         ⋅        ⋅ \n",
       "  ⋅        1.22917   ⋅         ⋅        ⋅       ⋅         ⋅        ⋅ \n",
       "  ⋅         ⋅       0.895833   ⋅        ⋅       ⋅         ⋅        ⋅ \n",
       "  ⋅         ⋅        ⋅        1.02083   ⋅       ⋅         ⋅        ⋅ \n",
       "  ⋅         ⋅        ⋅         ⋅       1.0      ⋅         ⋅        ⋅ \n",
       "  ⋅         ⋅        ⋅         ⋅        ⋅   …   ⋅         ⋅        ⋅ \n",
       "  ⋅         ⋅        ⋅         ⋅        ⋅       ⋅         ⋅        ⋅ \n",
       "  ⋅         ⋅        ⋅         ⋅        ⋅      0.895833   ⋅        ⋅ \n",
       "  ⋅         ⋅        ⋅         ⋅        ⋅       ⋅        1.22917   ⋅ \n",
       "  ⋅         ⋅        ⋅         ⋅        ⋅       ⋅         ⋅       0.354167"
      ]
     },
     "metadata": {},
     "output_type": "display_data"
    }
   ],
   "source": [
    "function h4(N)\n",
    "    h = ones(N)\n",
    "    # Set specialized values at the boundaries\n",
    "    h[1]   = 17/48\n",
    "    h[2]   = 59/48\n",
    "    h[3]   = 43/48\n",
    "    h[4]   = 49/48\n",
    "    h[end]     = h[1]\n",
    "    h[end-1]   = h[2]\n",
    "    h[end-2]   = h[3]\n",
    "    h[end-3]   = h[4]\n",
    "    return Diagonal(h)\n",
    "end\n",
    "\n",
    "h4(10)"
   ]
  },
  {
   "cell_type": "markdown",
   "metadata": {},
   "source": [
    "Construct the fourth-order operator and verify that it converges with order 4 in the $L^2$ norm (even though near the boundary the convergence drops to second order). Also, verify that it satisfies the Summation By Parts (SBP) property."
   ]
  },
  {
   "cell_type": "markdown",
   "metadata": {},
   "source": [
    "**4)** Now consider the wave equation, $\\phi_{tt} = c^2 \\phi_{xx}$. Decompose it into a first-order system with one mode propagating to the left and one to the right.  \n",
    "**Hint:** Determine what equation is satisfied by the combination $V_+ := \\phi_t - c\\phi_x$.  \n",
    "Use this decomposition to specify boundary conditions so that the problem is well-posed (but not overdetermined). Consider the following cases:\n",
    "\n",
    "1. Homogeneous boundary conditions: nothing enters, but the initial data is nonzero.\n",
    "2. Reflecting boundary conditions: whatever arrives as one mode enters as the other. To impose this condition, choose the combination of modes at the boundary so that $\\phi$ remains constant in time."
   ]
  },
  {
   "cell_type": "markdown",
   "metadata": {},
   "source": [
    "**5)** **For the adventurous:** Consider two adjacent regions, $L_L$ and $L_R$, in which the wave equation evolves but with different speeds $(c_L, c_R)$ (imagine that the regions are strings made of different materials or densities). Treat the interface between the media as a place where boundary conditions are specified according to what comes from the other region. Choose these conditions so that $\\phi_t$ and $\\phi_x$ are continuous across the interface.  \n",
    "Implement code that reflects the situation described.  \n",
    "- Implement boundary conditions on the left side of $L_R$ so that a sinusoidal wave enters.  \n",
    "- Implement boundary conditions on the right side of $L_L$ so that the outgoing wave is reflected and becomes incoming."
   ]
  },
  {
   "cell_type": "markdown",
   "metadata": {},
   "source": [
    "An example of what you should achieve (the scale of the waves is off, focus on there being a reflection and a transmission):\n"
   ]
  },
  {
   "cell_type": "markdown",
   "metadata": {},
   "source": [
    "![Ropes](ropes_anim_fps20.gif \"Example\")"
   ]
  },
  {
   "cell_type": "markdown",
   "metadata": {},
   "source": []
  }
 ],
 "metadata": {
  "celltoolbar": "Attachments",
  "kernelspec": {
   "display_name": "Julia 1.11.4",
   "language": "julia",
   "name": "julia-1.11"
  },
  "language_info": {
   "file_extension": ".jl",
   "mimetype": "application/julia",
   "name": "julia",
   "version": "1.11.4"
  },
  "latex_envs": {
   "LaTeX_envs_menu_present": true,
   "autoclose": false,
   "autocomplete": true,
   "bibliofile": "biblio.bib",
   "cite_by": "apalike",
   "current_citInitial": 1,
   "eqLabelWithNumbers": true,
   "eqNumInitial": 1,
   "hotkeys": {
    "equation": "Ctrl-E",
    "itemize": "Ctrl-I"
   },
   "labels_anchors": false,
   "latex_user_defs": false,
   "report_style_numbering": false,
   "user_envs_cfg": false
  }
 },
 "nbformat": 4,
 "nbformat_minor": 4
}
