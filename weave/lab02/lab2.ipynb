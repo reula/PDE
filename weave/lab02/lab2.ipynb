{
 "cells": [
  {
   "cell_type": "markdown",
   "id": "43fafbfd-b46f-4172-ae78-c8df8682e3e1",
   "metadata": {},
   "source": [
    "# Lab 1A\n",
    "\n",
    "*Authors: Pablo Montes, Oscar Reula, Joaquin Pelle*\n",
    "\n",
    "##### [Click here to download this notebook](/weave/lab01/lab1.ipynb)\n",
    "\n",
    "### Important 1: ###\n",
    "\n",
    "This notebook is designed to be run in Julia.\n",
    "\n",
    "### Important 2: ###\n",
    "\n",
    "Rename the file as: \n",
    "\n",
    "`lastname_firstname_lab_1.ipynb`\n",
    "\n",
    "**All generated code and the presentation must be included in this notebook.**\n",
    "\n",
    "**The objectives of the first assignments are varied:**\n",
    "\n",
    "1. Build some simple integrators and apply them to problems in 1 and 2 dimensions.\n",
    "2. Study convergence and determine the method's Q factor.\n",
    "3. Study the convergence region of the methods.\n",
    "4. Check the approximation errors both qualitatively and quantitatively.\n",
    "5. Get familiar with ODE integrator libraries.\n",
    "6. Get familiar with handling and analyzing solutions in moderately complex cases.\n",
    "7. Study the stiff case and IMEX methods.\n"
   ]
  },
  {
   "cell_type": "markdown",
   "id": "49a407e0-76a7-4388-8c5f-505885841cac",
   "metadata": {},
   "source": [
    "**1)** The differential equation\n",
    "\n",
    "$$\n",
    "\\frac{dy}{dt} = \\lambda y\n",
    "$$\n",
    "\n",
    "has as its solution the function  \n",
    "$$ y(t) = Ce^{\\lambda t}, $$\n",
    "where $C$ is a constant that depends on the initial condition.\n",
    "\n",
    "We will solve it numerically using the Euler method,  \n",
    "$$y(t+\\Delta t) \\approx y(t) + \\Delta t \\dfrac{dy}{dt}(t) = y(t) + \\Delta t \\lambda y(t)$$  \n",
    "taking $\\lambda = 2$ and initial condition $y(0) = 1$ over the time interval $[0,2]$.\n",
    "\n"
   ]
  },
  {
   "cell_type": "markdown",
   "id": "753d69c5-59cc-4312-a120-b999caeee5dc",
   "metadata": {},
   "source": [
    "**Implementation of the method:**\n",
    "\n",
    "A simple way to implement the Euler method would be the following:\n"
   ]
  },
  {
   "cell_type": "code",
   "execution_count": null,
   "id": "ca075429",
   "metadata": {},
   "outputs": [],
   "source": [
    "# Initial data\n",
    "λ = 2\n",
    "y0 = 1\n",
    "# Number of time steps and dt\n",
    "Tfin = 2.0\n",
    "N = 201\n",
    "dt = Tfin/(N-1)\n",
    "\n",
    "# Vectors to store the solution\n",
    "times = zeros(N)\n",
    "y = zeros(N)\n",
    "y[1] = y0\n",
    "# Time evolution using the Euler method\n",
    "for i in 2:N\n",
    "    times[i] = dt*(i-1)      # Update the value of t\n",
    "    y[i] = y[i-1] + dt*λ*y[i-1]  # Perform one Euler step\n",
    "end\n",
    "plot(times, y, label=\"Euler method\", xlabel=\"t\", ylabel=\"y(t)\", title=\"Exponential growth\", legend=:topright)"
   ]
  },
  {
   "cell_type": "markdown",
   "id": "9fc9ca98-697e-4bfc-b5f3-514c2c77e049",
   "metadata": {},
   "source": [
    "What we will do is split this procedure into a few small functions, so that in the future, if we want to change the numerical method or solve a different differential equation, we can do so directly. \n"
   ]
  },
  {
   "cell_type": "markdown",
   "id": "a4d79b02-b1c7-42b5-b69e-490beec8c5a6",
   "metadata": {},
   "source": [
    "Our implementation of Euler's method is as follows:"
   ]
  },
  {
   "cell_type": "code",
   "execution_count": null,
   "id": "3fd39532",
   "metadata": {},
   "outputs": [],
   "source": [
    "# Functions to numerically solve equations of the form dy/dt = f(y, par, t)\n",
    "\n",
    "function EulerStep(y, f, par, t, dt)\n",
    "    \"\"\"Euler method\"\"\"\n",
    "    return y + dt * f(y, par, t)          # Euler method step\n",
    "end\n",
    "\n",
    "function myODEproblem(f, y0, interval, par)\n",
    "    \"\"\"Return f, y0, the time interval, and the function parameters as a tuple\"\"\"\n",
    "    return (f, y0, interval, par)\n",
    "end\n",
    "\n",
    "function myODEsolver(Problem, Method; dt::Float64 = 0.01)\n",
    "    # Solve the problem 'Problem' using the method 'Method' with time step dt\n",
    "    f, y0, interval, par = Problem         # Specific data for the problem we're solving\n",
    "    tini, tfin = interval                  # Initial and final times\n",
    "    N = 1 + convert(Int64, (tfin - tini) / dt)  # Number of time steps\n",
    "    y = Array{typeof(y0[1])}(undef, N, length(y0))  # Array to store y\n",
    "    t = zeros(N)                           # Array to store t\n",
    "    y[1,:] .= y0                           # Initial condition\n",
    "    t[1] = tini\n",
    "    for i in 2:N\n",
    "        t[i] = tini + (i - 1) * dt\n",
    "        y[i,:] .= Method(y[i-1,:], f, par, t[i-1], dt)   # Time step\n",
    "    end\n",
    "    return (t, y)\n",
    "end\n"
   ]
  },
  {
   "cell_type": "code",
   "execution_count": null,
   "id": "e984733c-fceb-4df7-98fa-16bf6eb65df6",
   "metadata": {},
   "outputs": [],
   "source": [
    "# 1) Problem data:\n",
    "# Define the right-hand side of the ODE\n",
    "ExponentialGrowth(y, λ, t) = λ*(y)\n",
    "# Initial data\n",
    "λ = 1.0 \n",
    "y0 = 1.0\n",
    "# Time interval\n",
    "T = (0.0, 4.0)\n",
    "# Store the data in the variable \"prob\"\n",
    "par = (λ)\n",
    "prob = myODEproblem(ExponentialGrowth, y0, T, par)"
   ]
  },
  {
   "cell_type": "code",
   "execution_count": null,
   "id": "9198ef83-4dcd-4bdc-85a0-3a071d6cfb64",
   "metadata": {},
   "outputs": [],
   "source": [
    "# Number of time steps\n",
    "N = 101\n",
    "# Solve the problem \"prob\" using the \"EulerStep\" method \n",
    "# with N steps (dt = (Tfin - Tini)/(N - 1))\n",
    "dt = (T[2] - T[1]) / (N - 1)\n",
    "t, y = myODEsolver(prob, EulerStep, dt = dt)"
   ]
  },
  {
   "cell_type": "code",
   "execution_count": null,
   "id": "bf9dc169-a769-44a3-82cf-a404d82f11b3",
   "metadata": {},
   "outputs": [],
   "source": [
    "using Plots\n",
    "gr()\n",
    "plt = plot()\n",
    "plot!(plt, t, y, color = :red, label = \"Numerical Solution\")\n",
    "scatter!(plt, t, y, color = :red, label = \"\")\n",
    "plot!(plt, t, y0 * exp.(λ * t), label = \"Exact Solution\")\n",
    "plot!(plt, ylabel = \"y\", color = :blue, zlabel = \"z\")\n",
    "plot!(ylabel = \"\\$y(t)\\$\", xlabel = \"\\$t\\$\")\n",
    "plot!(plt, legend = :topleft)\n"
   ]
  },
  {
   "cell_type": "markdown",
   "id": "b04ab861-2fd9-4592-a9e7-54e9320ab677",
   "metadata": {},
   "source": [
    "**1a)** Try different values of `dt` and initial data. See what happens as `dt` increases or decreases. How does the system behave if $\\lambda$ and $y_0$ are complex numbers?\n",
    "\n",
    "*Hint: A complex number $c = a + bi$ is defined in Julia as `c = a + bim`. The functions `real(c)` and `imag(c)` return `a` and `b` respectively.*\n"
   ]
  },
  {
   "cell_type": "code",
   "execution_count": null,
   "id": "c764bc7c-89c8-4bf0-91e4-4c9db52ae9d3",
   "metadata": {},
   "outputs": [],
   "source": []
  },
  {
   "cell_type": "markdown",
   "id": "3eb1a471-f377-4952-ba97-681cefbd93f1",
   "metadata": {},
   "source": [
    "**1b)** Use the values $N=201$, $N=401$ and $N=801$ to compute the $Q$ factor of the Euler method. Choosing these $N$ values will give us three different values of $\\Delta t$, each half the value of the previous one.\n",
    "\n",
    " *Hint: Build a function that calculates the $Q$ factor given three solutions with three different resolutions. If the Q value you find is not working, verify that the $\\Delta t$ values are of the form $\\Delta t$, $\\Delta t/2$ and $\\Delta t / 4$. If you choose the wrong $N$ values this will not be the case.*"
   ]
  },
  {
   "cell_type": "code",
   "execution_count": null,
   "id": "cf1824a2-3211-4754-b48a-b00ae46a29ec",
   "metadata": {},
   "outputs": [],
   "source": []
  },
  {
   "cell_type": "markdown",
   "id": "437fb8ae-e006-40fd-b07c-960b93b6d032",
   "metadata": {},
   "source": [
    "**1c)**\n",
    "Using $\\lambda = 1, y_0 = 1$, implement the second- and fourth-order Runge-Kutta methods by creating two functions called `RK2step` and `RK4step`, similar to `EulerStep`. Plot again for different values of $N$ and compute the $Q$ factor for these methods.\n",
    " "
   ]
  },
  {
   "cell_type": "code",
   "execution_count": null,
   "id": "59c214bf-3bd6-4cee-ae3c-69c8eb613ce0",
   "metadata": {},
   "outputs": [],
   "source": []
  },
  {
   "cell_type": "markdown",
   "id": "3916e3b5-c083-4f4b-86a0-23d20d0e0880",
   "metadata": {},
   "source": [
    "**2) Stability of the solution**\n",
    "\n",
    "Consider the equation\n",
    "$$\n",
    "\\frac{dy}{dt} = y - y^2\n",
    "$$\n",
    "\n",
    "This equation has two stationary points: $y(t) = 1$ and $y(t) = 0$. Evolve the solution numerically with `y0 = 0:0.1:2` (that is, with initial data $y_0 = 0, y_0 = 0.1, ..., y_0 = 2$). Use the time interval $[0, 10]$. Plot using different methods and values of N and try to understand the behavior of the solution.\n",
    "\n",
    "*Optional:* To observe the behavior for negative $y_0$, try `y0 = (0:-0.1:-0.5)` over the time interval $[0,1]$.\n"
   ]
  },
  {
   "cell_type": "code",
   "execution_count": null,
   "id": "7e32fb2c-762d-41e0-92c2-e40840bef322",
   "metadata": {},
   "outputs": [],
   "source": []
  },
  {
   "cell_type": "markdown",
   "id": "eb7a07f4-2a09-4731-b502-0a385db6b2a2",
   "metadata": {},
   "source": [
    "**3) Systems of equations**\n",
    "\n",
    "The second-order ordinary differential equation\n",
    "$$\n",
    "\\dfrac{d^{2}u(t)}{dt^2} = -\\alpha^{2} u(t), \\quad \\alpha > 0\n",
    "$$\n",
    "\n",
    "has the general solution $u = A\\cos(\\alpha t) + B\\sin(\\alpha t)$.\n",
    "\n",
    "To solve it numerically, we can convert it into a system of first-order ordinary differential equations by defining $v = \\dfrac{du}{dt}$.\n",
    "\n",
    "$$\n",
    "    \\begin{array}{c}\n",
    "    \\dfrac{du}{dt} &= &  v \\\\\n",
    "    \\dfrac{dv}{dt} &= &-\\alpha^{2} u\n",
    "    \\end{array}\n",
    "$$\n",
    "\n",
    "**a)** Consider $$\\alpha = 1, \\quad u(0) = 1,\\quad  v(0) = 0.$$  \n",
    "Plot and compare the performance of the different methods with the exact solution.\n",
    "\n",
    "*Hint: define `y0 = [u0, v0]`*"
   ]
  },
  {
   "cell_type": "code",
   "execution_count": null,
   "id": "5b561d92-61c4-417e-a45b-2b795a97862d",
   "metadata": {},
   "outputs": [],
   "source": []
  },
  {
   "cell_type": "markdown",
   "id": "fe20e1e7",
   "metadata": {},
   "source": [
    "**4)** **Conservation**\n",
    "\n",
    "Consider the Lotka-Volterra predator-prey system. In this system of equations, $x$ represents a prey population, and $y$ represents a predator population.\n",
    "$$\n",
    "\\begin{aligned}\n",
    " \\frac{dx}{dt} &= \\alpha x - \\beta x y, \\\\\n",
    " \\frac{dy}{dt} &= - \\gamma y + \\delta x y ,\n",
    "\\end{aligned}\n",
    "$$\n",
    "\n",
    "$\\alpha$, $\\beta$, $\\gamma$ and $\\delta$ are positive constants. $\\alpha$ represents the growth rate of the prey population in the absence of predators, $\\gamma$ represents the decay rate of the predator population in the absence of prey, and $\\beta$ and $\\delta$ prepresents the decay and growth rate of the prey and predator populations due to predation.\n",
    "\n",
    "Consider a case where $x(0) = 1$, $y(0) = 1$ in the interval $t=[0,20]$, and parameters $\\alpha=1.5, \\beta=1, \\gamma=3, \\delta=1$. \n",
    "\n",
    "\n",
    "The function $V(x,y) = \\delta x - \\gamma \\ln(x) + \\beta y - \\alpha \\ln(y)$ is a conserved quantity, that is, it is constant throughout the evolution. You can verify this by seeing that \n",
    "$$\\dfrac{dV}{dt} = 0.$$\n",
    "\n",
    "***4.1)*** Solve the equation with Euler and Runge-Kutta 4 (and other methods if you want), and study how well conservation is numerically obeyed.\n",
    "\n",
    "***4.2)*** Find the fixed point of the equation, for which $\\dfrac{dx}{dt}=\\dfrac{dy}{dt}=0$. Plot the phase diagram $x$ vs. $y$ for several values of the initial data at different distances from the fixed point."
   ]
  },
  {
   "cell_type": "code",
   "execution_count": null,
   "id": "801278dc",
   "metadata": {},
   "outputs": [],
   "source": []
  },
  {
   "cell_type": "markdown",
   "id": "8d3ae52a",
   "metadata": {},
   "source": [
    "**5)** **Numerical Stability**\n",
    "\n",
    "***5.1)***\n",
    "Let's return to the equation from the previous notebook\n",
    "\n",
    "$$\n",
    "\\frac{dy}{dt} = \\lambda y\n",
    "$$\n",
    "\n",
    "Solve the equation with $\\lambda = -1$ in the time interval $[0,20]$, with $N = 100, 50, 30, 20, 10, 5$ (that is, for increasing $\\Delta t$). Experiment with Euler and Runge-Kutta and plot. What do you observe?.\n",
    "\n",
    "***5.2)*** Use the *stability_region* notebook to investigate the convergence region of various methods from the libraries. You don't need to do more than read the notebook, understand it, and run the examples. Ask all your questions in class, it's a concept that can be difficult to understand."
   ]
  },
  {
   "cell_type": "code",
   "execution_count": null,
   "id": "5bcdb305",
   "metadata": {},
   "outputs": [],
   "source": []
  },
  {
   "cell_type": "markdown",
   "id": "c05c8dad",
   "metadata": {},
   "source": [
    "**6) Solve your own differential equation**\n",
    "\n",
    "Use the `Differential Equations` package to solve your favourite ODE. You can draw inspiration from the examples section of \"https://docs.sciml.ai/DiffEqDocs/stable/\". Plot the $Q$ factor for two methods. Remember to pass the argument `adaptive=false` to the `solve()` function when doing this, otherwise it may adapt the `dt` value you are trying to use.\n",
    "\n",
    "***Documentation:***\n",
    "Optional arguments for the `solve` function: https://diffeq.sciml.ai/stable/basics/common_solver_opts/"
   ]
  },
  {
   "cell_type": "markdown",
   "id": "f1edadd6",
   "metadata": {},
   "source": []
  }
 ],
 "metadata": {
  "kernelspec": {
   "display_name": "Julia 1.11.4",
   "language": "julia",
   "name": "julia-1.11"
  },
  "language_info": {
   "file_extension": ".jl",
   "mimetype": "application/julia",
   "name": "julia",
   "version": "1.11.4"
  }
 },
 "nbformat": 4,
 "nbformat_minor": 5
}
