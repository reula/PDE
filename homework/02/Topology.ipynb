{
 "cells": [
  {
   "cell_type": "markdown",
   "metadata": {},
   "source": [
    "## Homework 2: Topology\n",
    "\n"
   ]
  },
  {
   "cell_type": "markdown",
   "metadata": {},
   "source": [
    "## Due date: "
   ]
  },
  {
   "cell_type": "markdown",
   "metadata": {},
   "source": [
    "### Student Name:\n",
    "\n"
   ]
  },
  {
   "cell_type": "markdown",
   "metadata": {},
   "source": [
    "**Exercise 1.**\n",
    "\n",
    "Find, for the case of the topology of the real line, an infinite intersection of open sets that is not open.\n"
   ]
  },
  {
   "cell_type": "markdown",
   "metadata": {},
   "source": [
    "**Answer 1.** "
   ]
  },
  {
   "cell_type": "markdown",
   "metadata": {},
   "source": [
    "**Exercise 2.**\n",
    "\n",
    "a) Prove that a metric space has a topology *induced* by its metric in a manner similar to $\\mathbb{R}$ in the previous example.\n",
    "\n",
    "b) See that $d(x,y)=1$ if $x \\neq y$ is a distance. What topology does this distance introduce?\n"
   ]
  },
  {
   "cell_type": "markdown",
   "metadata": {},
   "source": [
    "**Answer 2.** "
   ]
  },
  {
   "cell_type": "markdown",
   "metadata": {},
   "source": [
    "**Exercise 3.**\n",
    "\n",
    "1. Let $(X,d)$ be a metric vector space, prove that:\n",
    "\n",
    "    a. $C^1_x = \\{x'| d(x,x') \\leq 1 \\}$ is closed and is a neighborhood of $x$.\n",
    "\n",
    "    b) $N^{ϵ}_x =\\{x' | d(x,x') < ϵ \\}$, $ϵ >0$ is also a neighborhood of $x$.\n",
    "\n",
    "    c) $Int(N^{ϵ}_x) = N^{ϵ}_x$\n",
    "\n",
    "    d) $Cl(N^{ϵ}_x) = \\{x' | d(x,x') \\leq ϵ \\}$\n",
    "\n",
    "    e) $\\partial N^{ϵ}_x = \\{x' | d(x,x') = ϵ \\}$.\n",
    "\n",
    "2. Let $(X,\\cal{T})$ be a topological space and $A$ a subset of $X$. Prove that:\n",
    "\n",
    "    a) $A$ is open if and only if every $x \\in A$ has a neighborhood contained in $A$.\n",
    "\n",
    "    b) $A$ is closed if and only if every $x$ in $A^c$ (i.e., not belonging to $A$) has a neighborhood that does not intersect $A$.\n",
    "\n",
    "3. Let $(X,\\cal{T})$ be a topological space, let $A \\in X$ and $x \\in X$. Prove that:\n",
    "\n",
    "    a) $x \\in Int(A)$ if and only if $x$ has a neighborhood contained in $A$.\n",
    "\n",
    "    b) $x \\in Cl(A)$ if and only if every neighborhood of $x$ intersects $A$.\n",
    "\n",
    "    c) $x \\in \\partial A$ if and only if every neighborhood of $x$ contains points in $A$ and points in $A^c$.\n",
    "\n",
    "    \n"
   ]
  },
  {
   "cell_type": "markdown",
   "metadata": {
    "vscode": {
     "languageId": "julia"
    }
   },
   "source": [
    "**Answer 3.** "
   ]
  },
  {
   "cell_type": "markdown",
   "metadata": {},
   "source": [
    "**Exercise 4.**\n",
    "\n",
    "Review the proof of the following theorem:\n",
    "\n",
    "*The map $ϕ:X → Y$ is continuous if and only if it holds that: given any point $x ∈ X$ and any neighborhood $M$ of $ϕ(x)$, there exists a neighborhood $N$ of $x$ such that $ϕ(N) ⊂ M$.*\n",
    "\n"
   ]
  },
  {
   "cell_type": "markdown",
   "metadata": {},
   "source": [
    "**Answer 4.** "
   ]
  },
  {
   "cell_type": "markdown",
   "metadata": {},
   "source": [
    "**Exercise 5.**\n",
    "\n",
    "Let $ϕ : X → Y$ and $ψ : Y → Z$ be continuous maps, prove that $ψ ∘ ϕ : X → Z$ is also continuous. (Composition of maps preserves continuity.)\n",
    "\n"
   ]
  },
  {
   "cell_type": "markdown",
   "metadata": {},
   "source": [
    "**Answer 5.** "
   ]
  },
  {
   "cell_type": "markdown",
   "metadata": {},
   "source": [
    "**Exercise 6.** (optional)\n",
    "\n",
    "Prove that compact sets in the real line are closed and bounded.\n"
   ]
  },
  {
   "cell_type": "markdown",
   "metadata": {},
   "source": [
    "**Answer 6.** "
   ]
  },
  {
   "cell_type": "markdown",
   "metadata": {},
   "source": [
    "**Exercise 7.** (optional)\n",
    "\n",
    "a. Prove that if a space is Hausdorff then if a sequence has a limit point, it is unique.\n",
    "\n",
    "b. Let $X$ be compact, $Y$ be Hausdorff, and $ϕ: X → Y$ be continuous. Prove that the images of closed sets are closed.\n",
    "\n",
    "c. Find a counterexample if $Y$ is not Hausdorff."
   ]
  },
  {
   "cell_type": "markdown",
   "metadata": {},
   "source": [
    "**Answer 7.** "
   ]
  },
  {
   "cell_type": "markdown",
   "metadata": {},
   "source": []
  }
 ],
 "metadata": {
  "kernelspec": {
   "display_name": "Julia 1.11.0",
   "language": "julia",
   "name": "julia-1.11"
  },
  "language_info": {
   "file_extension": ".jl",
   "mimetype": "application/julia",
   "name": "julia",
   "version": "1.11.0"
  }
 },
 "nbformat": 4,
 "nbformat_minor": 2
}
