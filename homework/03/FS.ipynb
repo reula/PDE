{
 "cells": [
  {
   "cell_type": "markdown",
   "metadata": {},
   "source": [
    "## Homework 3: Functional Analysis"
   ]
  },
  {
   "cell_type": "markdown",
   "metadata": {},
   "source": [
    "## Due date: "
   ]
  },
  {
   "cell_type": "markdown",
   "metadata": {},
   "source": [
    "### Student Name:"
   ]
  },
  {
   "cell_type": "markdown",
   "metadata": {},
   "source": [
    "**Exercise 1. Normed Spaces**"
   ]
  },
  {
   "cell_type": "markdown",
   "metadata": {},
   "source": [
    "##### Examples:\n",
    "\n",
    "a. The normed vector space $l^2$ is the space of\n",
    "infinite sequences with the norm\n",
    "$\\|\\{x_i\\}\\|_2=\\sqrt{\\sum_{i=1}^{\\infty} x_i^2} < \\infty $.\n",
    "\n",
    " \n",
    "b. The normed vector space $l^{\\infty}$ is the space of\n",
    "infinite sequences with the norm\n",
    "$\\|\\{x_i\\}\\|_{\\infty}=sup_{i}\\{|x_i|\\}$. That is, the space of all\n",
    "bounded sequences.\n",
    "\n",
    "c. The normed vector space $C[a,b]$ is the space of\n",
    "continuous functions with the norm $\\|f\\|_c=sup_{x\\in [a,b]}\\{|f(x)|\\}$.\n",
    "That is, the space of bounded continuous functions on $[a,b]$.\n",
    "\n",
    "1. Show that the norms defined in the previous example are indeed norms."
   ]
  },
  {
   "cell_type": "markdown",
   "metadata": {},
   "source": [
    "\n",
    "\n",
    "2. Show that there are sequences in $l^{\\infty}$ that do not belong to\n",
    "$l^2$. Hint: Find one of them.\n",
    "\n",
    "\n",
    "3. Show that $\\|\\{x_i\\}\\|_n := \\sqrt[n]{\\sum_{i=1}^{\\infty} |x_i|^n}_{\\stackrel{\n",
    "\\textstyle \\longrightarrow}{\\scriptstyle n \\to \\infty}} sup_i \\{|x_i|\\}$.\n",
    "\n",
    "4. Convince yourself that, unlike the finite-dimensional case, an infinite-dimensional normed space is not necessarily complete. To illustrate this, consider the normed vector space $l_0^{\\infty}$, which is a subspace of $l^{\\infty}$ consisting of all bounded sequences with only a finite number of non-zero terms. Each sequence $\\{x_i\\}_n= (1,1/2,1/3,\\ldots,1/n,0,0,\\ldots) $ is in\n",
    "$l_0^{\\infty}$, the sequence of sequences $\\{\\{x_i\\}_n\\}$ is Cauchy \n",
    "$$\n",
    "\\left( \\|\\{x_i\\}_{m}-\\{x_i\\}_n\\|_{\\infty}=\\frac{1}{n+1}_{\\stackrel{\\textstyle\\longrightarrow}\n",
    "{\\scriptstyle n\\to\\infty}} 0 \\right)\n",
    "$$ \n",
    "and converges to the sequence $\\{x_i\\}_{\\infty}=( 1,1/2,\n",
    "1/3 ,\\ldots)\\in l^{\\infty}$ **which does not belong to** $l_0^{\\infty}$. Therefore,\n",
    "$l_0^{\\infty}$ is not complete.\n",
    "\n",
    "5. See that in $l^2$ the unit ball is not compact. \n",
    "Hint: find an infinite sequence in the unit ball that has no accumulation point.\n",
    "\n"
   ]
  },
  {
   "cell_type": "markdown",
   "metadata": {},
   "source": [
    "**Exercise 2. Hilbert Spaces**"
   ]
  },
  {
   "cell_type": "markdown",
   "metadata": {},
   "source": [
    "The following identity for norms arising from a scalar product is called \n",
    "*the parallelogram law*,\n",
    "$$\n",
    "\\|\\vec{x} + \\vec{y}\\|^2 + \\|\\vec{x} - \\vec{y}\\|^2  = \n",
    "                     2(\\|\\vec{x}\\|^2 + \\|\\vec{y}\\|^2). \n",
    "$$\n",
    "\n",
    "Show that a norm satisfies it if and only if it comes from an\n",
    "inner product. \n",
    "Hint: Use the so-called polarization identity to define an \n",
    "inner product from the norm,\n",
    "\\begin{equation*}\n",
    "  \\langle\\vec{x}, \\vec{y}\\rangle = \\frac{1}{4}\\{\n",
    "               [\\|\\vec{x} + \\vec{y}\\|^2 - \\|\\vec{x} - \\vec{y}\\|^2]\n",
    "              -\\Im [\\|\\vec{x} + \\Im \\vec{y}\\|^2 - \\|\\vec{x} - \\Im \\vec{y}\\|^2]\\}\n",
    "\\end{equation*}\n"
   ]
  },
  {
   "cell_type": "markdown",
   "metadata": {},
   "source": [
    "**Exercise 3. Orthonormal Bases**"
   ]
  },
  {
   "cell_type": "markdown",
   "metadata": {},
   "source": [
    "Use Gram-Schmidt to obtain an orthonormal basis from\n",
    "the monomials \n",
    "$$\n",
    "1,\\;x,\\;x^2,\\;\\ldots,x^n,\\ldots,\n",
    "$$\n",
    "with respect to the Hilbert spaces obtained from the following\n",
    "inner products:\n",
    "1. $\\langle f,g \\rangle = \\int^1_{-1} \\bar fg \\;dx$ (In this case you will obtain the\n",
    "Legendre polynomials.)\n",
    "2. $\\langle f,g \\rangle = \\int^{\\infty}_{-\\infty} \\bar f g e^{-x^2} \\;dx$\n",
    "(In this case you will obtain the Hermite polynomials.)\n",
    "\n",
    "3. $\\langle f,g \\rangle = \\int^{\\infty}_0 \\bar f g e^{-x}\\; dx$\n",
    "(In this case you will obtain the Laguerre polynomials.)\n",
    "\n",
    " "
   ]
  },
  {
   "cell_type": "markdown",
   "metadata": {},
   "source": [
    "**Exercise 4 Linear maps and dual spaces**"
   ]
  },
  {
   "cell_type": "markdown",
   "metadata": {},
   "source": [
    "1. Let $\\phi:H \\to \\Complex$ be a linear map. Show that $\\phi$ is continuous\n",
    "if and only if it is bounded."
   ]
  },
  {
   "cell_type": "markdown",
   "metadata": {},
   "source": [
    "2. Show that the map $I:C[a,b] \\to \\Re$ given by \n",
    "\\begin{equation*}\n",
    "  I(f) := \\int_a^b f(x)dx,\n",
    "\\end{equation*}\n",
    "is a linear and continuous map."
   ]
  },
  {
   "cell_type": "markdown",
   "metadata": {},
   "source": [
    "3. Let $V$ be a finite-dimensional space and let $\\{\\vec{u}_i\\},\\;\\;i=1..n$\n",
    "be a basis and $\\{\\vec{\\theta}^i\\},\\;\\;i=1..n$ the corresponding dual basis.\n",
    "Let $\\vec{x} = \\sum_{i=1}^n x^i \\vec{u}_i$ be any vector in $V$ and\n",
    "$\\vec{\\omega} = \\sum_{i=1}^n \\omega_i \\vec{\\theta}^i$ \n",
    "be any linear functional,\n",
    "i.e., an element of $V'$. \n",
    "Consider the norm in $V$\n",
    "\\begin{equation*}\n",
    "  \\|\\vec{x}\\|_p := (\\sum_{i=1}^n |x^i|^p)^{\\frac{1}{p}}.\n",
    "\\end{equation*}\n",
    "See that this is a norm and prove that\n",
    "the norm induced in $V'$ by this is given by,\n",
    "\\begin{equation*}\n",
    "  \\|\\vec{\\omega}\\|_q := (\\sum_{i=1}^n |\\omega_i|^q)^{\\frac{1}{q}},\n",
    "\\end{equation*}\n",
    "where \n",
    "\\begin{equation*}\n",
    "  \\frac{1}{p} + \\frac{1}{q} = 1\\;\\;\\;\\;\\;\\;\\; (p,q \\geq 1);\n",
    "\\end{equation*}\n",
    "Hint: Express $\\vec{\\omega}(\\vec{x})$ in components with respect to the \n",
    "given bases/dual bases and then use (prove) Holder's inequality:\n",
    "\\begin{equation*}\n",
    "  |\\sum_{i=1}^{n} x^i \\omega_i | \\leq \n",
    "        (\\sum_{i=1}^n |x^i|^p)^{\\frac{1}{p}} \n",
    "        (\\sum_{i=1}^n |\\omega_i|^q)^{\\frac{1}{q}}.\n",
    "\\end{equation*}\n",
    "\n"
   ]
  },
  {
   "cell_type": "markdown",
   "metadata": {},
   "source": [
    "\n",
    "\n",
    "4. **Optional!** Let $c_0$ be the space of sequences \n",
    "$\\{x\\} = (x_1,x_2, \\dots)$\n",
    "converging to zero ($\\lim_{n \\to \\infty} x_n = 0$) with the norm\n",
    "\\begin{equation*}\n",
    "  \\|\\{x\\}\\|_{c_0} := \\sup_{i} \\{|x_i|\\}.\n",
    "\\end{equation*}\n",
    "Prove that the dual of the space $c_0$ is the space $l_1$ of absolutely summable sequences\n",
    "$\\{\\omega\\}= (\\omega_1,\\omega_2, \\dots)$ with the norm\n",
    "\\begin{equation*}\n",
    "  \\|\\{\\omega\\}\\|_{l_1} := \\sum_{i=1}^{\\infty} |\\omega_i|.\n",
    "\\end{equation*}\n",
    "Hints: \n",
    "Note that given an element of $l_1$, $\\{\\omega\\}=(\\omega_1,\\omega_2,\\dots)$,\n",
    "we have a linear functional given by,\n",
    "\\begin{equation*}\n",
    "  \\vec{\\omega}(\\{x\\}) := \\sum_{i=1}^{\\infty} x_i \\omega_i.\n",
    "\\end{equation*}\n",
    "Prove that this satisfies \n",
    "\\begin{equation*}\n",
    "  \\|\\vec{\\omega}\\| \\leq \\|\\{\\omega\\}\\|_{l_1}.\n",
    "\\end{equation*}\n",
    "Then find an element of norm equal to or less than one in $c_0$ \n",
    "and with its help see that \n",
    "\\begin{equation*}\n",
    "  \\|\\vec{\\omega}\\| \\geq \\|\\{\\omega\\}\\|_{l_1}.\n",
    "\\end{equation*}\n",
    "From which it is concluded that the norms are the same, that is, the map that sends $l_1 \\to c_0'$ is an isometry.\n",
    "**Warning!** one is tempted to use as the element above $x_n = sign(y_n)$ but that vector might not be an element of $c_0$!, so a limiting procedure must be used.\n",
    "It only remains to see that for each element of the dual of $c_0$, $\\vec{\\omega}$,\n",
    "there exists an element of $l_1$, $\\{\\omega\\}=(\\omega_1,\\omega_2,\\dots)$ such that \n",
    "$\\vec{\\omega}(\\{x\\}) = \\sum_{i=1}^{\\infty} x_i \\omega_i$ holds. \n",
    "To do this, construct a basis of $c_0$ and the respective basis of its dual.\n",
    "Note: at some point, you will have to use that the considered linear functionals\n",
    "are continuous."
   ]
  },
  {
   "cell_type": "markdown",
   "metadata": {},
   "source": []
  }
 ],
 "metadata": {
  "language_info": {
   "name": "python"
  }
 },
 "nbformat": 4,
 "nbformat_minor": 2
}
