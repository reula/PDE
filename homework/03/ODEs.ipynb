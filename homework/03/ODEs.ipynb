{
 "cells": [
  {
   "cell_type": "markdown",
   "metadata": {},
   "source": [
    "## Homework 3: Ordinary Differntial Equations"
   ]
  },
  {
   "cell_type": "markdown",
   "metadata": {},
   "source": [
    "## Due date: "
   ]
  },
  {
   "cell_type": "markdown",
   "metadata": {},
   "source": [
    "### Student Name:"
   ]
  },
  {
   "cell_type": "markdown",
   "metadata": {},
   "source": [
    "**Exercise 1. Linear Systems**"
   ]
  },
  {
   "cell_type": "markdown",
   "metadata": {},
   "source": [
    "a. Prove that $(\\vec{X}_{t_0}^t)^{-1}=\\vec{X}_t^{t_0}$.\n",
    "\n",
    "b. Prove that $\\vec{X}_{t_0}^t$ does not depend on the basis used.\n"
   ]
  },
  {
   "cell_type": "markdown",
   "metadata": {},
   "source": [
    "**Exercise 2. Systems and first integrals** "
   ]
  },
  {
   "cell_type": "markdown",
   "metadata": {},
   "source": [
    "Consider a body affected by a central force, that is,\n",
    "\\begin{equation}\n",
    "  m\\frac{d^2\\vec{x}}{dt^2} = f(r)\\vec{x}\\;\\;\\; r:= |\\vec{x}|.\n",
    "\\end{equation}\n",
    "\n",
    "a. Find an equivalent first-order system.\n",
    "\n",
    "b. Verify that given any (constant) vector $\\vec{c}$, then\n",
    "   $F(\\vec{x},\\vec{p}) := \\vec{c}\\cdot(\\vec{x}\\wedge \\vec{p})$,\n",
    "   where $\\vec{p} := \\frac{d\\vec{x}}{dt}$, is a first integral."
   ]
  },
  {
   "cell_type": "markdown",
   "metadata": {},
   "source": [
    "**Exercise 3. Fundametal theorem**"
   ]
  },
  {
   "cell_type": "markdown",
   "metadata": {},
   "source": [
    "a. If $M$ is a compact manifold (example: a sphere\n",
    "or a torus), it can be proven using the second corollary of the Fundamental Theorem that all \n",
    "its phase curves are defined for all $t$. \n",
    "However, there are some that might not\n",
    "closed, give an example."
   ]
  },
  {
   "cell_type": "markdown",
   "metadata": {},
   "source": [
    "Consider the equation:\n",
    "\\begin{equation}\n",
    "  \\frac{d\\vec{x}}{dt} = \\vec{x} \\wedge \\vec{\\omega}(\\vec{x}).\n",
    "\\end{equation}\n",
    "\n",
    "b. See that $R:= \\vec{x}\\cdot\\vec{x}$ is a first integral.\n",
    "\n",
    "c. Conclude that the solutions of this system exist for all time."
   ]
  },
  {
   "cell_type": "markdown",
   "metadata": {},
   "source": [
    "**Exercise 4. Stability**"
   ]
  },
  {
   "cell_type": "markdown",
   "metadata": {},
   "source": [
    "***The Volterra-Lotka Equation***\n",
    "\n",
    "Consider the system:\n",
    "\n",
    "\\begin{align*}\n",
    "  \\dot{x}_1 &=& (a-bx_2)x_1 \\nonumber \\\\\n",
    "  \\dot{x}_2 &=& -(c-f x_1)x_2,\n",
    "\\end{align*}\n",
    "$a, b, c, f \\geq 0$.\n",
    "\n",
    "a. Perform a coordinate and time transformation to bring it to the form,\n",
    "\\begin{align*}\n",
    "  \\dot{x}_1 &=& (1 - x_2)x_1 \\nonumber \\\\\n",
    "  \\dot{x}_2 &=& -(e - x_1)x_2\n",
    "\\end{align*}\n",
    "\n",
    "b. Plot the vector field and see that there are no non-trivial first integrals in the quadrants where at least one of the coordinates is negative.\n",
    "\n",
    "c. Find the equilibrium solutions and determine which are stable and which are not.\n",
    "\n",
    "d. Examine the positive quadrant using the transformation:\n",
    "$x_1 = e^{q_1}$, $x_2 = e^{q_2}$ and see that the quantity\n",
    "$f(q_1,q_2) := e q_1 + q_2 -(e^{q_1} + e^{q_2})$ is an integral\n",
    "of motion. Use this information to infer that in this\n",
    "quadrant the trajectories remain in bounded regions.\n",
    "\n",
    "e. Examine the linearized equations around the equilibrium solution in the positive quadrant and determine the frequency of oscillations of the variations near equilibrium that the system would have.\n",
    "\n",
    "Note, this equation describes the population of two competing species.\n",
    "What we have just seen is that the species do not grow indefinitely nor\n",
    "disappear. This last point tells us that the approximation is not\n",
    "very good...\n",
    "Note that $x_2$ represents a predator that depends exclusively on\n",
    "the prey $x_1$ for its subsistence, since if the prey becomes extinct, the predator follows.\n",
    "\n"
   ]
  },
  {
   "cell_type": "markdown",
   "metadata": {},
   "source": [
    "**A generalization**\n",
    "\n",
    "If in the previous system the species have other alternative means of\n",
    "subsistence then the resulting equations are:\n",
    "\\begin{align*}\n",
    "  \\dot{x}_1 &=& (1 -x_1 - ax_2)x_1 \\\\\n",
    "  \\dot{x}_2 &=& (1 -x_2 + bx_1)x_2\n",
    "\\end{align*}\n",
    "\n",
    "where another parameterization has been used.\n",
    "\n",
    "a. Find the equilibrium solutions for the cases i) $0< a <1$, \n",
    "and ii) $1 < a$.\n",
    "\n",
    "b. It is observed that $b \\approx 3a$ ($a$ indicates how aggressive the\n",
    "predator is). What is the value of $a$ if its instinct leads it to maximize the\n",
    "population of its species while maintaining a stable equilibrium?\n",
    "\n",
    "c. Look at the system near its equilibrium solution and determine the\n",
    "frequency of the oscillations in the number of species that you would expect\n",
    "in that environment."
   ]
  },
  {
   "cell_type": "markdown",
   "metadata": {},
   "source": [
    "**A larger system**\n",
    "\n",
    "Study the following system\n",
    "\\begin{align*}\n",
    "  \\dot{x}_1 &= x_1 - x_1x_2 - x_2^3 + x_3(x_1^2 + x_2^2 -1 - x_1 +x_1x_2+ x_2^3) \\\\\n",
    "  \\dot{x}_2 &= x_1 - x_3(x_1 - x_2 + x_1 x_2) \\\\\n",
    "  \\dot{x}_3 &= (x_3 -1)(x_3+2x_3x_2^2 + x_3^3)\n",
    "\\end{align*}\n",
    "\n",
    "a. Find the equilibrium points.\n",
    "\n",
    "b. Show that the planes $x_3=0$ and $x_3 = 1$ are invariant sets,\n",
    "(that is, solutions that start in them never leave them).\n",
    "\n",
    "c. Consider the invariant set $x_3 = 1$ and see if it has periodic solutions."
   ]
  },
  {
   "cell_type": "markdown",
   "metadata": {},
   "source": [
    "**Excercise 5 Limit Cycle**"
   ]
  },
  {
   "cell_type": "markdown",
   "metadata": {},
   "source": [
    "\n",
    "Consider the system:\n",
    "\\begin{align*}\n",
    "  \\dot{x}_1 &= x_2 + x_1(1-(x_1^2+x_2^2)) \\\\\n",
    "  \\dot{x}_2 &= -x_1 + x_2(1-(x_1^2+x_2^2)).\n",
    "\\end{align*}\n",
    "\n",
    "a. Transform this system into a pair of decoupled equations,\n",
    "\\begin{align*}\n",
    "  \\dot{r} &=  f(r) \\\\\n",
    "  \\dot{\\theta} &= -1.\n",
    "\\end{align*}\n",
    "\n",
    "b. Study the equilibrium points of the first equation and their stability.\n",
    "What is the solution of the original system corresponding to this equilibrium point?\n",
    "\n",
    "c. Plot solutions near these points, in the $(r,\\theta)$ plane and in the\n",
    "$(x_1,x_2)$ plane.\n",
    "\n",
    "d. Use the method described at the end of chapter 6 to corroborate the stability \n",
    "found in point b.\n"
   ]
  },
  {
   "cell_type": "markdown",
   "metadata": {},
   "source": []
  }
 ],
 "metadata": {
  "language_info": {
   "name": "python"
  }
 },
 "nbformat": 4,
 "nbformat_minor": 2
}
