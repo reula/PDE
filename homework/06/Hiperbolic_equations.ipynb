{
 "cells": [
  {
   "cell_type": "markdown",
   "metadata": {},
   "source": [
    "## Homework 6: Hyperbolic Equations"
   ]
  },
  {
   "cell_type": "markdown",
   "metadata": {},
   "source": [
    "## Due date: "
   ]
  },
  {
   "cell_type": "markdown",
   "metadata": {},
   "source": [
    "### Student Name:"
   ]
  },
  {
   "cell_type": "code",
   "execution_count": 2,
   "metadata": {},
   "outputs": [],
   "source": [
    "using Plots"
   ]
  },
  {
   "cell_type": "markdown",
   "metadata": {},
   "source": [
    "**Exercise 1. Burger's Equations** \n",
    "\n",
    "a.- Find an infinite number of conserved quantities for Burger's equations, $u_t = u * u_x$.\n",
    "\n",
    "b.- Let the initial data for Burger's equation be: $u_0(x) = heaviside(x)*heaviside(1-x)$. Draw the characteristic surfaces for that data. \n",
    "\n",
    "c.- Use the equation and integration by parts to get an estimate of the form:\n",
    "\n",
    "$$\n",
    "\\frac{d \\mathcal{E}}{dt} \\leq \\max{|u_x|} \\mathcal{E}\n",
    "$$\n",
    "where\n",
    "\n",
    "$$\n",
    "\\mathcal{E} := \\int [u^2 + u_x^2 + u_{xx}^2]\\;dx\n",
    "$$\n",
    "\n",
    "## esto va en otra guía\n",
    "\n",
    "a.- Find analytically the time and position of the first singularity, that is the time and position of the apearance of the shock. \n",
    "\n",
    "b.- Find the shock velocity and the shock decay funtions. Hint: Starting with a periodic step function as initial data the solution turns into a triangular shape. Since the Burger's equation preserves the area of the solutions we get a relation among the speed and hight of the solution. The other relation is the Rankine-Huginot. \n",
    "\n",
    "\n",
    "\n"
   ]
  },
  {
   "cell_type": "markdown",
   "metadata": {},
   "source": [
    "\n",
    "**Exercise 2. Propagation Cones** \n",
    "\n",
    "a.- Find a covector $n_a$ so that the following system is hyperbolic:\n",
    "\n",
    "\\begin{align*}\n",
    "l_1^a \\nabla_a \\phi_1 &= F_1(\\phi_1,\\phi_2,\\phi_3) \\\\\n",
    "l_2^a \\nabla_a \\phi_2 &= F_2(\\phi_1,\\phi_2,\\phi_3) \\\\\n",
    "l_3^a \\nabla_a \\phi_3 &= F_3(\\phi_1,\\phi_2,\\phi_3)\n",
    "\\end{align*}\n",
    "where the three vectors are linearly independent. \n",
    "What that condition on $n_a$ geometrically means? Find the Cones and Propagation Cones. \n",
    "Understand geometrically both constructions. \n",
    "\n",
    "b.- How many cones and co-cones can you construct by multiplying some of the equations by $-1$?\n",
    "\n",
    "c.- Find the cones and co-cones for the fluid equations:\n",
    "\n",
    "\\begin{align*}\n",
    "\\rho_t &= -(\\rho u)_x \\\\\n",
    "(\\rho u)_t &= -(\\frac{1}{2}\\rho u^2 + p)_x\n",
    "\\end{align*}\n",
    "where $p = p(\\rho)$ is the pressure, $\\rho$ the density and $u$ the fluid velocity."
   ]
  },
  {
   "cell_type": "markdown",
   "metadata": {},
   "source": []
  },
  {
   "cell_type": "markdown",
   "metadata": {},
   "source": [
    "**Exercise 3. Electromagnetism** \n",
    "\n",
    "Consider the evolutionary Maxwell equations:\n",
    "\n",
    "\\begin{align*}\n",
    "\\frac{\\partial \\vec{E}}{\\partial t} &= \\nabla \\wedge \\vec{B} \\\\\n",
    "\\frac{\\partial \\vec{B}}{\\partial t} &= -\\nabla \\wedge \\vec{E}\n",
    "\\end{align*}\n",
    "\n",
    "a.- Find the cones and co-cones.\n",
    "\n",
    "b.- Show that:\n",
    "\n",
    "$$\n",
    "\\mathcal{E} := \\int [\\vec{E}\\cdot \\vec{E} + \\vec{B} \\cdot \\vec{B}]\\; d^3x \n",
    "$$\n",
    "is conserved. \n",
    "\n",
    "\n",
    "\n",
    "The covariant treatment, including constraints, can be see from the example given in page 34 of Geroch article: https://arxiv.org/abs/gr-qc/9602055.\n",
    "There a generic hyperbolization is found for Electromagnetism in terms of the Faraday tensor $F_{ab}$."
   ]
  },
  {
   "cell_type": "markdown",
   "metadata": {},
   "source": []
  },
  {
   "cell_type": "markdown",
   "metadata": {},
   "source": []
  }
 ],
 "metadata": {
  "kernelspec": {
   "display_name": "Julia 1.11.2",
   "language": "julia",
   "name": "julia-1.11"
  },
  "language_info": {
   "file_extension": ".jl",
   "mimetype": "application/julia",
   "name": "julia",
   "version": "1.11.2"
  }
 },
 "nbformat": 4,
 "nbformat_minor": 2
}
