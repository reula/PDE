{
 "cells": [
  {
   "cell_type": "markdown",
   "metadata": {},
   "source": [
    "## Homework 6: Shocks"
   ]
  },
  {
   "cell_type": "markdown",
   "metadata": {},
   "source": [
    "## Due date: "
   ]
  },
  {
   "cell_type": "markdown",
   "metadata": {},
   "source": [
    "### Student Name:"
   ]
  },
  {
   "cell_type": "markdown",
   "metadata": {},
   "source": [
    "**Exercise 1.**\n",
    "\n",
    "Consider Burger's equation:\n",
    "\n",
    "a.- Find analytically the time and position of the first singularity, that is the time and position of the apearance of the shock. \n",
    "\n",
    "b.- Find the shock velocity and the shock decay funtions. Hint: Starting with a periodic step function as initial data the solution turns into a triangular shape. Since the Burger's equation preserves the area of the solutions we get a relation among the speed and hight of the solution. The other relation is the Rankine-Huginot. \n",
    "\n"
   ]
  },
  {
   "cell_type": "markdown",
   "metadata": {},
   "source": []
  },
  {
   "cell_type": "markdown",
   "metadata": {},
   "source": [
    "\n",
    "**Exercise 2.**\n",
    "\n",
    "Do as in **Exercise 1.** but for the equation:\n",
    "\n",
    "$$\n",
    "\\partial_t u = u^2 \\partial_x u\n",
    "$$\n",
    "\n",
    "What happens for the equation:\n",
    "\n",
    "$$\n",
    "\\partial_t u^2 = \\frac{1}{2}u^2\\partial_x u?\n",
    "$$"
   ]
  },
  {
   "cell_type": "markdown",
   "metadata": {},
   "source": []
  },
  {
   "cell_type": "markdown",
   "metadata": {},
   "source": [
    "**Exercise 3.**"
   ]
  },
  {
   "cell_type": "markdown",
   "metadata": {},
   "source": []
  }
 ],
 "metadata": {
  "kernelspec": {
   "display_name": "Julia 1.11.2",
   "language": "julia",
   "name": "julia-1.11"
  },
  "language_info": {
   "file_extension": ".jl",
   "mimetype": "application/julia",
   "name": "julia",
   "version": "1.11.2"
  }
 },
 "nbformat": 4,
 "nbformat_minor": 2
}
