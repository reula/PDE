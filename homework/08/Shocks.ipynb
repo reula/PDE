{
 "cells": [
  {
   "cell_type": "markdown",
   "metadata": {},
   "source": [
    "## Homework 6: Shocks"
   ]
  },
  {
   "cell_type": "markdown",
   "metadata": {},
   "source": [
    "## Due date: "
   ]
  },
  {
   "cell_type": "markdown",
   "metadata": {},
   "source": [
    "### Student Name:"
   ]
  },
  {
   "cell_type": "markdown",
   "metadata": {},
   "source": [
    "**Exercise 1.**\n",
    "\n",
    "Consider Burger's equation:\n",
    "\n",
    "$$\n",
    "    u_t + \\frac{1}{2}(u^2)_x = 0,\n",
    "$$\n",
    "\n",
    "a.- Find analytically the time and position of the first singularity, that is the time and position of the apearance of the shock. \n",
    "\n",
    "b.- With the initial conditios\n",
    "$$\n",
    "u(x,0) = \n",
    "    \\begin{cases} \n",
    "    1 & \\text{if } x \\leq 0, \\\\\n",
    "    1 - x & \\text{if } 0 < x < 1, \\\\\n",
    "    0 & \\text{if } x \\geq 1,\n",
    "    \\end{cases}\n",
    "$$\n",
    "\n",
    "1. Find the time \\( t \\) when the shock first forms.\n",
    "2. Determine the shock speed using the Rankine-Hugoniot condition.\n",
    "3. Sketch the characteristic curves and shock location.\n",
    "\n",
    "\n",
    "c.- With initial data:\n",
    "$$\n",
    "    u(x,0) = \n",
    "    \\begin{cases} \n",
    "    2 & \\text{if } x < 0, \\\\\n",
    "    1 & \\text{if } x \\geq 0.\n",
    "    \\end{cases}\n",
    "$$\n",
    "\n",
    "1. Verify that a shock forms immediately.\n",
    "2. Compute the shock speed using the Rankine-Hugoniot condition.\n",
    "3. Compute the decay function for the shock. That is, look at the solution difference at each side of the shock and determine how does this difference evolves in time. Hint: the solution turns into a triangular shape. Since the Burger's equation preserves the area of the solutions we get a relation among the speed and highth of the solution. The Rankine-Hugoniot relation gives another relation.\n",
    "\n",
    "d.- With initial conditions:\n",
    "$$\n",
    "    u(x,0) = \n",
    "    \\begin{cases} \n",
    "    0 & \\text{if } x < 0, \\\\\n",
    "    x & \\text{if } 0 \\leq x \\leq 1, \\\\\n",
    "    1 & \\text{if } x > 1.\n",
    "    \\end{cases}\n",
    "$$\n",
    "\n",
    "1. Identify the rarefaction wave region. \n",
    "2. Construct the rarefaction wave solution.\n",
    "3. Construct another solution having a shock.\n",
    "\n",
    "e.- With initial data:\n",
    "$$\n",
    "    u(x,0) = \n",
    "    \\begin{cases} \n",
    "    -1 & \\text{if } x < 0, \\\\\n",
    "    1 & \\text{if } x \\geq 0,\n",
    "    \\end{cases}\n",
    "$$\n",
    "\n",
    "1. Show that both a shock and a rarefaction are mathematically possible.\n",
    "2. Use the **Lax entropy condition** to justify the rarefaction solution.\n",
    "\n"
   ]
  },
  {
   "cell_type": "markdown",
   "metadata": {},
   "source": []
  },
  {
   "cell_type": "markdown",
   "metadata": {},
   "source": [
    "\n",
    "**Exercise 2.**\n",
    "\n",
    "Do as in **Exercise 1.** but for the equation:\n",
    "\n",
    "$$\n",
    "\\partial_t u = u^2 \\partial_x u\n",
    "$$\n",
    "\n",
    "What happens for the equation:\n",
    "\n",
    "$$\n",
    "\\partial_t u^2 = \\frac{1}{2}u^2\\partial_x u?\n",
    "$$"
   ]
  },
  {
   "cell_type": "markdown",
   "metadata": {},
   "source": []
  },
  {
   "cell_type": "markdown",
   "metadata": {},
   "source": [
    "**Exercise 3. Systems of Equations (Euler Equations)**\n",
    "\n",
    "1D Gas Dynamics Shock Tube\n",
    "    Solve the Riemann problem for the 1D Euler equations:\n",
    "$$\n",
    "    \\begin{aligned}\n",
    "    \\rho_t + (\\rho u)_x &= 0, \\\\\n",
    "    (\\rho u)_t + (\\rho u^2 + p)_x &= 0, \\\\\n",
    "    E_t + (u(E + p))_x &= 0,\n",
    "    \\end{aligned}\n",
    "$$\n",
    "\n",
    "with initial data:\n",
    "$$\n",
    "    (\\rho, u, p) = \n",
    "    \\begin{cases} \n",
    "    (\\rho_L, 0, p_L) & \\text{if } x < 0, \\\\\n",
    "    (\\rho_R, 0, p_R) & \\text{if } x > 0.\n",
    "    \\end{cases}\n",
    "$$\n",
    "\n",
    "a.- Describe the wave structure (shock, rarefaction, contact discontinuity).\n",
    "\n",
    "b.- State the Rankine-Hugoniot conditions for this system. (*typical structure:* rarefaction, contact discontinuity, shock.)\n",
    "\n"
   ]
  },
  {
   "cell_type": "markdown",
   "metadata": {},
   "source": [
    "**Exercise 4. Viscous Shocks (Vanishing Viscosity)**\n",
    "\n",
    "Study the traveling wave solution (namely a solution that moves without changing its form, that is a solution with in some referential is stationary) to:\n",
    "$$\n",
    "    u_t + u u_x = \\epsilon u_{xx},\n",
    "$$\n",
    "with boundary conditions:\n",
    "$$\n",
    "    u(-\\infty) = u_L, \\quad u(+\\infty) = u_R.\n",
    "$$\n",
    "\n",
    "1. Derive the ODE for the traveling wave profile $U(x - st)$$. Hint: the solution involves a $tanh$\n",
    "2. Solve for $U$ and show convergence to a discontinuity as $\\epsilon \\to 0$. "
   ]
  },
  {
   "cell_type": "markdown",
   "metadata": {},
   "source": []
  }
 ],
 "metadata": {
  "kernelspec": {
   "display_name": "Julia 1.11.2",
   "language": "julia",
   "name": "julia-1.11"
  },
  "language_info": {
   "file_extension": ".jl",
   "mimetype": "application/julia",
   "name": "julia",
   "version": "1.11.2"
  }
 },
 "nbformat": 4,
 "nbformat_minor": 2
}
