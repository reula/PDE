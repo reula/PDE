{
 "cells": [
  {
   "cell_type": "markdown",
   "metadata": {},
   "source": [
    "## Homework 10: Elliptic Equations"
   ]
  },
  {
   "cell_type": "markdown",
   "metadata": {},
   "source": [
    "## Due date: "
   ]
  },
  {
   "cell_type": "markdown",
   "metadata": {},
   "source": [
    "### Student Name:"
   ]
  },
  {
   "cell_type": "markdown",
   "metadata": {},
   "source": [
    "## 1. Warming up\n",
    "\n",
    "**a.-** Solve \n",
    "\n",
    "$$\n",
    "\\Delta u = f,\n",
    "$$\n",
    "in a rectangle of sides $(L_1,L_2)$,\n",
    "with the following boundary conditions and sources:\n",
    "\n",
    "1. Homogeneous Dirichlet boundary conditions and $f$ arbitrary in $L^2$.\n",
    "2. Homogeneous Neumann boundary conditions and $f$ arbitrary in $L^2$. What further condition is need to assert a solution exists?\n",
    "3. Mixed boundary conditions, look at what means a Robin boundary condition.\n",
    "\n",
    "**b.-** From the structure of the solutions check that if $f \\in H^s$ then $u \\in H^{s+2}$.\n",
    "\n",
    "**c.-** Solve for inhomogeneous Dirichlet boundary conditions. Assume you can decompose the boundary data into the boundaries values for the eigenfunctions of the Laplacian at the rectangle. What can you conclude about the smoothness of the solution in the interior?\n",
    "\n",
    "\n",
    "\n"
   ]
  },
  {
   "cell_type": "markdown",
   "metadata": {},
   "source": [
    "\n",
    "## 2. Clasification\n",
    "\n",
    "**Exercise 1.1**  \n",
    "Classify the following PDEs as elliptic, parabolic, or hyperbolic:\n",
    "1. $\\Delta u + u = 0$ (Helmholtz equation)  \n",
    "2. $u_{xx} + 2u_{xy} + u_{yy} = 0$  \n",
    "3. $u_{xx} - u_{yy} + 2u_x = 0$  \n",
    "4. $\\text{div}(a(x)\\nabla u) = f(x)$, where $a(x) > 0$.\n",
    "\n",
    "**Exercise 1.2**  \n",
    "Show that the PDE $u_{xx} + \\cos(x) u_{xy} + \\sin(x) u_{yy} = 0$ is elliptic in a region of $\\mathbb{R}^2$. Find this region.\n"
   ]
  },
  {
   "cell_type": "markdown",
   "metadata": {},
   "source": [
    "## 3. Maximum Principles\n",
    "**Exercise 3.1**  \n",
    "Prove the weak maximum principle for $\\Delta u = 0$ in a bounded domain $\\Omega \\subset \\mathbb{R}^n$: If $u \\in C^2(\\Omega) \\cap C(\\overline{\\Omega})$, then  \n",
    "$$\n",
    "\\max_{\\overline{\\Omega}} u = \\max_{\\partial \\Omega} u.\n",
    "$$\n",
    "\n",
    "**Exercise 3.2**  \n",
    "Let $u$ satisfy $\\Delta u \\geq 0$ in $\\Omega$. Show that if $u$ attains a maximum at an interior point, then $u$ is constant.\n",
    "\n",
    "**Exercise 3.3**  \n",
    "For $\\Delta u + c(x)u = 0$ with $c(x) \\leq 0$, prove that if $u$ attains a non-negative maximum inside $\\Omega$, then $u$ is constant."
   ]
  },
  {
   "cell_type": "markdown",
   "metadata": {},
   "source": [
    "## 4. Existence and Uniqueness\n",
    "**Exercise 4.1**  \n",
    "Use Lax-Milgram to show that the Dirichlet problem  \n",
    "$$\n",
    "-\\Delta u + u = f \\text{ in } \\Omega, \\quad u = 0 \\text{ on } \\partial \\Omega\n",
    "$$  \n",
    "has a unique weak solution in $H^1_0(\\Omega)$ for $f \\in L^2(\\Omega)$.\n",
    "\n",
    "**Exercise 4.2**  \n",
    "For the Neumann problem $-\\Delta u = f$ with $\\frac{\\partial u}{\\partial n} = g$:  \n",
    "(a) Find a necessary condition on $f,g$ for solvability.  \n",
    "(b) Show solutions are unique up to additive constants."
   ]
  },
  {
   "cell_type": "markdown",
   "metadata": {},
   "source": [
    "## 5. Variational Methods\n",
    "**Exercise 5.1**  \n",
    "Show that minimizers of  \n",
    "$$\n",
    "J(u) = \\int_\\Omega \\left( \\frac{1}{2} |\\nabla u|^2 - fu \\right) dx\n",
    "$$  \n",
    "over $H^1_0(\\Omega)$ solve $-\\Delta u = f$.\n",
    "\n",
    "**Exercise 5.2**  \n",
    "Prove the first Dirichlet eigenvalue $\\lambda_1$ of $-\\Delta$ satisfies:  \n",
    "$$\n",
    "\\lambda_1 = \\min_{\\substack{u \\in H^1_0(\\Omega) \\\\ u \\neq 0}} \\frac{\\int_\\Omega |\\nabla u|^2 dx}{\\int_\\Omega u^2 dx}.\n",
    "$$"
   ]
  },
  {
   "cell_type": "markdown",
   "metadata": {},
   "source": [
    "## 7. Nonlinear Elliptic Equations\n",
    "**Exercise 7.1**  \n",
    "Show that a weak solution exists for  \n",
    "$$\n",
    "-\\Delta u + u^3 = f \\text{ in } \\Omega, \\quad u = 0 \\text{ on } \\partial \\Omega,\n",
    "$$  \n",
    "when $f \\in L^2(\\Omega)$.\n",
    "\n",
    "**Exercise 7.2**  \n",
    "Prove that for $-\\Delta u = e^u$ in $\\Omega \\subset \\mathbb{R}^n$ bounded,  \n",
    "$$\n",
    "\\sup_\\Omega u \\leq \\sup_{\\partial \\Omega} u + C(\\Omega).\n",
    "$$"
   ]
  },
  {
   "cell_type": "markdown",
   "metadata": {},
   "source": []
  }
 ],
 "metadata": {
  "kernelspec": {
   "display_name": "Julia 1.11.2",
   "language": "julia",
   "name": "julia-1.11"
  },
  "language_info": {
   "file_extension": ".jl",
   "mimetype": "application/julia",
   "name": "julia",
   "version": "1.11.2"
  }
 },
 "nbformat": 4,
 "nbformat_minor": 2
}
