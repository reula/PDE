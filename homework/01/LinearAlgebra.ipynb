{
 "cells": [
  {
   "cell_type": "markdown",
   "metadata": {},
   "source": [
    "## Homework 1: Linear Algebra"
   ]
  },
  {
   "cell_type": "markdown",
   "metadata": {},
   "source": [
    "## Due date: "
   ]
  },
  {
   "cell_type": "markdown",
   "metadata": {},
   "source": [
    "### Student Name:\n",
    "\n"
   ]
  },
  {
   "cell_type": "markdown",
   "metadata": {},
   "source": [
    "**Exercise 1. Vectors**\n",
    "\n",
    "a.- Show that given a vector $\\vec{v}$ and a basis $\\{\\vec{e_i}\\}$ for $i=1, \\ldots ,n$, there exists a unique linear combination of the basis elements that determines it. That is, if $\\vec{v} = \\sum_i v^i \\vec{e_i}$ and $\\vec{v} = \\sum_i \\tilde{v}^i \\vec{e_i}$, then $v^i = \\tilde{v}^i$ for all $i=1, \\ldots ,n$.\n",
    "\n",
    "b.- Given two bases, $\\{\\vec{e_i}\\}$ and $\\{\\vec{\\tilde{e}_i}\\}$, we can express the elements of one in terms of the other,\n",
    "$\\vec{\\tilde{e}_j} = \\sum_i P_{j}{}^i \\vec{e_i}, \\;\\;\\;\\;\\;\\; \\vec{e_i} = \\sum_l R_{i}{}^l \\vec{\\tilde{e}_l}.$\n",
    "\n",
    "Show that $R_{i}{}^l = (P^{-1})_{i}{}^l$.\n",
    "\n",
    "c.- Let $S$ be a finite set, $S = \\{s_1, s_2, \\dots, s_n\\}$. Find a basis for the vector space of all functions from $S$ to $\\mathbb{R}$. Determine the dimension of this space.\n",
    "Show that the dimension of $V$ is unique, meaning it does not depend on the basis used to define it.\n",
    "\n",
    "\n"
   ]
  },
  {
   "cell_type": "markdown",
   "metadata": {},
   "source": []
  },
  {
   "cell_type": "markdown",
   "metadata": {},
   "source": [
    "**Exercise 2. Dual spaces**\n",
    "\n",
    "\n",
    "If $\\{\\vec{e}_i\\}$ for $i=1,\\ldots,n$ is a basis of vector space $V$, meaning a linearly independent set of vectors that span $V$, we can define $n$ elements of $V^*$ (called co-vectors) by the relation \n",
    "\n",
    "$$\n",
    "\\vec{\\theta^i}(\\vec{e}_j) = \\delta^i{}_{j}. \n",
    "$$\n",
    "That is, we define the action of $\\vec{\\theta^i}$ on the $\\{\\vec{e_j}\\}$ as in the equation above and then extend its action to any element of $V$ by writing this element in the basis $\\{\\vec{e}_i\\}$ and using the fact that the action must be linear.\n",
    "\n",
    "It can be easily seen that any $\\rho \\in V'$ can be obtained as a linear combination of the co-vectors $\\{\\vec{\\theta^j}\\}$, $j=1,\\ldots,n$ and that these are linearly independent, therefore they form a basis and thus the dimension of $V'$ is also $n$.\n",
    "\n",
    "a.- Show that $V^*$ is a vector space and that the ${\\vec{\\theta^i}}$ indeed form a basis.\n",
    "\n",
    "b.- Show that if $\\vec{v} = \\sum_{i=1}^{n} v^i \\vec{e}_i$ then,\n",
    "$$\n",
    "v^i = \\vec{\\theta^i}(\\vec{v}). \n",
    "$$\n",
    "\n",
    "\n",
    "c.- Let $V$ be the space of functions from a set with a finite number of elements, $n$, to the real numbers. Let a basis be given by:\n",
    "\n",
    "$$\n",
    "\\vec{e}_i (a) := \\left(\n",
    "    \\begin{array}{cl} 1 & \\text{if } a \\text{ is the } i\\text{-th element} \\\\ \n",
    "    0 & \\text{otherwise} \\end{array} \\right. \n",
    "$$\n",
    "\n",
    "Find the corresponding co-basis of its dual space.\n"
   ]
  },
  {
   "cell_type": "markdown",
   "metadata": {},
   "source": []
  },
  {
   "cell_type": "markdown",
   "metadata": {},
   "source": [
    "**Exercise 3: Tensors**\n",
    "\n",
    "Let $\\mathbf{\\varepsilon}$ be a completely antisymmetric tensor with $n$ entries in a vector space of dimension $n$, not identically zero, and \n",
    "$\\{\\vec{e}_i\\}$ be any set of $n$ vectors. \n",
    "\n",
    "a. Show that they form a basis if and only if\n",
    "$$\n",
    "\\mathbf{\\varepsilon} (\\vec{e_1}, \\ldots, \\vec{e_n}) \\neq 0.\n",
    "$$\n",
    "\n",
    "b. Let $\\mathbf{A}$ be any element of type ${1 \\choose 1}$: \n",
    "$$\n",
    "\\vec{u} \\in V, \\;\\; \\vec{v}^* \\in V^* \\to \\mathbf{A}(\\vec{u},\\vec{v}^*) \\in \\mathbb{R}.\n",
    "$$\n",
    "This tensor is also a linear map from $V \\to V$. Indeed, $\\mathbf{A}(\\vec{u},\\cdot)$ is also a vector, since identifying $V$ with $V^{**}$, it is the unique vector that takes any covector $\\vec{\\omega} \\in V^*$ and gives the number $\\mathbf{A}(\\vec{u},\\mathbf{\\omega})$. \n",
    "Among the linear maps from $V \\to V$ there is the identity map. What is the identity map as an element of ${1 \\choose 1}$?\n",
    "\n",
    "c. Let $\\{\\vec{e}_i\\}$ be any basis of $V$ and let\n",
    "$\\vec{a}_i$ be the vectors $\\vec{A}(\\vec{e_i},\\;\\;)$, then\n",
    "$$\n",
    "\\mathbf{\\varepsilon}(\\vec{a_1}, \\ldots, \\vec{a_n}) = \\mathbf{\\varepsilon}(\\mathbf{A}(\\vec{e_1},\\;\\;), \\ldots, \\mathbf{A}(\\vec{e_n},\\;\\;))\n",
    "$$ \n",
    "is also totally antisymmetric in the $\\{\\vec{e}_i\\}$ and therefore,\n",
    "\n",
    "$$\n",
    "\\mathbf{\\varepsilon}(\\mathbf{A}(\\vec{e_1},\\;\\;), \\ldots, \\mathbf{A}(\\vec{e_n},\\;\\;)) \\propto \\mathbf{\\varepsilon}(\\vec{e_1}, \\ldots, \\vec{e_n}).\n",
    "$$\n",
    "\n",
    "The proportionality constant is called the *determinant* of the map $\\mathbf{A}$:\n",
    "\n",
    "$$\n",
    "\\mathbf{\\varepsilon}(\\mathbf{A}(\\vec{e_1},\\;\\;), \\ldots, \\mathbf{A}(\\vec{e_n},\\;\\;)) =: \\det(\\mathbf{A}) \\mathbf{\\varepsilon}(\\vec{e_1}, \\ldots, \\vec{e_n}).\n",
    "$$\n",
    "Show that this constant does not depend on the particular basis used to define it. Thus, it is a function from the linear maps of $V$ to the reals.\n",
    "\n",
    "\n",
    "d. Let $\\mathbf{A}$ and $\\mathbf{B}$ be two linear maps from $V$ into itself, then we can define the product of them as: \n",
    "$\\mathbf{A} \\cdot \\mathbf{B} (\\vec{v}) := \\mathbf{A}(\\mathbf{B}(\\vec{v}))$. \n",
    "Show that $\\det(\\mathbf{A}\\mathbf{B}) = \\det(\\mathbf{A}) \\cdot \\det(\\mathbf{B})$."
   ]
  },
  {
   "cell_type": "markdown",
   "metadata": {},
   "source": []
  },
  {
   "cell_type": "markdown",
   "metadata": {},
   "source": [
    "**Exercise 4. Quotient spaces**\n",
    "\n",
    "Let $V$ be the vector space of continuos functions in $\\mathbb{R}$ and let $W$ the subset of $V$ consisting on all the functions that vanish in the interval $[0,1]$. \n",
    "\n",
    "a.- Show that $W$ is a vector subspace of $V$.\n",
    "\n",
    "b.- Consider the quotient space $V/W$, which other space can we associate it with?\n",
    "\n"
   ]
  },
  {
   "cell_type": "markdown",
   "metadata": {},
   "source": [
    "**Exercise 5. Norms**\n",
    "\n",
    "Let $V = \\mathbb{R}^2$, and $||(x,y)|| = \\max\\{|x|,|y|\\}$. What is the norm induced in $V'$?"
   ]
  },
  {
   "cell_type": "markdown",
   "metadata": {},
   "source": [
    "**Exercise 6. Invariant Subspaces**\n",
    "\n",
    "Find the invariant subspaces of the following linear maps on $\\mathbb{R}^2$\n",
    "\n",
    "$$\n",
    "A_1 := \\left[ \n",
    "    \\begin{array}{cc}\n",
    "    0 & 2 \\\\\n",
    "    1 & 0\n",
    "    \\end{array}\n",
    "    \\right]\n",
    "$$\n",
    "\n",
    "$$\n",
    "A_2 := \\left[ \n",
    "    \\begin{array}{cc}\n",
    "    1 & 2 \\\\\n",
    "    0 & 2\n",
    "    \\end{array}\n",
    "    \\right]\n",
    "$$\n",
    "\n",
    "$$\n",
    "A_3 := \\left[ \n",
    "    \\begin{array}{cc}\n",
    "    1 & 2 \\\\\n",
    "    0 & 1\n",
    "    \\end{array}\n",
    "    \\right]\n",
    "$$\n",
    "\n",
    "\n"
   ]
  },
  {
   "cell_type": "markdown",
   "metadata": {},
   "source": []
  }
 ],
 "metadata": {
  "language_info": {
   "name": "python"
  }
 },
 "nbformat": 4,
 "nbformat_minor": 2
}
