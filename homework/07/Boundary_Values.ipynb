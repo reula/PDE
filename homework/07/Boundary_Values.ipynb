{
 "cells": [
  {
   "cell_type": "markdown",
   "metadata": {},
   "source": [
    "## Homework 7: Hyperbolic Equations - Boundary Values"
   ]
  },
  {
   "cell_type": "markdown",
   "metadata": {},
   "source": [
    "## Due date: "
   ]
  },
  {
   "cell_type": "markdown",
   "metadata": {},
   "source": [
    "### Student Name:"
   ]
  },
  {
   "cell_type": "markdown",
   "metadata": {},
   "source": [
    "**Exercise 1: Characteristics and Boundary Conditions**\n",
    "\n",
    "Consider the advection equation:  \n",
    "\\begin{align*}\n",
    "u_t + a u_x = 0,\n",
    "\\end{align*}  \n",
    "for $x \\in (0,1),\\ t > 0$ and $a \\in \\mathbb{R} \\setminus \\{0\\}$ with initial condition $u(x,0) = u_0(x)$.\n",
    "\n",
    "1. Sketch the characteristics in the $(x, t)$ plane.\n",
    "2. Explain why a boundary condition is required at $x=0$ but not at $x=1$.\n",
    "3. What happens if you impose a boundary condition at $x=1$?\n",
    "\n",
    "\n",
    "**Exercise 2: First-Order Hyperbolic System and Incoming Characteristics**\n",
    "\n",
    "Consider the 1D wave equation in first-order form:\n",
    "\\begin{align*}\n",
    "u_t &= v_x \\\\\n",
    "v_t &= u_x\n",
    "\\end{align*}\n",
    "for $x \\in (0,1),\\ t > 0$ with initial data $u(x,0), v(x,0)$.\n",
    "\n",
    "1. Diagonalize the system using the change of variables $w^\\pm = u \\pm v$.\n",
    "2. Determine the characteristic speeds of $w^+$ and $w^-$.\n",
    "3. Based on the characteristic directions, determine:\n",
    "   - how many boundary conditions are needed,\n",
    "   - at which boundaries they must be imposed,\n",
    "   - and for which variables.\n",
    "\n",
    "**Exercise 3: Energy Conservation in the Wave Equation**\n",
    "\n",
    "Let $ u(x,t) $ satisfy the wave equation on $ (0,L) $:  \n",
    "\\begin{align*}\n",
    "u_{tt} = c^2 u_{xx}, \\quad x \\in (0,L),\\ t > 0,\n",
    "\\end{align*}  \n",
    "with smooth initial data $ u(x,0) = u_0(x),\\ u_t(x,0) = v_0(x) $ and smooth boundary conditions.\n",
    "\n",
    "1. Derive the energy identity:  \n",
    "\\begin{align*}\n",
    "\\frac{d}{dt} \\int_0^L \\left( \\frac{1}{2} u_t^2 + \\frac{c^2}{2} u_x^2 \\right) dx = \\text{boundary terms}.\n",
    "\\end{align*}\n",
    "2. For which of the following boundary conditions is the energy conserved?\n",
    "   - Dirichlet: $ u(0,t) = u(L,t) = 0 $\n",
    "   - Neumann: $ u_x(0,t) = u_x(L,t) = 0 $\n",
    "   - Mixed: $ u(0,t) = 0, \\ u_x(L,t) = 0 $\n",
    "3. Discuss how boundary conditions affect the stability and physical interpretation of the solution.\n"
   ]
  }
 ],
 "metadata": {
  "kernelspec": {
   "display_name": "Julia 1.11.2",
   "language": "julia",
   "name": "julia-1.11"
  },
  "language_info": {
   "file_extension": ".jl",
   "mimetype": "application/julia",
   "name": "julia",
   "version": "1.11.2"
  }
 },
 "nbformat": 4,
 "nbformat_minor": 2
}
