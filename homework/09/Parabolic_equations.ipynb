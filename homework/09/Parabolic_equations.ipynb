{
 "cells": [
  {
   "cell_type": "markdown",
   "metadata": {},
   "source": [
    "## Homework 7: Parabolic Equations"
   ]
  },
  {
   "cell_type": "markdown",
   "metadata": {},
   "source": [
    "## Due date: "
   ]
  },
  {
   "cell_type": "markdown",
   "metadata": {},
   "source": [
    "### Student Name:"
   ]
  },
  {
   "cell_type": "code",
   "execution_count": 2,
   "metadata": {},
   "outputs": [],
   "source": [
    "using Plots"
   ]
  },
  {
   "cell_type": "markdown",
   "metadata": {},
   "source": [
    "**Exercise 1. Maximum Principle Theorem**\n",
    "\n",
    "Let $u \\in C^1[0,T] \\times C^2(Ω)$, satisfying $\\partial_t - \\Delta u > 0$.\n",
    "\n",
    "a.- Show that,\n",
    "\n",
    "$$\n",
    "\\max{u}_{[0,T] \\times \\Omega} = \\max{u}_{\\partial([0,T] \\times \\Omega)}.\n",
    "$$\n",
    "\n",
    "b.- Extend to the case $\\partial_t - \\Delta u > 0$.\n",
    "\n",
    "c.- What does it say physically for the case of the heat equation?\n",
    "\n",
    "d.- Solve the heat equation in the interval $[0,L]$ with homogeneous Dirichlet boundary conditions and initial data $u_0(x) = x * (x-L)$, find the maximum for each time and check the validity of the above theorem. What happens if you now solve for boundary conditions $u_0(0) = 0, u_0(L) = L^2/8$. \n"
   ]
  },
  {
   "cell_type": "markdown",
   "metadata": {},
   "source": [
    "\n",
    "**Exercise 2. Solving using Fourier Series**\n",
    "\n",
    "a.- Solve the heat equation in the unit circle using Fourier Transform. \n",
    "\n",
    "b.- Using as initial data $u(x,t=0) = x*(1-x)$ find the maximum and its location for each time and check the validity of the maximum principle theorem of Exercise 1."
   ]
  },
  {
   "cell_type": "markdown",
   "metadata": {},
   "source": []
  },
  {
   "cell_type": "markdown",
   "metadata": {},
   "source": [
    "**Exercise 3. Sources**\n",
    "\n",
    "a.- Using a base of eigenfunctions solve for arbitrary sources the heat equation on the unit circle.\n",
    "\n",
    "b.- Check that the solution belongs to arbitrary Sobolev spaces in space for any $t>0$ even when it only belonged to $L^2$ at $t=0$. What does that say about the differentiability of the solution in space? And in time?"
   ]
  },
  {
   "cell_type": "markdown",
   "metadata": {},
   "source": []
  },
  {
   "cell_type": "markdown",
   "metadata": {},
   "source": [
    "**Exercise 4. Boundary Conditions**\n",
    "\n",
    "Solve the heat equation in an interval $[0,L]$.\n",
    "\n",
    "a.- With homogeneous Dirichlet boundary conditions $u(0,t)=u(L,t)=0$.\n",
    "\n",
    "b.- With homogeneous Neumann boundary conditions $u_x(0,t)=u_x(L,t)=0$.\n",
    "\n",
    "c.- With mixed boundary conditions $u(0,t)=0$ and $u_x(L,t)=0$. \n",
    "\n",
    "d.- With Robin boundary conditions $u(0,t)=0$ and $u_x(L,t) + au(L,t)=0$.\n",
    "\n",
    "e.- With periodic boundary conditions $u(0,t)=u(L,t)$ and $u_x(0,t)=u_x(L,t)$.\n",
    "\n",
    "f.- With non-homogeneous Dirichlet boundary conditions $u(0,t)=0$ and $u(L,t)=S$, where $S$ is a constant.\n",
    "\n",
    "g.- Compute the energy loss formula for the case d. For which values of $a$ the solution is stable? What does it mean physically?\n",
    "\n",
    "\n"
   ]
  },
  {
   "cell_type": "markdown",
   "metadata": {},
   "source": [
    "**Exercise 5. Behaviour of solutions, smoothness and infinite propagation speed of the heat equation.**\n",
    "Consider the heat equation in one space dimension:\n",
    "$$\n",
    "\\frac{\\partial u}{\\partial t} = \\alpha\\frac{\\partial^2 u}{\\partial x^2}, \\quad u(x,0) = u_0(x).\n",
    "$$\n",
    "a.- Show that the solution to the heat equation with initial data $u_0(x)$ is given by the convolution of the initial data with the fundamental solution:\n",
    "$$\n",
    "u(x,t) = \\int_{-\\infty}^{\\infty} K(x-y,t)u_0(y)dy,\n",
    "$$\n",
    "where the fundamental solution is given by:\n",
    "$$\n",
    "K(x,t) = \\frac{1}{\\sqrt{4\\pi \\alpha t}}e^{-\\frac{x^2}{4\\alpha t}}.\n",
    "$$\n",
    "\n",
    "b.- Show that the solution is smooth in both $x$ and $t$ for all $t>0$ and that the solution is infinitely differentiable in both $x$ and $t$ for all $t>0$.\n",
    "\n",
    "c.- Argue that even when the initial data is of compact support the solution extends to infinity for any $t>0$.\n",
    "\n",
    "d.- The solution decays exponentially fast as $|x| \\to ∞$."
   ]
  },
  {
   "cell_type": "markdown",
   "metadata": {},
   "source": []
  }
 ],
 "metadata": {
  "kernelspec": {
   "display_name": "Julia 1.11.2",
   "language": "julia",
   "name": "julia-1.11"
  },
  "language_info": {
   "file_extension": ".jl",
   "mimetype": "application/julia",
   "name": "julia",
   "version": "1.11.2"
  }
 },
 "nbformat": 4,
 "nbformat_minor": 2
}
