{
 "cells": [
  {
   "cell_type": "markdown",
   "id": "b53a2aab",
   "metadata": {},
   "source": [
    "# Assignment 5\n",
    "\n",
    "---\n",
    "\n",
    "### Important 1\n",
    "\n",
    "This notebook is designed to be run in Julia. \n",
    "\n",
    "---\n",
    "\n",
    "### Important 2\n",
    "\n",
    "Before handling it please rename this file accordingly as:  \n",
    "**group_name_assignment_5.ipynb**\n",
    "\n",
    "or \n",
    "\n",
    "**your_last_name_first_name_lab_5.ipynb**\n",
    "\n",
    "---\n",
    "\n",
    "All generated code and your presentation must be included in this notebook.\n",
    "\n",
    "---\n",
    "\n",
    "## Objectives\n",
    "\n",
    "- Become familiar with solving parabolic equations.\n",
    "- Test some of the analytic estimates covered in class.\n",
    "- Go through the process of implementing a new code."
   ]
  },
  {
   "cell_type": "markdown",
   "id": "23169866",
   "metadata": {},
   "source": [
    "## Problem 1:\n",
    "\n",
    "a. Take the code given in the class notebook to solve the one-dimensional heat equation and modify it so that it has non-trivial Neumann boundary conditions. \n",
    "\n",
    "b. Check that with homogeneous Neumann boundary conditions the sum of the vector components ```sum(sol(t))```is constant to a good precision.\n",
    "\n",
    "c. Check that the energy decays. \n",
    "\n",
    "d. Check that with homogeneous Dirichlet or Neumann boundary the $l^2$ norm of the finite difference approximation of a first order derivative satisfies the decay rate found in class. To fit data you can use the library ```LsqFit.jl```.\n",
    "For most data the dacay will be much faster. For which initial data you will approach the decay estimate? "
   ]
  },
  {
   "cell_type": "markdown",
   "id": "13fd8c38",
   "metadata": {},
   "source": []
  },
  {
   "cell_type": "markdown",
   "id": "93e083ce",
   "metadata": {},
   "source": [
    "---\n",
    "\n",
    "## Problem 2:\n",
    "\n",
    "Solve a 2D problem using the code given in the class notebook. Take a anulus between radious $R0 = 1$ and $R2 = 2$.\n",
    "Use $(r, \\theta)$ coordinates. In this coordinates the expression for the laplacian is:\n",
    "\n",
    "$$\n",
    "\\Delta u = \\frac{\\partial^2 u}{\\partial r^2} + \\frac{1}{r} \\frac{\\partial u}{\\partial r} + \\frac{1}{r^2} \\frac{\\partial^2 u}{\\partial \\theta^2} \n",
    "$$\n",
    "\n",
    "So, for a function $u(r, \\theta)$:\n",
    "\n",
    "$$\n",
    " \\boxed{ \\Delta u = u_{rr} + \\frac{1}{r} u_r + \\frac{1}{r^2} u_{\\theta\\theta} } \n",
    " $$\n",
    "\n"
   ]
  },
  {
   "cell_type": "markdown",
   "id": "6ce0d779",
   "metadata": {},
   "source": [
    "**a.** Solve this problem with interior Dirichelet boundary condtion given by $g_l(\\theta) = sin(\\theta)$ and Neumann exterior boundary condition. Notice that the $\\theta$ coordinate is periodic, so for it use the periodic finite difference operators. Evolve up to $T=1.0$\n",
    "Plot the initial data and the solution at that time. "
   ]
  },
  {
   "cell_type": "markdown",
   "id": "c60de253",
   "metadata": {},
   "source": [
    "**b.** Compute the analytic solution and compare. Study convergence."
   ]
  },
  {
   "cell_type": "markdown",
   "id": "0ab05146",
   "metadata": {},
   "source": [
    "**c.** If possible plot the results in cartesian coordinates."
   ]
  },
  {
   "cell_type": "markdown",
   "id": "aedc9cb9",
   "metadata": {},
   "source": []
  },
  {
   "cell_type": "markdown",
   "id": "eb714681",
   "metadata": {},
   "source": [
    "---\n",
    "\n",
    "## Problem 3:\n",
    "\n",
    "a. Solve Burger's equation with dissipation:\n",
    "\n",
    "$$\n",
    "\\partial_t u - u \\partial_x u - ε \\partial_x^2 u = 0\n",
    "$$\n",
    "\n",
    "In a domain $[-\\pi, \\pi]$ with Dirichlet boundary conditions on both extremes (using penalties), $u(-\\pi,t) = -1$, $u(\\pi, t) = 1$. Use as a initial data,\n",
    "\n",
    "$$\n",
    "f(x) = sin(x/2)\n",
    "$$\n",
    "\n",
    "b. Plot the results at $T=1.2$ for different $ε$'s. Study what happens when $\\varepsilon \\to 0$. \n",
    "\n"
   ]
  },
  {
   "cell_type": "markdown",
   "id": "b8c679cd",
   "metadata": {},
   "source": []
  }
 ],
 "metadata": {
  "kernelspec": {
   "display_name": "Julia 1.11.2",
   "language": "julia",
   "name": "julia-1.11"
  },
  "language_info": {
   "file_extension": ".jl",
   "mimetype": "application/julia",
   "name": "julia",
   "version": "1.11.2"
  }
 },
 "nbformat": 4,
 "nbformat_minor": 5
}
