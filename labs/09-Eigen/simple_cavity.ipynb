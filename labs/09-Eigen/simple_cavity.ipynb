{
 "cells": [
  {
   "cell_type": "markdown",
   "id": "2b0f763a",
   "metadata": {},
   "source": [
    "# Simple Model Cavity **Gridap version**\n",
    "\n",
    "Writen by: Oscar Reula (oreula@gmail.com)\n",
    "\n",
    "This code is used to compute the resonant frequencies and eigenvectors of a cavity. The model is 2-dimensional, that is it corresponds to infinite long structures in the  ẑ direction. \n",
    "This restriction is mainly due to have a code that can run in home computers in very short time.\n",
    "\n",
    "First the theory: we need to solve the following eigenfuntion problem: \n",
    "\n",
    "$$\n",
    "\\nabla \\cdot \\nabla u  = \\lambda u \\quad\\quad\\text{ in }\\Omega\n",
    "$$\n",
    "\n",
    "$$u = 0 \\text{ on } \\;\\;\\;\\partial\\Omega\n",
    "$$\n",
    "\n",
    "Where $\\Omega$ is some 2-dimensional region. "
   ]
  },
  {
   "cell_type": "markdown",
   "id": "22e54d48",
   "metadata": {},
   "source": [
    "In order to use finite elements we need to express the problem as a weak one:\n",
    "\n",
    "$$\n",
    "\\int_{\\Omega} \\nabla u\\,\\cdot \\nabla v\\, {\\rm d} x\n",
    "= \\lambda \\int_{\\Omega} u \\cdot v\\, {\\rm d} x \\quad \\forall  v \\in H^1_0(\\Omega),\n",
    "$$\n",
    "\n"
   ]
  },
  {
   "cell_type": "markdown",
   "id": "e34d7f3f",
   "metadata": {},
   "source": [
    "We shall incorporate a simple, known, case which we shall use to test the implementation, namely:\n",
    "\n",
    "$\\nabla \\cdot \\nabla u  = \\lambda u \\quad\\quad\\text{ in } \\Omega \\quad\\quad\\quad\n",
    "\\Omega = (0,\\pi)\\times(0,\\pi)$\n",
    "\n",
    "For this case we know the solutions: \n",
    "\n",
    "$u_{n,m}(x,y) = \\sin(n x)\\sin(m y), \\quad \\lambda = m^2 + n^2,$ $\\quad \\lambda = 2, 5, 5, 8, 10, 10, 13, 13, 17, 17, 18, \\dots$\n",
    "\n",
    "We use this case to check that what we are doing is correct. "
   ]
  },
  {
   "cell_type": "markdown",
   "id": "4c181dff",
   "metadata": {},
   "source": [
    "Part of this code is addapted from: https://gist.github.com/Balaje/102485bb14ec6daf677f938fbd8f3ebb"
   ]
  },
  {
   "cell_type": "markdown",
   "id": "3f234690",
   "metadata": {},
   "source": [
    "### Status\n",
    "\n",
    "The normal Dirichlet problem is working."
   ]
  },
  {
   "cell_type": "code",
   "execution_count": null,
   "id": "6f9a7bda",
   "metadata": {},
   "outputs": [],
   "source": [
    "using Gridap\n",
    "using GridapMakie, GLMakie\n",
    "GLMakie.activate!(inline=true)\n",
    "using FileIO\n",
    "#using Plots\n",
    "#mkdir(\"models\")\n",
    "#mkdir(\"images\")\n",
    "using GridapGmsh\n",
    "#import Gmsh: gmsh\n",
    "using LinearAlgebra\n",
    "using SparseArrays\n",
    "using SuiteSparse\n",
    "using Arpack"
   ]
  },
  {
   "cell_type": "code",
   "execution_count": null,
   "id": "2f2ea55d",
   "metadata": {},
   "outputs": [],
   "source": [
    "dirichlet = true # Dirichlet boundary condition\n",
    "neumann = false # Neumann boundary condition\n",
    "\n",
    "\n",
    "\n",
    "test = false # test with no leaking, just to check the code.\n",
    "rectangle = false # rectangle with leaking (parameter a)\n",
    "square_circle = false\n",
    "circle_circle = false\n",
    "open_cavity = false # square with an interior cavity with an opening. \n",
    "                    # the cavity has no leaking except for the hole. \n",
    "                    # the outer part has Dirichlet.\n",
    "\n",
    "#test = true\n",
    "#rectangle = true\n",
    "#square_circle = true\n",
    "#circle_circle = true\n",
    "open_cavity = true\n"
   ]
  },
  {
   "cell_type": "code",
   "execution_count": null,
   "id": "7fa6d235",
   "metadata": {},
   "outputs": [],
   "source": [
    "if test || rectangle \n",
    "    L=1.0\n",
    "    asymmetry = 1.0 # si diferente de UNO da una asimetría y los autovalores dejan de ser degenerados.\n",
    "    side_x = L*pi\n",
    "    side_y = L*pi*asymmetry\n",
    "    @show l = 50 #number of elements in the mesh\n",
    "    @show domain = (0.0, side_x, 0.0, side_y)\n",
    "    model = CartesianDiscreteModel(domain, (l,l))\n",
    "    boundary_tags= [\"boundary\"]\n",
    "    if dirichlet  \n",
    "        dirichlet_tags= [\"boundary\"] \n",
    "        dirichlet_values = [0.0];\n",
    "    end\n",
    "\n",
    "elseif square_circle\n",
    "    displacement = 0.0 \n",
    "    h = 1.0/10.0\n",
    "    p = (π, π, 0.5*π, 0.5*π + displacement, 0.15*π, h) # for square_circle (Length_x, Length_y, circle_center_x, circle_center_y, radious)\n",
    "    model = GmshDiscreteModel(\"models/square_circle.msh\")\n",
    "    boundary_tags = [\"circle\", \"ext\"]\n",
    "    if dirichlet \n",
    "        dirichlet_tags= [\"circle\",\"ext\"] \n",
    "        dirichlet_values = [0.0,0.0]\n",
    "    end \n",
    "\n",
    "elseif circle_circle\n",
    "    h = 1.0/10.0\n",
    "    p = (0.0, 0.0, 0.5*π, 1.5*π, h) # for circle_circle (cy_center_x, cy_center_y, cy_inner_radious, cy_outer_radious)\n",
    "    model = GmshDiscreteModel(\"models/circle_circle.msh\")\n",
    "    boundary_tags = [\"inner\",\"outer\"]\n",
    "    if dirichlet \n",
    "        dirichlet_tags=[\"inner\",\"outer\"]\n",
    "        dirichlet_values = [0.0,0.0];\n",
    "    end\n",
    "    \n",
    "\n",
    "elseif open_cavity\n",
    "    L=1.0*pi\n",
    "    ll = 0.4\n",
    "    side_x = L\n",
    "    side_y = L\n",
    "    small_x = ll*L\n",
    "    small_y = ll*L\n",
    "    openning = 0.05*L\n",
    "    thikness = 0.1*L\n",
    "    model = GmshDiscreteModel(\"models/cavity_box.msh\") \n",
    "    boundary_tags= [\"int\",\"ext\"]\n",
    "    if dirichlet \n",
    "        dirichlet_tags= [\"int\",\"ext\"] \n",
    "        dirichlet_values = [0.0,0.0];\n",
    "    end \n",
    "end"
   ]
  },
  {
   "cell_type": "markdown",
   "id": "ee273f7f",
   "metadata": {},
   "source": [
    "The following cell is for creating meshes, we recommend to create them directly with Gmsh and then import them here as done above. "
   ]
  },
  {
   "cell_type": "code",
   "execution_count": null,
   "id": "926093a8",
   "metadata": {},
   "outputs": [],
   "source": [
    "#=\n",
    "if load_mesh = false\n",
    "\n",
    "if test: \n",
    "    mesh = RectangleMesh(Point(0, 0), Point(side_x, side_y), 100, 100)\n",
    "if rectangle:\n",
    "    mesh = RectangleMesh(Point(0, 0), Point(side_x, side_y), 20, 20)\n",
    "if open_cavity:\n",
    "    big_square = Rectangle(Point(0., 0.), Point(side_x,side_y))\n",
    "    \n",
    "    triangle_vertices = [\n",
    "    Point((side_x + openning)/2., (side_y - small_y)/2.),\n",
    "    Point((side_x + small_x )/2., (side_y - small_y)/2.),\n",
    "    Point((side_x + small_x )/2., (side_y + small_y)/2.),\n",
    "    Point((side_x - small_x )/2., (side_y + small_y)/2.),\n",
    "    Point((side_x - small_x )/2., (side_y - small_y)/2.),\n",
    "    Point((side_x - openning)/2., (side_y - small_y)/2.),\n",
    "    Point((side_x - openning)/2., (side_y - small_y + thikness)/2.),\n",
    "    Point((side_x - small_x + thikness)/2., (side_y - small_y + thikness)/2.),\n",
    "    Point((side_x - small_x + thikness)/2., (side_y + small_y - thikness)/2.),\n",
    "    Point((side_x + small_x - thikness)/2., (side_y + small_y - thikness)/2.),\n",
    "    Point((side_x + small_x - thikness)/2., (side_y - small_y + thikness)/2.),\n",
    "    Point((side_x + openning)/2., (side_y - small_y + thikness)/2.)\n",
    "    ]\n",
    "    \n",
    "    small_cavity = Polygon(triangle_vertices)\n",
    "    \n",
    "    domain = big_square - small_cavity\n",
    "#    domain = small_cavity\n",
    "    mesh = generate_mesh(domain,42)\n",
    "    \n",
    "coords = mesh.coordinates()\n",
    "mpl.figure(figsize=(10,10))\n",
    "triplot(coords[:,0], coords[:,1], triangles=mesh.cells())\n",
    "#print mesh.num_cells()\n",
    "show()\n",
    "\n",
    "end\n",
    "\n",
    "if load_mesh\n",
    "    model = GmshDiscreteModel(\"models/$grid_type.msh\")\n",
    "else\n",
    "    model = make_model(grid_type, p)\n",
    "    save(\"models/$grid_type.msh\", \"mesh\", model)\n",
    "end\n",
    "=#"
   ]
  },
  {
   "cell_type": "code",
   "execution_count": null,
   "id": "09d2215c",
   "metadata": {},
   "outputs": [],
   "source": [
    "Ω = Triangulation(model)\n",
    "degree = 3\n",
    "dΩ = Measure(Ω,degree)"
   ]
  },
  {
   "cell_type": "markdown",
   "id": "67fc13ce",
   "metadata": {},
   "source": [
    "We plot the grid to check that everything is OK"
   ]
  },
  {
   "cell_type": "code",
   "execution_count": null,
   "id": "0bd5ad9c",
   "metadata": {},
   "outputs": [],
   "source": [
    "fig, ax = plot(Ω)\n",
    "ax.aspect = AxisAspect(1) # this makes the region with fixed aspect, so it might not give the correct ratios\n",
    "wireframe!(Ω, color=:black, linewidth=1)\n",
    "scatter!(Ω, marker=:star8, markersize=4, color=:blue)\n",
    "fig"
   ]
  },
  {
   "cell_type": "markdown",
   "id": "5b0a3c23",
   "metadata": {},
   "source": [
    "And now plot the boundaries."
   ]
  },
  {
   "cell_type": "code",
   "execution_count": null,
   "id": "a6caa6d6",
   "metadata": {},
   "outputs": [],
   "source": [
    "Γ = BoundaryTriangulation(model,tags=boundary_tags)\n",
    "dΓ = Measure(Γ,degree)\n",
    "fig, ax = plot(Γ, linewidth=8)\n",
    "ax.aspect = AxisAspect(1)\n",
    "wireframe!(Γ, color=:black, linewidth=1)\n",
    "fig"
   ]
  },
  {
   "cell_type": "markdown",
   "id": "69dabcb5",
   "metadata": {},
   "source": [
    "Create the Finite Element spaces. You can use higher order elements too."
   ]
  },
  {
   "cell_type": "code",
   "execution_count": null,
   "id": "049ac486",
   "metadata": {},
   "outputs": [],
   "source": [
    "order = 2\n",
    "reffe = ReferenceFE(lagrangian,Float64,order)\n",
    "V = TestFESpace(model,reffe;vector_type=Vector{ComplexF64},conformity=:H1,dirichlet_tags = dirichlet_tags)\n",
    "U = TrialFESpace(V,dirichlet_values)\n"
   ]
  },
  {
   "cell_type": "markdown",
   "id": "ddbeabe7",
   "metadata": {},
   "source": [
    "Now we create the matrices of the problem. The problem is of the form:\n",
    "\n",
    "$$ \n",
    "A*u_j = \\lambda_j B*u_j \n",
    "$$\n",
    "For this case the matrix $B$ is just the product of the finite elements base.\n",
    "We do this by creating weak form for them and handling them to the Gridap library to produce the operators\n",
    "separately. Once this is done we handle the matrices to the Arpack library, compute the eigenvectors and eigenvalues and return the vectors as finite elements objects. All this is done internally by functions defined in the file: `eigen.jl`."
   ]
  },
  {
   "cell_type": "code",
   "execution_count": null,
   "id": "4815605f",
   "metadata": {},
   "outputs": [],
   "source": [
    "a(u,v) = ∫( ∇(v)⋅∇(u) )*dΩ\n",
    "m(u,v) = ∫(u*v)dΩ\n"
   ]
  },
  {
   "cell_type": "code",
   "execution_count": null,
   "id": "9a9646dd",
   "metadata": {},
   "outputs": [],
   "source": [
    "include(\"eigen.jl\")"
   ]
  },
  {
   "cell_type": "markdown",
   "id": "196c8470",
   "metadata": {},
   "source": [
    "Now we can solve the problem. The parameters appearing in the problem, and many others, can be studied in the Arpack documentation. "
   ]
  },
  {
   "cell_type": "code",
   "execution_count": null,
   "id": "09af8487",
   "metadata": {},
   "outputs": [],
   "source": [
    "sigma = 10\n",
    "nev = 80 # number of eigenvalues asked to evaluate.\n",
    "prob = EigenProblem(a, m, U, V; nev = nev, sigma = sigma)\n",
    "ξ, uₕs = solve(prob);"
   ]
  },
  {
   "cell_type": "markdown",
   "id": "f8f1f140",
   "metadata": {},
   "source": [
    "We list the eigenvalues obtained:"
   ]
  },
  {
   "cell_type": "code",
   "execution_count": null,
   "id": "3b91d5f9",
   "metadata": {},
   "outputs": [],
   "source": [
    "ξ"
   ]
  },
  {
   "cell_type": "markdown",
   "id": "f7f999ec",
   "metadata": {},
   "source": [
    "And we can plot some of the eigenvectors. "
   ]
  },
  {
   "cell_type": "code",
   "execution_count": null,
   "id": "7ae63392",
   "metadata": {},
   "outputs": [],
   "source": [
    "n = 70\n",
    "uₕ = uₕs[n]\n",
    "fig, ax, plt = plot(Ω, real(uₕ), colormap=:heat)\n",
    "ax.aspect = AxisAspect(1)\n",
    "Colorbar(fig[2,1], plt, vertical=false)\n",
    "fig\n",
    "#This plot some times does not work, in particular with meshes created with Gridap.\n",
    "\n"
   ]
  },
  {
   "cell_type": "markdown",
   "id": "dd2e20d5",
   "metadata": {},
   "source": [
    "We can also save the individual eigenvectors to later visualize. "
   ]
  },
  {
   "cell_type": "code",
   "execution_count": null,
   "id": "3397f986",
   "metadata": {},
   "outputs": [],
   "source": [
    "\n",
    "writevtk(Ω,\"Cavity/eigvector_$n\",cellfields=[\"u_real\" => real(uₕ), \"u_imag\" => imag(uₕ)])\n"
   ]
  },
  {
   "cell_type": "markdown",
   "id": "4a091b1f",
   "metadata": {},
   "source": [
    "We can arrange the eigenvalues by their real parts. This also can be done directly choosing some of the EigenProblem parameters."
   ]
  },
  {
   "cell_type": "code",
   "execution_count": null,
   "id": "aa653bd1",
   "metadata": {},
   "outputs": [],
   "source": [
    "scatter(sort(real(ξ)))"
   ]
  },
  {
   "cell_type": "markdown",
   "id": "65dc9e8c",
   "metadata": {},
   "source": [
    "To compare with the exact results with their degeneracy."
   ]
  },
  {
   "cell_type": "code",
   "execution_count": null,
   "id": "dc06382b",
   "metadata": {},
   "outputs": [],
   "source": [
    "if test \n",
    "    [n^2 + m^2 for n = 1:5, m = 1:5]\n",
    "end"
   ]
  },
  {
   "cell_type": "code",
   "execution_count": null,
   "id": "cd960857",
   "metadata": {},
   "outputs": [],
   "source": []
  }
 ],
 "metadata": {
  "kernelspec": {
   "display_name": "Julia 1.11.5",
   "language": "julia",
   "name": "julia-1.11"
  },
  "language_info": {
   "file_extension": ".jl",
   "mimetype": "application/julia",
   "name": "julia",
   "version": "1.11.5"
  }
 },
 "nbformat": 4,
 "nbformat_minor": 5
}
