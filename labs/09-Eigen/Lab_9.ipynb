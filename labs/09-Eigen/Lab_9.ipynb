{
 "cells": [
  {
   "cell_type": "markdown",
   "id": "89b4a685",
   "metadata": {},
   "source": [
    "# Lab 9\n",
    "\n",
    "### Important 1: ###\n",
    "For this assignment, you must have the `Gridap` and `Gmsh` libraries installed, as well as one of the compatible visualizers: **VisIt** https://wci.llnl.gov/simulation/computer-codes/visit/ or **Paraview** https://www.paraview.org/\n",
    "\n",
    "### Important 2: ###\n",
    "Rename the file as: \n",
    "**group_name_task_9.ipynb** or **your_last_name_first_name_task_9.ipynb**\n",
    "\n",
    "**All generated code and the presentation must be included in this notebook.**\n",
    "\n",
    "**The objectives of the assignment are varied:**\n",
    "\n",
    "1. Get familiar with the the eigenvalues/eigenvectors problems using **Finite Elements**.\n",
    "2. Solve problems in one and two dimensions, and get codes to modify for use in research problems.\n",
    "3. Process the obtained data.\n",
    "\n",
    "\n",
    "**1)** Run the notebook **eigenvals_1D_eqn.ipynb** with the tests options and check that it works correctly. Experiment with different problems. Search for new problems and try them out. \n",
    "\n",
    "**2)** Experiment with different solver configurations (different methods, different number of iterations, tolerances). Try different types of Finite Elements and different orders.\n",
    "\n",
    "**3)** Run the notebook **simple_cavity.ipynb** with the different meshes options. Choose one of the grids and study convergence of the methods by changing grid resolutions and bases types and orders. \n",
    "\n",
    "**4)** Make your own mesh using Gmsh and import it to the notebook. Don't forget to include it when sending finished lab. \n",
    "\n",
    "**5)** Use different resolutions and see how it affects the calculated eigenvalues and eigenvectors.\n",
    "Use cases where you know the solution. This is the case for instance for the annulus configuration.\n",
    "\n",
    "**6)** Search for new problems and try them out. You can add a potential, change the integration domain or change the boundary conditions or the equations. \n",
    "\n",
    "**6)** For the adventurous: Change the boundary conditions to Neumann. In that case, for the functional spaces you have to add `constraint = :zeromean` so as to avoid the constant solution.\n"
   ]
  },
  {
   "cell_type": "markdown",
   "id": "e77aa48a",
   "metadata": {},
   "source": []
  }
 ],
 "metadata": {
  "language_info": {
   "name": "python"
  }
 },
 "nbformat": 4,
 "nbformat_minor": 5
}
