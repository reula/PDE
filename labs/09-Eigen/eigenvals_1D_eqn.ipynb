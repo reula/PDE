{
 "cells": [
  {
   "cell_type": "markdown",
   "metadata": {},
   "source": [
    "## Notebook to solve 1D elliptic, self adjoint eigenvalue problem\n",
    "\n",
    "Here we solve a (formally) self adjoint, regular elliptic problem in 1D, the problem is of the form:\n",
    "\n",
    "$$ -\\frac{d}{dx}(p(x)\\frac{d}{dx}u) + q(x) u(x) = \\lambda r(x) u(x)$$\n",
    "\n",
    "with $p(x) > 0$. We solve it in an interval $[0,L]$ and use boundary conditions $\\{u_0=0, u_1=0\\}$ at the left-right boundaries. \n",
    "\n"
   ]
  },
  {
   "cell_type": "code",
   "execution_count": null,
   "metadata": {},
   "outputs": [],
   "source": [
    "using Gridap\n",
    "using GridapMakie, GLMakie\n",
    "GLMakie.activate!(inline=true)\n",
    "using FileIO\n",
    "#using Plots\n",
    "#mkdir(\"models\")\n",
    "#mkdir(\"images\")\n",
    "using GridapGmsh\n",
    "using LinearAlgebra\n",
    "using SparseArrays\n",
    "using SuiteSparse\n",
    "#import Pkg; Pkg.add(\"Arpack\")\n",
    "using Arpack\n"
   ]
  },
  {
   "cell_type": "markdown",
   "metadata": {},
   "source": [
    "We define several instances:\n",
    "\n",
    "#### Test 1: is just the second derivatives (p=1, q=0, r=1)\n",
    "The solutions are $u_n = sin(n*x)$ in the interval $[0,\\pi]$, and the eigenvalues are $\\lambda_n = n^2$.\n",
    "\n",
    "#### Test 2: has (p=x, q=0, r=1/x)\n",
    "The solutions are: $(\\lambda = (\\frac{n\\pi}{\\ln L})^2\\;\\;\\;\\; n>0, u_n = \\sin(\\frac{n\\pi}{\\ln L}\\ln x)$, in the interval $[1,L]$.\n",
    "\n",
    "#### Test 3: the harmonic oscillator (p=1, q=x^2, r=1)\n",
    "The solutions are: $(\\lambda = 1 + 2n, \\;\\;\\; n\\geq 0, u_n = e^{-x^2/2}H_n)$, where $H_n$ are the Hermite polynomials.\n"
   ]
  },
  {
   "cell_type": "code",
   "execution_count": null,
   "metadata": {},
   "outputs": [],
   "source": [
    "test_1 = false \n",
    "test_2 = false\n",
    "test_3 = false\n",
    "test_1 = true\n",
    "#test_2 = true \n",
    "#test_3 = true \n"
   ]
  },
  {
   "cell_type": "code",
   "execution_count": null,
   "metadata": {},
   "outputs": [],
   "source": [
    "#you can create the grids or load from files.\n",
    "#include(\"models/mesh_generator.jl\")\n"
   ]
  },
  {
   "cell_type": "markdown",
   "metadata": {},
   "source": [
    "Define an equi-spaced grid with N nodes of length L"
   ]
  },
  {
   "cell_type": "code",
   "execution_count": null,
   "metadata": {},
   "outputs": [],
   "source": [
    "# Create mesh with N point\n",
    "\n",
    "if test_1 \n",
    "    \n",
    "    grid_type = \"1D\"\n",
    "    h = 1/200\n",
    "    par = (0,π, h) #for test (Length_x, Length_y, h) \n",
    "    \n",
    "elseif test_2\n",
    "    \n",
    "    grid_type = \"1D\"\n",
    "    h = 1/200\n",
    "    L = 2\n",
    "    par = (1,L, h) #for test (Length_x, Length_y, h) \n",
    "    \n",
    "elseif test_3\n",
    "    \n",
    "    grid_type = \"1D\"\n",
    "    h = 1/20000\n",
    "    par = (-10,10, h) #for test (Length_x, Length_y, h) \n",
    "    \n",
    "else\n",
    "    \n",
    "    grid_type = \"1D\"\n",
    "    h = 1/1000\n",
    "    par = (0.,20., h) #for test (Length_x, Length_y, h) \n",
    "    \n",
    "end\n",
    "\n",
    "#model = make_model(grid_type, par)\n",
    "#model = GmshDiscreteModel(\"models/1D.msh\")\n",
    "\n",
    "@show l = 1 ÷ par[3] #number of elements in the mesh\n",
    "@show domain = (par[1], par[2])\n",
    "model = CartesianDiscreteModel(domain, l)\n",
    "#= for the mesh in models use:\n",
    "    boundary_tags = [\"left\", \"right\"]\n",
    "    dirichlet_tags= [\"left\", \"right\"]\n",
    "    dirichlet_values = [0.0, 0.0] # 0.0+im*0.0\n",
    "=#\n",
    "# For the Cartesian mesh use:    \n",
    "    dirichlet_tags= [\"boundary\"]\n",
    "    dirichlet_values = [0.0] # 0.0+im*0.0\n"
   ]
  },
  {
   "cell_type": "code",
   "execution_count": null,
   "metadata": {},
   "outputs": [],
   "source": [
    "Ω = Triangulation(model)\n",
    "degree = 3\n",
    "dΩ = Measure(Ω,degree)\n"
   ]
  },
  {
   "cell_type": "code",
   "execution_count": null,
   "metadata": {},
   "outputs": [],
   "source": [
    "fig, ax = plot(Ω)\n",
    "scatter!(Ω, marker=:star8, markersize=4, color=:blue)\n",
    "#wireframe!(Ω, color=:black, linewidth=2)\n",
    "fig\n"
   ]
  },
  {
   "cell_type": "code",
   "execution_count": null,
   "metadata": {},
   "outputs": [],
   "source": [
    "#Γ = BoundaryTriangulation(model,tags=boundary_tags)\n",
    "#dΓ = Measure(Γ,degree)\n",
    "#fig, ax = plot(Γ, linewidth=8)\n",
    "#ax.aspect = AxisAspect(1)\n",
    "#wireframe!(Γ, color=:black, linewidth=1)\n",
    "#fig"
   ]
  },
  {
   "cell_type": "code",
   "execution_count": null,
   "metadata": {},
   "outputs": [],
   "source": [
    "order = 2\n",
    "reffe = ReferenceFE(lagrangian,Float64,order)\n",
    "\n",
    "V = TestFESpace(model,reffe;vector_type=Vector{ComplexF64},conformity=:H1,dirichlet_tags = dirichlet_tags)\n",
    "U = TrialFESpace(V,dirichlet_values)\n"
   ]
  },
  {
   "cell_type": "markdown",
   "metadata": {},
   "source": [
    "Since we shall be solving it with finite elements we first define the fuction space for these elements:"
   ]
  },
  {
   "cell_type": "markdown",
   "metadata": {},
   "source": [
    "We define the two free fuctions, $g$ and $pot$. To test the code we have three test cases, for which the functions are simple and we know the solution explicitly. The fourth case is just some potential???"
   ]
  },
  {
   "cell_type": "code",
   "execution_count": null,
   "metadata": {},
   "outputs": [],
   "source": [
    "# WARNING: we have changed the sign of p with respect to the previous definition. \n",
    "if test_1\n",
    "    p(x) = 1\n",
    "    q(x) = 0\n",
    "    r(x) = 1\n",
    "elseif test_2\n",
    "    p(x) = x[1]\n",
    "    q(x) = 0\n",
    "    r(x) = 1/x[1]\n",
    "elseif test_3\n",
    "    p(x) = 1\n",
    "    q(x) = x[1]*x[1]\n",
    "    r(x) = 1\n",
    "else\n",
    "    p(x) = (1 + x[1] + 0.5*x[1]*x[1])/(10 + 0.5*x[1]*x[1]) # don't remember this potential...\n",
    "    q(x) = -10*x[1]/(1 + 5*x[1]*x[1])\n",
    "    r(x) = 1\n",
    "end\n"
   ]
  },
  {
   "cell_type": "code",
   "execution_count": null,
   "metadata": {},
   "outputs": [],
   "source": [
    "x = range(par[1], par[2], length=1000)\n",
    "yq = q.(x)\n",
    "yp = p.(x)\n",
    "yr = r.(x)\n",
    "lines(x, yq, label= \"q\")\n",
    "lines!(x, yp, label= \"p\")\n",
    "lines!(x, yr, label= \"r\")\n",
    "axislegend()\n",
    "current_figure()\n"
   ]
  },
  {
   "cell_type": "markdown",
   "metadata": {},
   "source": [
    "Now we define the variational problem"
   ]
  },
  {
   "cell_type": "code",
   "execution_count": null,
   "metadata": {},
   "outputs": [],
   "source": [
    "a(u,v) = ∫(p*∇(v)⋅∇(u) + q*v*u)*dΩ\n",
    "m(u,v) = ∫(r*u*v)dΩ\n"
   ]
  },
  {
   "cell_type": "markdown",
   "metadata": {},
   "source": [
    "Here we introduce the solver and its parámeters, and the solve the system."
   ]
  },
  {
   "cell_type": "code",
   "execution_count": null,
   "metadata": {},
   "outputs": [],
   "source": [
    "include(\"eigen.jl\")\n"
   ]
  },
  {
   "cell_type": "code",
   "execution_count": null,
   "metadata": {},
   "outputs": [],
   "source": [
    "nev = 12 # number of eigenvalues asked to evaluate.\n",
    "prob = EigenProblem(a, m, U, V; nev=nev, tol=10^(-6), maxiter=100, explicittransform=:none, sigma=-1.0)\n",
    "#prob = EigenProblem(a, m, U, V; nev=nev, which=:LM, explicittransform=:auto, tol=10^(-6), maxiter=100, sigma=0)\n",
    "ξ, uₕs = solve(prob);\n"
   ]
  },
  {
   "cell_type": "code",
   "execution_count": null,
   "metadata": {},
   "outputs": [],
   "source": [
    "ξ.^(1/2)"
   ]
  },
  {
   "cell_type": "markdown",
   "metadata": {},
   "source": [
    "We now illustrate how to manipulate the solutions (eigenfunctions and eigenvalues)"
   ]
  },
  {
   "cell_type": "code",
   "execution_count": null,
   "metadata": {},
   "outputs": [],
   "source": [
    "uₕ = uₕs[10]\n",
    "x = range(par[1], par[2], length=1000)\n",
    "lines(x, evaluate(real(uₕ),Gridap.Point.(x)), label= \"u\")\n"
   ]
  },
  {
   "cell_type": "code",
   "execution_count": null,
   "metadata": {},
   "outputs": [],
   "source": [
    "fig = Figure()\n",
    "\n",
    "ax = Axis(fig[1, 1], xlabel = \"eigenvalue number\", ylabel = \"value\",\n",
    "    title = \"Eigenvalues\", yscale = log10, xscale = log10)\n",
    "\n",
    "scatter!(sort(real(ξ[1:nev])), label = \"computed\")\n",
    "\n",
    "if test_1\n",
    "    scatter!(ax,[n^2 for n ∈ 1:nev], marker=:star8, label = \"true\")\n",
    "elseif test_2\n",
    "    scatter!([(n*π/log(L))^2 for n ∈ 1:nev], marker=:star8, label = \"true\")\n",
    "elseif test_3\n",
    "    scatter!([1 + 2*(n-1) for n ∈ 1:nev], marker=:star8, label = \"true\")\n",
    "end\n",
    "axislegend()\n",
    "current_figure()\n",
    "fig"
   ]
  },
  {
   "cell_type": "code",
   "execution_count": null,
   "metadata": {},
   "outputs": [],
   "source": [
    "ξ"
   ]
  },
  {
   "cell_type": "markdown",
   "metadata": {},
   "source": [
    "And here we can save them into a file to see it with visit, for instance. "
   ]
  },
  {
   "cell_type": "code",
   "execution_count": null,
   "metadata": {},
   "outputs": [],
   "source": [
    "n=4 # for test_3 use n=4\n",
    "\n",
    "uₕ = uₕs[n]\n",
    "# normalize the eigenvector\n",
    "u2 = sum(∫(uₕ*uₕ)*dΩ)\n",
    "uₕ = uₕ/sqrt(u2)\n",
    "\n",
    "if test_1\n",
    "    u_n(x) = -sin(n*x)/sqrt(π/2)\n",
    "elseif test_2\n",
    "    freq=n*π/log(L)\n",
    "    u_n(x) = sqrt((4*freq^2+1)/(2(L-1)*freq^2))*sin(freq*log(x))\n",
    "elseif test_3\n",
    "    u_n(x) = -exp(-x^2/2)*(8x^3-12x)/sqrt(85.0778) \n",
    "end\n",
    "\n",
    "x = range(par[1], par[2], length=1000)\n",
    "scatter(x, evaluate(real(uₕ),Gridap.Point.(x)), label= \"computed\")\n",
    "lines!(x, u_n.(x), label= \"exact\")\n",
    "scatter!(x, 100000*(evaluate(real(uₕ),Gridap.Point.(x))-u_n.(x)), label= \"error x 10^5\")\n",
    "axislegend()\n",
    "current_figure()        "
   ]
  }
 ],
 "metadata": {
  "kernelspec": {
   "display_name": "Julia 1.11.5",
   "language": "julia",
   "name": "julia-1.11"
  },
  "language_info": {
   "file_extension": ".jl",
   "mimetype": "application/julia",
   "name": "julia",
   "version": "1.11.5"
  },
  "latex_envs": {
   "LaTeX_envs_menu_present": true,
   "autoclose": false,
   "autocomplete": true,
   "bibliofile": "biblio.bib",
   "cite_by": "apalike",
   "current_citInitial": 1,
   "eqLabelWithNumbers": true,
   "eqNumInitial": 1,
   "hotkeys": {
    "equation": "Ctrl-E",
    "itemize": "Ctrl-I"
   },
   "labels_anchors": false,
   "latex_user_defs": false,
   "report_style_numbering": false,
   "user_envs_cfg": false
  }
 },
 "nbformat": 4,
 "nbformat_minor": 4
}
