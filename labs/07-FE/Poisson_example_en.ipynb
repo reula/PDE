{
 "cells": [
  {
   "cell_type": "markdown",
   "id": "5b5e1010-8b32-4758-a472-91effeba98b5",
   "metadata": {},
   "source": [
    "## Example of approximations to the Poisson problem with different boundary conditions\n"
   ]
  },
  {
   "cell_type": "markdown",
   "id": "8fccee28-a006-4c3f-b8f7-a85e95074b4e",
   "metadata": {},
   "source": [
    "The problem to solve is: \n",
    "\n",
    "\n",
    "\\begin{align}\n",
    "-\\Delta u &= f \\;\\;\\;\\;\\; \\text{in } \\Omega \\\\\n",
    "u &= g \\;\\;\\;\\;\\; \\text{in } \\partial \\Omega_{int} \\\\\n",
    "\\hat{n} \\cdot \\nabla u &= h \\;\\;\\;\\;\\; \\text{in } \\partial \\Omega_{ext} \\\\\n",
    "\\end{align}\n",
    "\n",
    "For that we impose the weak version of it:\n",
    "\n",
    "Find $u$ in $V = H^1(\\Omega, f) \\cap H^1_0(\\Omega, \\partial \\Omega_{int})$ (that is with elements vanishing at $\\partial \\Omega_{int}$) such that:,\n",
    "\n",
    "$$\n",
    "\\int_{\\Omega} \\nabla v \\cdot \\nabla u \\; d\\Omega \n",
    "- \\int_{\\Omega} v \\; f \\; d\\Omega \n",
    "- \\oint_{\\partial \\Omega_{ext}} v \\; h \\; d\\Gamma \n",
    "= 0 \\;\\;\\;\\;\\; \\forall v \\;\\; \\in V\n",
    "$$\n",
    "\n",
    "If we obtain a solution $u$ and it is sufficiently smooth, we can integrate by parts the first term and obtain: \n",
    "\n",
    "$$\n",
    "\\int_{\\Omega}  v \\; (-\\Delta u - f) \\; d\\Omega \n",
    "+ \\oint_{\\partial \\Omega_{ext}} v \\; (\\hat{n} \\cdot \\nabla u - h) \\; d\\Gamma \n",
    "= 0 \\;\\;\\;\\;\\; \\forall v \\;\\; \\in V\n",
    "$$\n",
    "\n",
    "Taking $v$ arbitrary but of compact support inside $Ω$ we see that $u$ must satisfy:\n",
    "\n",
    "$$\n",
    "-\\Delta u = f \\;\\;\\;\\;\\; \\text{in } \\Omega,\n",
    "$$\n",
    "taking now $v$ arbitrary but different from zero in a neighborhood of the exterior boundary, we see that it must satisfy also the Neumann condition:\n",
    "\n",
    "$$\n",
    "\\hat{n} \\cdot \\nabla u = h \\;\\;\\;\\;\\; \\text{in } \\partial \\Omega_{ext}.\n",
    "$$\n",
    "\n",
    "The Dirichlet condition is automatic for this choice of functional space.\n",
    "\n",
    "\n"
   ]
  },
  {
   "cell_type": "markdown",
   "id": "6b0514f0-e0f9-47c4-bbb1-12e1a26ee8d3",
   "metadata": {},
   "source": [
    "To solve the problem we shall use the a Julia package `Gridap.jl`. This example is a mixture of several examples in the Gridap tutorial."
   ]
  },
  {
   "cell_type": "code",
   "execution_count": null,
   "id": "57ac00c7-7999-4cf5-a548-a0f159c252b2",
   "metadata": {},
   "outputs": [],
   "source": [
    "using Gridap\n",
    "using GridapGmsh\n",
    "#import Gmsh: gmsh # NEVER use #using Gmsh\n",
    "#mkdir(\"models\")\n",
    "#mkdir(\"images\")"
   ]
  },
  {
   "cell_type": "code",
   "execution_count": null,
   "id": "0dede969-2655-4ce3-90a6-642c4208b3cb",
   "metadata": {},
   "outputs": [],
   "source": [
    "plot_s = true\n",
    "if plot_s\n",
    "    using GridapMakie, GLMakie #Para graficar \n",
    "    using FileIO #Gráficos y salidas\n",
    "    GLMakie.activate!(inline=true) # For windows on the notebook itself. Comment out if you want the as pop-out plots.\n",
    "end"
   ]
  },
  {
   "cell_type": "markdown",
   "id": "31349a95-c1ac-41c7-b7d2-8e68c53e5661",
   "metadata": {},
   "source": [
    "We will use a mesh previously built with the `gmsh` library. In the `models` directory you will find a *script* with the `.geo` extension (`rectangle_hole.geo`), which was used to build the example. Based on this script, and following the `gmsh` tutorial, you can build different meshes. Other libraries can also be used to build meshes. These are imported into the **Gridap** infrastructure, and with them the triangulation to be used is constructed. Note that in the script, the two boundaries are named: the external (rectangular) one as `\"ext\"` and the internal (circle) one as `\"int\"`."
   ]
  },
  {
   "cell_type": "code",
   "execution_count": null,
   "id": "082f8fe7-219d-4997-a98d-5e38a999b1da",
   "metadata": {},
   "outputs": [],
   "source": [
    "#model = GmshDiscreteModel(\"models/rectangle_hole_fine.msh\")\n",
    "model = GmshDiscreteModel(\"models/rectangle_hole_coarse.msh\")\n",
    "#model = GmshDiscreteModel(\"models/rectangle_hole_finer.msh\")\n"
   ]
  },
  {
   "cell_type": "code",
   "execution_count": null,
   "id": "f70b8133-2acc-4657-9aba-8beefb4aa966",
   "metadata": {},
   "outputs": [],
   "source": [
    "Ω = Triangulation(model)"
   ]
  },
  {
   "cell_type": "code",
   "execution_count": null,
   "id": "e8d94615-e070-4997-a055-57b9d22c92af",
   "metadata": {},
   "outputs": [],
   "source": [
    "degree = 2\n",
    "dΩ = Measure(Ω,degree)"
   ]
  },
  {
   "cell_type": "code",
   "execution_count": null,
   "id": "ddbb784a-96d8-441c-8cc3-8abe093b1d8f",
   "metadata": {},
   "outputs": [],
   "source": [
    "if plot_s\n",
    "    fig, ax = plot(Ω)\n",
    "    ax.aspect = AxisAspect(2)\n",
    "    wireframe!(Ω, color=:black, linewidth=1)\n",
    "    scatter!(Ω, marker=:star8, markersize=4, color=:blue)\n",
    "    fig\n",
    "end"
   ]
  },
  {
   "cell_type": "code",
   "execution_count": null,
   "id": "911b7de3-f83e-4485-a18a-7cbd9096e73f",
   "metadata": {},
   "outputs": [],
   "source": [
    "full_dirichlet = false\n",
    "int_dirichlet = false\n",
    "#full_dirichlet = true\n",
    "int_dirichlet = true"
   ]
  },
  {
   "cell_type": "markdown",
   "id": "b6c4caaa-e9d2-4ec8-87ca-48d2f32cf1d5",
   "metadata": {},
   "source": [
    "Once we have the mesh, we begin to define the finite elements that we will use. In this case, we will use Lagrangian elements of **order 1** that will satisfy a Dirichlet condition on the region $\\partial \\Omega_{int}$. When the mesh is built, this region has been marked as the interior boundary of the rectangle with the `tag` `\"int\"`."
   ]
  },
  {
   "cell_type": "code",
   "execution_count": null,
   "id": "5457f52c-9d07-4737-a299-94f83b35f0ac",
   "metadata": {},
   "outputs": [],
   "source": [
    "order = 2\n",
    "reffe = ReferenceFE(lagrangian,Float64,order)\n",
    "if int_dirichlet\n",
    "    dirichlet_tags=\"int, \" \n",
    "elseif full_dirichlet\n",
    "    dirichlet_tags=[\"int\",\"ext\"]\n",
    "end\n",
    "V = TestFESpace(model,reffe;conformity=:H1,dirichlet_tags = dirichlet_tags)"
   ]
  },
  {
   "cell_type": "markdown",
   "id": "0f3f8545-ccec-48be-a048-5b532426b3a7",
   "metadata": {},
   "source": [
    "\n",
    "In this example, we are going to test our code using a *solution* given by the function $u_e(x,y) =  4((x-x_0)^2 - (y-y_0)^3) - 5y$.\n",
    "\n",
    "Thus, $\\Delta u_e = -f = 8 - 24(y-y0)$ and the Neumann condition will be given by $h = \\hat{n} \\cdot \\nabla u_e$."
   ]
  },
  {
   "cell_type": "code",
   "execution_count": null,
   "id": "af8ba46e-3095-487b-9357-1c99b3c4ad1e",
   "metadata": {},
   "outputs": [],
   "source": [
    "x0 = 0.5\n",
    "y0 = 0.5\n",
    "ue(x) = 4*((x[1]-x0)^2 - (x[2]-y0)^3) - 5.0*x[2] # \"exact solution\"\n",
    "\n",
    "if plot_s\n",
    "    fig, ax, plt = plot(Ω, ue, shading=false)\n",
    "    ax.aspect = AxisAspect(2)\n",
    "    Colorbar(fig[1,2], plt)\n",
    "    fig\n",
    "end\n"
   ]
  },
  {
   "cell_type": "code",
   "execution_count": null,
   "id": "be20b8df-fe50-4087-9b0c-798472fac20c",
   "metadata": {},
   "outputs": [],
   "source": [
    "# internal Dirichlet boundary condition\n",
    "U = TrialFESpace(V,ue)\n",
    "Γ₁ = BoundaryTriangulation(model,tags=dirichlet_tags)\n",
    "n₁ = get_normal_vector(Γ₁)\n",
    "\n",
    "if plot_s\n",
    "    fig, ax , plt  = plot(Γ₁,ue, colormap=:heat, linewidth=10)\n",
    "    ax.aspect = AxisAspect(2)\n",
    "    Colorbar(fig[1,2], plt)\n",
    "    fig\n",
    "end"
   ]
  },
  {
   "cell_type": "code",
   "execution_count": null,
   "id": "d3022a96-59c5-401a-8eb5-4f5c6c66b0fb",
   "metadata": {},
   "outputs": [],
   "source": [
    "if int_dirichlet\n",
    "    neumann_tags = \"ext\"\n",
    "    #neumanntags = \"int\"\n",
    "    Γ = BoundaryTriangulation(model,tags=neumann_tags)\n",
    "    dΓ = Measure(Γ,degree)\n",
    "    nb = get_normal_vector(Γ)\n",
    "end\n"
   ]
  },
  {
   "cell_type": "markdown",
   "id": "a96e7207-9afe-4356-a00d-d26bc44ca3b0",
   "metadata": {},
   "source": [
    "To make sure every thing is OK, we plot the values of $\\hat{n}\\cdot \\nabla u_e$ at the external boundary."
   ]
  },
  {
   "cell_type": "code",
   "execution_count": null,
   "id": "c7edeac8-b578-404d-981f-89bb56fefeb0",
   "metadata": {},
   "outputs": [],
   "source": [
    "if int_dirichlet && plot_s\n",
    "    fig, ax , plt = plot(Γ, (nb ⋅ ∇(ue)), colormap=:algae, linewidth=10)\n",
    "    ax.aspect = AxisAspect(2)\n",
    "    Colorbar(fig[1,2], plt)\n",
    "    fig\n",
    "end"
   ]
  },
  {
   "cell_type": "markdown",
   "id": "b84442dc-7365-465c-908b-77a91fcc5a5e",
   "metadata": {},
   "source": [
    "We now define the weak problem in abstract form: "
   ]
  },
  {
   "cell_type": "code",
   "execution_count": null,
   "id": "fb2b5f0e-c0b0-4434-8760-dda7aae5d4be",
   "metadata": {},
   "outputs": [],
   "source": [
    "f(x) = -8.0 + 24*(x[2] - y0) # source\n",
    "#h(x) =  #external Neumann bc.\n",
    "a(u,v) = ∫( ∇(v)⋅∇(u) )*dΩ  #  in a(u,v) goes all the terms linear in the unknown, u. \n",
    "if full_dirichlet\n",
    "    b(v) = ∫(v*f )*dΩ # \n",
    "elseif int_dirichlet\n",
    "    b(v) = ∫(v*f )*dΩ + ∫(v*(nb ⋅ ∇(ue)))*dΓ #  here everything else.\n",
    "end"
   ]
  },
  {
   "cell_type": "markdown",
   "id": "2c7a4008-e5fc-4622-bad3-b20c37d93bb3",
   "metadata": {},
   "source": [
    "From here the package  **Gridap.jl** generates a equation system of the form $Ax=b$ and solves it for the finite element version of $u$."
   ]
  },
  {
   "cell_type": "code",
   "execution_count": null,
   "id": "456103ca-055e-4521-ba1c-0b680e87df9a",
   "metadata": {},
   "outputs": [],
   "source": [
    "op = AffineFEOperator(a,b,U,V)\n"
   ]
  },
  {
   "cell_type": "code",
   "execution_count": null,
   "id": "e53c8386-a9ab-47b8-b81a-10010ceb53f4",
   "metadata": {},
   "outputs": [],
   "source": [
    "ls = LUSolver()\n",
    "solver = LinearFESolver(ls)"
   ]
  },
  {
   "cell_type": "code",
   "execution_count": null,
   "id": "04ceff32-1787-47a0-94d4-929e44784b66",
   "metadata": {},
   "outputs": [],
   "source": [
    "uh = solve(solver,op)\n"
   ]
  },
  {
   "cell_type": "code",
   "execution_count": null,
   "id": "e87d34ce-5382-47b0-9da4-ec68f3312085",
   "metadata": {},
   "outputs": [],
   "source": [
    "if plot_s\n",
    "    fig, ax, plt = plot(Ω, uh, shading=NoShading)\n",
    "    ax.aspect = AxisAspect(2)\n",
    "    Colorbar(fig[1,2], plt)\n",
    "    fig\n",
    "end\n"
   ]
  },
  {
   "cell_type": "code",
   "execution_count": null,
   "id": "68e1a84c-73cd-41f2-95a5-839671f02382",
   "metadata": {},
   "outputs": [],
   "source": [
    "if full_dirichlet\n",
    "    writevtk(Ω,\"images/solución_dir\",cellfields=[\"uh_dir\" => uh])\n",
    "elseif int_dirichlet\n",
    "    writevtk(Ω,\"images/solución_newmann\",cellfields=[\"uh_neu\" => uh])\n",
    "end"
   ]
  },
  {
   "cell_type": "markdown",
   "id": "a2c8b5c4-4a71-4aee-be76-3212bdf4046f",
   "metadata": {},
   "source": [
    "We now are going to validate our approximation by comparing it with the exact solution. For that we introduce several tools:"
   ]
  },
  {
   "cell_type": "code",
   "execution_count": null,
   "id": "255259f0-daf2-4bbf-bf98-e2a98747c294",
   "metadata": {},
   "outputs": [],
   "source": [
    "e = ue - uh"
   ]
  },
  {
   "cell_type": "code",
   "execution_count": null,
   "id": "36bccd03-a6b4-4de8-8028-4dc9eb4bb981",
   "metadata": {},
   "outputs": [],
   "source": [
    "if plot_s\n",
    "    fig, ax, plt = plot(Ω, e\n",
    "        , shading=NoShading\n",
    "        )\n",
    "    ax.aspect = AxisAspect(2)\n",
    "    Colorbar(fig[1,2], plt)\n",
    "    fig\n",
    "end\n",
    "fig"
   ]
  },
  {
   "cell_type": "code",
   "execution_count": null,
   "id": "0f097aa8-0142-4be5-956d-7ff841fbbec0",
   "metadata": {},
   "outputs": [],
   "source": [
    "if full_dirichlet\n",
    "    writevtk(Ω,\"images/error_dir\",cellfields=[\"e_dir\" => e])\n",
    "elseif int_dirichlet\n",
    "    writevtk(Ω,\"images/error_newmann\",cellfields=[\"e_neu\" => e])\n",
    "end"
   ]
  },
  {
   "cell_type": "markdown",
   "id": "0833dd5e-91f9-4f29-b4bc-0244daad62cb",
   "metadata": {},
   "source": [
    "Next we compute the $L^2$ and $H^1$ norm for the error. "
   ]
  },
  {
   "cell_type": "code",
   "execution_count": null,
   "id": "719a1d23-5e6e-4dda-ab81-15ebedf155a3",
   "metadata": {},
   "outputs": [],
   "source": [
    "el2 = sqrt(sum( ∫( e*e )*dΩ ))\n",
    "println(\"l2 error = \",el2)\n",
    "eh1 = sqrt(sum( ∫( e*e + ∇(e)⋅∇(e) )*dΩ ))\n",
    "uh1 = sqrt(sum( ∫( uh*uh + ∇(uh)⋅∇(uh) )*dΩ ))\n",
    "println(\"h1 error = \",eh1/uh1)"
   ]
  },
  {
   "cell_type": "code",
   "execution_count": null,
   "id": "92412877-cf74-4dd9-9296-4c34cac7b613",
   "metadata": {},
   "outputs": [],
   "source": [
    "if plot_s\n",
    "    fig, ax, plt = plot(Ω, ∇(e)⋅∇(e), shading=NoShading)\n",
    "    ax.aspect = AxisAspect(2)\n",
    "    Colorbar(fig[1,2], plt)\n",
    "    fig\n",
    "end"
   ]
  },
  {
   "cell_type": "code",
   "execution_count": null,
   "id": "c6769e0a-e79e-4cd9-b113-235a16427d58",
   "metadata": {},
   "outputs": [],
   "source": []
  }
 ],
 "metadata": {
  "kernelspec": {
   "display_name": "Julia 1.11.5",
   "language": "julia",
   "name": "julia-1.11"
  },
  "language_info": {
   "file_extension": ".jl",
   "mimetype": "application/julia",
   "name": "julia",
   "version": "1.11.5"
  }
 },
 "nbformat": 4,
 "nbformat_minor": 5
}
