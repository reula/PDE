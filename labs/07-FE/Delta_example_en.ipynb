{
 "cells": [
  {
   "cell_type": "markdown",
   "id": "03acf9f1",
   "metadata": {},
   "source": [
    "# Poisson problem: Resolution example with a delta de Dirac  as a source \n",
    "\n",
    "Recall that the Dirac distribution acts on test functions as: $delta_{x_0}(\\phi) = \\phi(x_0)$\n",
    "\n",
    "In the setting where we are working this definition does not make sense because the test functions are in $H^1(\\Omega)$ or $H^1_0(\\Omega)$ or a mixture of them, but then, unless in 1-dimension, its elements are not defined at given points of the manifold. It is also the case that the solution, which in two dimensions goes like $\\phi(r) = qln(r)$ is infinite at the origin, and so not represented as a function in $H^1$.\n",
    "\n",
    "Nevertheless it is possible to get a good approximation to it. \n"
   ]
  },
  {
   "cell_type": "markdown",
   "id": "e8a0c1b9",
   "metadata": {},
   "source": [
    "The problem to solve is:\n",
    "\n",
    "\n",
    "\\begin{align*}\n",
    "-\\Delta u &= f + q\\delta(x_0) \\;\\;\\;\\;\\; \\text{in } \\Omega \\\\\n",
    "u &= h \\;\\;\\;\\;\\; \\text{in } \\partial \\Omega_{ext}, \\\\\n",
    "\\end{align*}\n",
    "\n",
    "Where we should think of it as a relation among distributions. \n",
    "\n",
    "The weak version of it is:\n",
    "\n",
    "Find $u$ en $H^1_0(\\Omega)$ (so we are impossing homogeneous boundary conditions on the $\\partial \\Omega_{int}$) such that:\n",
    "\n",
    "$$\n",
    "\\int_{\\Omega} \\nabla v \\cdot \\nabla u \\; d\\Omega \n",
    "- \\int_{\\Omega} v \\; f \\; d\\Omega + q*v(x_0)\n",
    "= 0 \\;\\;\\;\\;\\; \\forall v \\;\\; \\in H^1_0(\\Omega)\n",
    "$$\n",
    "\n",
    "As noted above this problem is not well defined for all $v \\in $H^1_0(\\Omega)$ for unless in 1-dimension their elements are not functions. \n",
    "But for the restriction to smoother functions it is well defined."
   ]
  },
  {
   "cell_type": "markdown",
   "id": "41abe38f",
   "metadata": {},
   "source": [
    "So solve this problem we shall use the infrastructure provided by the Julia library `Gridap.jl`. Julia provides a *\"function\"* for Dirac's delta."
   ]
  },
  {
   "cell_type": "code",
   "execution_count": null,
   "id": "3a5a16d1",
   "metadata": {},
   "outputs": [],
   "source": [
    "using Gridap\n",
    "using GridapMakie, Makie, GLMakie #Para graficar \n",
    "GLMakie.activate!(inline=true) # For windows on the notebook itself. Comment out if you want the as pop-out plots.\n",
    "using FileIO #Gráficos y salidas\n",
    "using GridapGmsh\n",
    "#mkdir(\"models\") #if the directories are not yet created, create them!\n",
    "#mkdir(\"images\") #if the directories are not yet created, create them!\n",
    "#import Gmsh = gmsh # NEVER use using Gmsh!"
   ]
  },
  {
   "cell_type": "markdown",
   "id": "ce52b76b",
   "metadata": {},
   "source": [
    "To solve the problem we are going to use a special grid where we have taken very small triangles near zero so that we can represent appropriately the approximation we are going to obtain. We also have choosen that there will be a node at the origin, that is where the delta has support. The way to build it can be found at \"models/central_point.geo\""
   ]
  },
  {
   "cell_type": "code",
   "execution_count": null,
   "id": "ad081831",
   "metadata": {},
   "outputs": [],
   "source": [
    "model = GmshDiscreteModel(\"models/central_point.msh\")"
   ]
  },
  {
   "cell_type": "markdown",
   "id": "8d63dd21",
   "metadata": {},
   "source": [
    "Out of the mesh we create the triangulation. "
   ]
  },
  {
   "cell_type": "code",
   "execution_count": null,
   "id": "70159151",
   "metadata": {},
   "outputs": [],
   "source": [
    "Ω = Triangulation(model)"
   ]
  },
  {
   "cell_type": "code",
   "execution_count": null,
   "id": "75da8a51",
   "metadata": {},
   "outputs": [],
   "source": [
    "degree = 2\n",
    "dΩ = Measure(Ω,degree)\n"
   ]
  },
  {
   "cell_type": "markdown",
   "id": "d2a030ba",
   "metadata": {},
   "source": [
    "Plot it:"
   ]
  },
  {
   "cell_type": "code",
   "execution_count": null,
   "id": "a1bc3317",
   "metadata": {},
   "outputs": [],
   "source": [
    "fig, ax = plot(Ω)\n",
    "ax.aspect = AxisAspect(1)\n",
    "wireframe!(Ω, color=:black, linewidth=1)\n",
    "scatter!(Ω, marker=:star8, markersize=4, color=:blue)\n",
    "fig"
   ]
  },
  {
   "cell_type": "markdown",
   "id": "5e2f2549",
   "metadata": {},
   "source": [
    "We also plot the boundaries to make sure they are correct: "
   ]
  },
  {
   "cell_type": "code",
   "execution_count": null,
   "id": "40b5ca2f",
   "metadata": {},
   "outputs": [],
   "source": [
    "#labels = get_face_labeling(model)\n",
    "#add_tag_from_tags!(labels,\"diri\",[8])\n",
    "#add_tag_from_tags!(labels,\"point\",[7]);\n",
    "\n",
    "#boundary_tags = \"diri\"\n",
    "boundary_tags = [\"boundary\"]\n",
    "\n",
    "Γ = BoundaryTriangulation(model,tags=boundary_tags)\n",
    "dΓ = Measure(Γ,degree)\n",
    "fig, ax = plot(Γ, linewidth=8)\n",
    "ax.aspect = AxisAspect(1)\n",
    "wireframe!(Γ, color=:black, linewidth=1)\n",
    "fig\n"
   ]
  },
  {
   "cell_type": "markdown",
   "id": "450f3b63",
   "metadata": {},
   "source": [
    "Once the grid is defined with all the needed attributes we define the finite elements we shall be using. For this case we shall use *lagrangian* finite elements of **orden 2** that satisfy the homogeneous Dirichlet condition at the boundary $\\partial \\Omega_{boundary}$. "
   ]
  },
  {
   "cell_type": "code",
   "execution_count": null,
   "id": "4ec9573b",
   "metadata": {},
   "outputs": [],
   "source": [
    "order = 1\n",
    "reffe = ReferenceFE(lagrangian,Float64,order)\n",
    "\n",
    "dirichlet_tags= [\"boundary\"] \n",
    "\n",
    "V = TestFESpace(model,reffe;conformity=:H1,dirichlet_tags = dirichlet_tags)\n",
    "#V = TestFESpace(model,reffe;conformity=:L2,dirichlet_tags = dirichlet_tags) # for this weaker space the inversion does not work.\n"
   ]
  },
  {
   "cell_type": "markdown",
   "id": "c6fe4263",
   "metadata": {},
   "source": [
    "Now we define the trial space also with homogeneous Dirichlet conditions. "
   ]
  },
  {
   "cell_type": "code",
   "execution_count": null,
   "id": "97a5a4a4",
   "metadata": {},
   "outputs": [],
   "source": [
    "U = TrialFESpace(V,[0.0])\n"
   ]
  },
  {
   "cell_type": "markdown",
   "id": "3334dd22",
   "metadata": {},
   "source": [
    "So now we are in conditions of defining the weak problem in its abstract form: "
   ]
  },
  {
   "cell_type": "code",
   "execution_count": null,
   "id": "a8292775",
   "metadata": {},
   "outputs": [],
   "source": [
    "f(x) = 0 # for this case we take the continuous source to vanish, but we could also put a continuous charge distribution.  \n",
    "#δ_point = DiracDelta{0}(model,tags=[\"mypoint1\",\"mypoint2\"])\n",
    "δ = DiracDelta{0}(model,tags=\"point\")\n",
    "\n",
    "q = 1\n",
    "\n",
    "a(u,v) = ∫( ∇(v)⋅∇(u) )*dΩ  # In a(u,v) goes all the u dependence (the unknown).  \n",
    "\n",
    "b(v) = ∫(v*f )*dΩ + δ( q⋅v ) # In b(v) all the sources \n"
   ]
  },
  {
   "cell_type": "markdown",
   "id": "2925f85e",
   "metadata": {},
   "source": [
    "From this point on the package **Gridap.jl** generates a system of the form: $Ax=b$ and solves it for $u$ in the finite element version given. It first computes the matrices:"
   ]
  },
  {
   "cell_type": "code",
   "execution_count": null,
   "id": "29f86f1f",
   "metadata": {},
   "outputs": [],
   "source": [
    "op = AffineFEOperator(a,b,U,V)"
   ]
  },
  {
   "cell_type": "markdown",
   "id": "2667384d",
   "metadata": {},
   "source": [
    "Then it solves with some of the possible known strategies. Here we give two of them, the first is just an L-U decomposition (Lower triangular Unitary). The second it the `/` operator of Julia, which in general would use the most powerful method for the case."
   ]
  },
  {
   "cell_type": "code",
   "execution_count": null,
   "id": "9d90b5eb",
   "metadata": {},
   "outputs": [],
   "source": [
    "#ls = LUSolver()\n",
    "ls = BackslashSolver()\n",
    "solver = LinearFESolver(ls)"
   ]
  },
  {
   "cell_type": "markdown",
   "id": "6657e00e",
   "metadata": {},
   "source": [
    "And we solve it. We call the solution $u_h$."
   ]
  },
  {
   "cell_type": "code",
   "execution_count": null,
   "id": "671986c9",
   "metadata": {},
   "outputs": [],
   "source": [
    "uh = solve(solver,op)"
   ]
  },
  {
   "cell_type": "markdown",
   "id": "7a29f90d",
   "metadata": {},
   "source": [
    "Now we can plot the approximation found and save it to check it in another application. The saved files can be seen either with Paraview or VisIt."
   ]
  },
  {
   "cell_type": "code",
   "execution_count": null,
   "id": "06d3da80",
   "metadata": {},
   "outputs": [],
   "source": [
    "fig, ax, plt = plot(Ω, uh)\n",
    "ax.aspect = AxisAspect(1)\n",
    "Colorbar(fig[2,1], plt, vertical=false)\n",
    "fig\n"
   ]
  },
  {
   "cell_type": "code",
   "execution_count": null,
   "id": "9d076467",
   "metadata": {},
   "outputs": [],
   "source": [
    "writevtk(Ω,\"images/delta\",cellfields=[\"ϕ\" => uh])\n",
    "writevtk(Ω,\"images/E_delta\",cellfields=[\"E\" => -∇(uh)])\n"
   ]
  }
 ],
 "metadata": {
  "kernelspec": {
   "display_name": "Julia 1.11.5",
   "language": "julia",
   "name": "julia-1.11"
  },
  "language_info": {
   "file_extension": ".jl",
   "mimetype": "application/julia",
   "name": "julia",
   "version": "1.11.5"
  },
  "toc-autonumbering": false,
  "toc-showtags": false
 },
 "nbformat": 4,
 "nbformat_minor": 5
}
