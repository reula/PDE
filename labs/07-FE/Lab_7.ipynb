{
 "cells": [
  {
   "cell_type": "markdown",
   "metadata": {},
   "source": [
    "### Important 1: ###\n",
    "For this assignment, you must have the packages `Gridap.jl` and `Gmsh.jl` installed, as well as one of the compatible visualizers: **VisIt** https://wci.llnl.gov/simulation/computer-codes/visit/ or **Paraview** https://www.paraview.org/\n",
    "\n",
    "### Important 2: ###\n",
    "Rename the file as:  \n",
    "`group_name_lab_7.ipynb`\n",
    "\n",
    "**All the generated code and the presentation must be included in this notebook.**\n",
    "\n",
    "**The objectives of the assignment are varied:**\n",
    "\n",
    "1. Get familiar with the `Gridap` package and solving problems using **Finite Elements**.\n",
    "2. Solve Dirichlet problems for the Laplace or Poisson equation. \n",
    "3. Get acquainted with modern visualizers.\n",
    "4. Process the obtained data.\n",
    "\n",
    "**1)** Run the notebook `Poisson_example.ipynb` in its test mode and verify that it works correctly. Experiment with different \"solution\" functions and their \"sources\". Visualize the results using the selected visualizer (VisIt or Paraview).\n",
    "\n",
    "**2)** Experiment with different solver configurations (different methods, number of iterations, tolerances). Try different types of Finite Elements and different orders.\n",
    "\n",
    "**3)** Run the notebook `Poisson_example_b2.ipynb` with options for computing the capacities of different conductor configurations. Experiment with different conductor setups, or by changing their relative distances, sizes, shapes, etc.\n",
    "\n",
    "**4)** Use different resolutions and observe how it affects the computed capacities.\n",
    "\n",
    "**5)** For the adventurous: Change the boundary conditions to Neumann or Mixed, think of a specific (physical or engineering) problem and apply them.  \n",
    "Asymptotic conditions: For isolated systems, boundary conditions of the \"Robin\" type are used. These impose a decay like (in 3D) $u = \\frac{C}{r}$ without specifying $C$, for example by imposing (in 3D) $\\partial_r u + \\frac{u}{r} = 0$ on a sphere of radius $R$ large enough. Implement this condition for this system (in 2D).\n",
    "."
   ]
  }
 ],
 "metadata": {
  "kernelspec": {
   "display_name": "Python 3 (ipykernel)",
   "language": "python",
   "name": "python3"
  },
  "language_info": {
   "codemirror_mode": {
    "name": "ipython",
    "version": 3
   },
   "file_extension": ".py",
   "mimetype": "text/x-python",
   "name": "python",
   "nbconvert_exporter": "python",
   "pygments_lexer": "ipython3",
   "version": "3.9.7"
  },
  "latex_envs": {
   "LaTeX_envs_menu_present": true,
   "autoclose": false,
   "autocomplete": true,
   "bibliofile": "biblio.bib",
   "cite_by": "apalike",
   "current_citInitial": 1,
   "eqLabelWithNumbers": true,
   "eqNumInitial": 1,
   "hotkeys": {
    "equation": "Ctrl-E",
    "itemize": "Ctrl-I"
   },
   "labels_anchors": false,
   "latex_user_defs": false,
   "report_style_numbering": false,
   "user_envs_cfg": false
  }
 },
 "nbformat": 4,
 "nbformat_minor": 4
}
