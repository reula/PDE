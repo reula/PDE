{
 "cells": [
  {
   "cell_type": "markdown",
   "id": "03acf9f1",
   "metadata": {},
   "source": [
    "# Ejemplo de resolución del problema de Poisson una distribución de Dirac #\n"
   ]
  },
  {
   "cell_type": "markdown",
   "id": "e8a0c1b9",
   "metadata": {},
   "source": [
    "El problema a resolver es:\n",
    "\n",
    "\n",
    "\\begin{align*}\n",
    "-\\Delta u &= f + q\\delta(x_0) \\;\\;\\;\\;\\; \\text{in } \\Omega \\\\\n",
    "u &= h \\;\\;\\;\\;\\; \\text{in } \\partial \\Omega_{ext} \\\\\n",
    "\\end{align*}\n",
    "\n",
    "Para ello impondremos la versión débil del mismo:\n",
    "\n",
    "Encuentre $u$ en $H^1(\\Omega, f))$ (o sea con las condiciones de contorno de Dirichlet en $\\partial \\Omega_{int}$) tal que,\n",
    "\n",
    "$$\n",
    "\\int_{\\Omega} \\nabla v \\cdot \\nabla u \\; d\\Omega \n",
    "- \\int_{\\Omega} v \\; f \\; d\\Omega + q*v(x_0)\n",
    "= 0 \\;\\;\\;\\;\\; \\forall v \\;\\; \\in H^1_0(\\Omega)\n",
    "$$\n",
    "\n",
    "Si obtenemos un $u$ satisfaciendo esta ecuación, y es suficientemente suave, entonces podemos integrar por partes el primer término y obtener:\n",
    "\n",
    "$$\n",
    "\\int_{\\Omega}  v \\; (-\\Delta u - f) \\; d\\Omega \n",
    "= q \\delta_{x_0}(v) \\;\\;\\;\\;\\; \\forall v \\;\\; \\in H^1_0(\\Omega)\n",
    "$$\n",
    "\n",
    "Tomando $v$ arbitrario pero de soporte compacto vemos que $u$ debe satisfacer:\n",
    "\n",
    "$$\n",
    "-\\Delta u = f + q\\delta_{x_0}\\;\\;\\;\\;\\; \\text{in } \\Omega,\n",
    "$$\n",
    "\n",
    "La condición de Dirichlet es automática por la elección del espacio.\n",
    "\n"
   ]
  },
  {
   "cell_type": "markdown",
   "id": "41abe38f",
   "metadata": {},
   "source": [
    "Para resolver el problema utilizaremos la infraestructura del paquete `Gridap.jl` de Julia. Este ejemplo es una recopilación de varios ejemplos en el tutorial del paquete. "
   ]
  },
  {
   "cell_type": "code",
   "execution_count": 1,
   "id": "3a5a16d1",
   "metadata": {},
   "outputs": [],
   "source": [
    "#import Pkg; Pkg.activate(\"gridap_makie\")\n",
    "using Gridap\n",
    "using GridapMakie, GLMakie #Para graficar \n",
    "using FileIO #Gráficos y salidas\n",
    "#mkdir(\"models\")\n",
    "#mkdir(\"images\")\n",
    "using GridapGmsh\n",
    "#import Gmsh = gmsh"
   ]
  },
  {
   "cell_type": "markdown",
   "id": "ce52b76b",
   "metadata": {},
   "source": [
    "Vamos a usar una grilla especial para el problema, donde hemos elegido el punto donde estará la delta como un nodo de la misma. La manera de construirla está en \"models/central_point.geo\""
   ]
  },
  {
   "cell_type": "code",
   "execution_count": 16,
   "id": "ad081831",
   "metadata": {},
   "outputs": [
    {
     "name": "stdout",
     "output_type": "stream",
     "text": [
      "Info    : Reading 'models/central_point.msh'...\n",
      "Info    : 10 entities\n",
      "Info    : 5130 nodes\n",
      "Info    : 5210 elements\n",
      "Info    : Done reading 'models/central_point.msh'\n"
     ]
    },
    {
     "data": {
      "text/plain": [
       "UnstructuredDiscreteModel()"
      ]
     },
     "metadata": {},
     "output_type": "display_data"
    }
   ],
   "source": [
    "model = GmshDiscreteModel(\"models/central_point.msh\")"
   ]
  },
  {
   "cell_type": "code",
   "execution_count": 17,
   "id": "70159151",
   "metadata": {},
   "outputs": [
    {
     "data": {
      "text/plain": [
       "BodyFittedTriangulation()"
      ]
     },
     "metadata": {},
     "output_type": "display_data"
    }
   ],
   "source": [
    "Ω = Triangulation(model)\n"
   ]
  },
  {
   "cell_type": "code",
   "execution_count": 18,
   "id": "75da8a51",
   "metadata": {},
   "outputs": [
    {
     "data": {
      "text/plain": [
       "GenericMeasure()"
      ]
     },
     "metadata": {},
     "output_type": "display_data"
    }
   ],
   "source": [
    "degree = 2\n",
    "dΩ = Measure(Ω,degree)\n"
   ]
  },
  {
   "cell_type": "code",
   "execution_count": 19,
   "id": "a1bc3317",
   "metadata": {},
   "outputs": [],
   "source": [
    "fig, ax = plot(Ω)\n",
    "ax.aspect = AxisAspect(1)\n",
    "wireframe!(Ω, color=:black, linewidth=1)\n",
    "scatter!(Ω, marker=:star8, markersize=4, color=:blue)\n",
    "fig\n"
   ]
  },
  {
   "cell_type": "markdown",
   "id": "5e2f2549",
   "metadata": {},
   "source": [
    "Tambén podemos graficar los contornos:"
   ]
  },
  {
   "cell_type": "code",
   "execution_count": 20,
   "id": "40b5ca2f",
   "metadata": {},
   "outputs": [],
   "source": [
    "#labels = get_face_labeling(model)\n",
    "#add_tag_from_tags!(labels,\"diri\",[8])\n",
    "#add_tag_from_tags!(labels,\"point\",[7]);\n",
    "\n",
    "#boundary_tags = \"diri\"\n",
    "boundary_tags = [\"boundary\"]\n",
    "\n",
    "Γ = BoundaryTriangulation(model,tags=boundary_tags)\n",
    "dΓ = Measure(Γ,degree)\n",
    "fig, ax = plot(Γ, linewidth=8)\n",
    "ax.aspect = AxisAspect(1)\n",
    "wireframe!(Γ, color=:black, linewidth=1)\n",
    "fig\n"
   ]
  },
  {
   "cell_type": "markdown",
   "id": "450f3b63",
   "metadata": {},
   "source": [
    "Una vez que tenemos el grillado comenzamos a definir los elementos finitos que utilizaremos. En este caso usaremos elementos lagrangiano de **orden 2** que cumplirán una condición de Dirichlet en la región $\\partial \\Omega_{boundary}$. "
   ]
  },
  {
   "cell_type": "code",
   "execution_count": 21,
   "id": "4ec9573b",
   "metadata": {},
   "outputs": [
    {
     "data": {
      "text/plain": [
       "UnconstrainedFESpace()"
      ]
     },
     "metadata": {},
     "output_type": "display_data"
    }
   ],
   "source": [
    "order = 1\n",
    "reffe = ReferenceFE(lagrangian,Float64,order)\n",
    "\n",
    "dirichlet_tags= [\"boundary\"] \n",
    "\n",
    "V = TestFESpace(model,reffe;conformity=:H1,dirichlet_tags = dirichlet_tags)\n",
    "#V = TestFESpace(model,reffe;conformity=:L2,dirichlet_tags = dirichlet_tags) #no funciona la inversión.\n"
   ]
  },
  {
   "cell_type": "markdown",
   "id": "c6fe4263",
   "metadata": {},
   "source": [
    "Asignamos los valores de contorno para los potenciales. "
   ]
  },
  {
   "cell_type": "code",
   "execution_count": 22,
   "id": "97a5a4a4",
   "metadata": {},
   "outputs": [
    {
     "data": {
      "text/plain": [
       "TrialFESpace()"
      ]
     },
     "metadata": {},
     "output_type": "display_data"
    }
   ],
   "source": [
    "U = TrialFESpace(V,[0.0])\n"
   ]
  },
  {
   "cell_type": "markdown",
   "id": "3334dd22",
   "metadata": {},
   "source": [
    "A continuación definimos el problema débil en forma abstracta:"
   ]
  },
  {
   "cell_type": "code",
   "execution_count": null,
   "id": "a8292775",
   "metadata": {},
   "outputs": [
    {
     "data": {
      "text/plain": [
       "b (generic function with 1 method)"
      ]
     },
     "metadata": {},
     "output_type": "display_data"
    }
   ],
   "source": [
    "f(x) = 0 # en este caso la fuente es cero, pero se puede poner una distribución de carga.\n",
    "#δ_point = DiracDelta{0}(model,tags=[\"mypoint1\",\"mypoint2\"])\n",
    "δ = DiracDelta{0}(model,tags=\"point\")\n",
    "\n",
    "q = 1\n",
    "\n",
    "a(u,v) = ∫( ∇(v)⋅∇(u) )*dΩ  # en a(u,v) va toda la dependencia con u que es la incógnita. \n",
    "\n",
    "b(v) = ∫(v*f )*dΩ + δ( q⋅v ) # aquí todo lo que es fuente. \n"
   ]
  },
  {
   "cell_type": "markdown",
   "id": "2925f85e",
   "metadata": {},
   "source": [
    "A partir de este punto el paquete **Gridap.jl** genera un sistema del tipo $Ax=b$ y lo resuelve para la versión elementos finitos de u."
   ]
  },
  {
   "cell_type": "code",
   "execution_count": null,
   "id": "29f86f1f",
   "metadata": {},
   "outputs": [
    {
     "data": {
      "text/plain": [
       "AffineFEOperator()"
      ]
     },
     "metadata": {},
     "output_type": "display_data"
    }
   ],
   "source": [
    "op = AffineFEOperator(a,b,U,V)"
   ]
  },
  {
   "cell_type": "code",
   "execution_count": 35,
   "id": "9d90b5eb",
   "metadata": {},
   "outputs": [
    {
     "data": {
      "text/plain": [
       "LinearFESolver()"
      ]
     },
     "metadata": {},
     "output_type": "display_data"
    }
   ],
   "source": [
    "#ls = LUSolver()\n",
    "ls = BackslashSolver()\n",
    "solver = LinearFESolver(ls)"
   ]
  },
  {
   "cell_type": "code",
   "execution_count": 36,
   "id": "671986c9",
   "metadata": {},
   "outputs": [
    {
     "data": {
      "text/plain": [
       "SingleFieldFEFunction():\n",
       " num_cells: 5049\n",
       " DomainStyle: ReferenceDomain()\n",
       " Triangulation: BodyFittedTriangulation()\n",
       " Triangulation id: 2325728256945549188"
      ]
     },
     "metadata": {},
     "output_type": "display_data"
    }
   ],
   "source": [
    "uh = solve(solver,op)"
   ]
  },
  {
   "cell_type": "markdown",
   "id": "7a29f90d",
   "metadata": {},
   "source": [
    "Ahora podemos graficar la solución encontrada y guardarla además en un archivo que se puede leer con paraview o visit."
   ]
  },
  {
   "cell_type": "code",
   "execution_count": 30,
   "id": "06d3da80",
   "metadata": {},
   "outputs": [
    {
     "ename": "ErrorException",
     "evalue": "Buffer vertices does not have the same length as the other buffers.\n\tvertex_color has length 20196\n\tvertices has length 30294",
     "output_type": "error",
     "traceback": [
      "Buffer vertices does not have the same length as the other buffers.\n",
      "\tvertex_color has length 20196\n",
      "\tvertices has length 30294\n",
      "\n",
      "Stacktrace:\n",
      "  [1] error(s::String)\n",
      "    @ Base ./error.jl:35\n",
      "  [2] GLMakie.GLAbstraction.GLVertexArray(bufferdict::Dict{Symbol, Any}, program::GLMakie.GLAbstraction.GLProgram)\n",
      "    @ GLMakie.GLAbstraction ~/.julia/packages/GLMakie/TH3rf/src/GLAbstraction/GLTypes.jl:220\n",
      "  [3] GLMakie.GLAbstraction.RenderObject(data::Dict{Symbol, Any}, program::GLMakie.GLVisualizeShader, pre::GLMakie.GLAbstraction.StandardPrerender, post::GLFW.Window, context::GLFW.Window)\n",
      "    @ GLMakie.GLAbstraction ~/.julia/packages/GLMakie/TH3rf/src/GLAbstraction/GLTypes.jl:402\n",
      "  [4] GLMakie.GLAbstraction.RenderObject(data::Dict{Symbol, Any}, program::GLMakie.GLVisualizeShader, pre::GLMakie.GLAbstraction.StandardPrerender, post::GLFW.Window)\n",
      "    @ GLMakie.GLAbstraction ~/.julia/packages/GLMakie/TH3rf/src/GLAbstraction/GLTypes.jl:346\n",
      "  [5] assemble_shader(data::Dict{Symbol, Any})\n",
      "    @ GLMakie ~/.julia/packages/GLMakie/TH3rf/src/glshaders/visualize_interface.jl:108\n",
      "  [6] draw_mesh(screen::GLMakie.Screen{GLFW.Window}, data::Dict{Symbol, Any})\n",
      "    @ GLMakie ~/.julia/packages/GLMakie/TH3rf/src/glshaders/mesh.jl:72\n",
      "  [7] mesh_inner(screen::GLMakie.Screen{GLFW.Window}, mesh::Observable{GeometryBasics.Mesh{2, Float64, GeometryBasics.Ngon{2, Float64, 3, GeometryBasics.Point{2, Float64}}, GeometryBasics.SimpleFaceView{2, Float64, 3, GeometryBasics.OffsetInteger{-1, UInt32}, GeometryBasics.Point{2, Float64}, GeometryBasics.NgonFace{3, GeometryBasics.OffsetInteger{-1, UInt32}}}}}, transfunc::Observable{Any}, gl_attributes::Dict{Symbol, Any}, plot::Mesh{Tuple{GeometryBasics.Mesh{2, Float64, GeometryBasics.Ngon{2, Float64, 3, GeometryBasics.Point{2, Float64}}, GeometryBasics.SimpleFaceView{2, Float64, 3, GeometryBasics.OffsetInteger{-1, UInt32}, GeometryBasics.Point{2, Float64}, GeometryBasics.NgonFace{3, GeometryBasics.OffsetInteger{-1, UInt32}}}}}}, space::Observable{Any})\n",
      "    @ GLMakie ~/.julia/packages/GLMakie/TH3rf/src/drawing_primitives.jl:776\n",
      "  [8] (::GLMakie.var\"#315#316\"{GLMakie.Screen{GLFW.Window}, Mesh{Tuple{GeometryBasics.Mesh{2, Float64, GeometryBasics.Ngon{2, Float64, 3, GeometryBasics.Point{2, Float64}}, GeometryBasics.SimpleFaceView{2, Float64, 3, GeometryBasics.OffsetInteger{-1, UInt32}, GeometryBasics.Point{2, Float64}, GeometryBasics.NgonFace{3, GeometryBasics.OffsetInteger{-1, UInt32}}}}}}})(gl_attributes::Dict{Symbol, Any})\n",
      "    @ GLMakie ~/.julia/packages/GLMakie/TH3rf/src/drawing_primitives.jl:783\n",
      "  [9] (::GLMakie.var\"#213#223\"{GLMakie.var\"#315#316\"{GLMakie.Screen{GLFW.Window}, Mesh{Tuple{GeometryBasics.Mesh{2, Float64, GeometryBasics.Ngon{2, Float64, 3, GeometryBasics.Point{2, Float64}}, GeometryBasics.SimpleFaceView{2, Float64, 3, GeometryBasics.OffsetInteger{-1, UInt32}, GeometryBasics.Point{2, Float64}, GeometryBasics.NgonFace{3, GeometryBasics.OffsetInteger{-1, UInt32}}}}}}}, GLMakie.Screen{GLFW.Window}, Scene, Mesh{Tuple{GeometryBasics.Mesh{2, Float64, GeometryBasics.Ngon{2, Float64, 3, GeometryBasics.Point{2, Float64}}, GeometryBasics.SimpleFaceView{2, Float64, 3, GeometryBasics.OffsetInteger{-1, UInt32}, GeometryBasics.Point{2, Float64}, GeometryBasics.NgonFace{3, GeometryBasics.OffsetInteger{-1, UInt32}}}}}}})()\n",
      "    @ GLMakie ~/.julia/packages/GLMakie/TH3rf/src/drawing_primitives.jl:337\n",
      " [10] get!(default::GLMakie.var\"#213#223\"{GLMakie.var\"#315#316\"{GLMakie.Screen{GLFW.Window}, Mesh{Tuple{GeometryBasics.Mesh{2, Float64, GeometryBasics.Ngon{2, Float64, 3, GeometryBasics.Point{2, Float64}}, GeometryBasics.SimpleFaceView{2, Float64, 3, GeometryBasics.OffsetInteger{-1, UInt32}, GeometryBasics.Point{2, Float64}, GeometryBasics.NgonFace{3, GeometryBasics.OffsetInteger{-1, UInt32}}}}}}}, GLMakie.Screen{GLFW.Window}, Scene, Mesh{Tuple{GeometryBasics.Mesh{2, Float64, GeometryBasics.Ngon{2, Float64, 3, GeometryBasics.Point{2, Float64}}, GeometryBasics.SimpleFaceView{2, Float64, 3, GeometryBasics.OffsetInteger{-1, UInt32}, GeometryBasics.Point{2, Float64}, GeometryBasics.NgonFace{3, GeometryBasics.OffsetInteger{-1, UInt32}}}}}}}, h::Dict{UInt64, GLMakie.GLAbstraction.RenderObject}, key::UInt64)\n",
      "    @ Base ./dict.jl:458\n",
      " [11] cached_robj!(robj_func::GLMakie.var\"#315#316\"{GLMakie.Screen{GLFW.Window}, Mesh{Tuple{GeometryBasics.Mesh{2, Float64, GeometryBasics.Ngon{2, Float64, 3, GeometryBasics.Point{2, Float64}}, GeometryBasics.SimpleFaceView{2, Float64, 3, GeometryBasics.OffsetInteger{-1, UInt32}, GeometryBasics.Point{2, Float64}, GeometryBasics.NgonFace{3, GeometryBasics.OffsetInteger{-1, UInt32}}}}}}}, screen::GLMakie.Screen{GLFW.Window}, scene::Scene, plot::Mesh{Tuple{GeometryBasics.Mesh{2, Float64, GeometryBasics.Ngon{2, Float64, 3, GeometryBasics.Point{2, Float64}}, GeometryBasics.SimpleFaceView{2, Float64, 3, GeometryBasics.OffsetInteger{-1, UInt32}, GeometryBasics.Point{2, Float64}, GeometryBasics.NgonFace{3, GeometryBasics.OffsetInteger{-1, UInt32}}}}}})\n",
      "    @ GLMakie ~/.julia/packages/GLMakie/TH3rf/src/drawing_primitives.jl:235\n",
      " [12] draw_atomic(screen::GLMakie.Screen{GLFW.Window}, scene::Scene, meshplot::Mesh{Tuple{GeometryBasics.Mesh{2, Float64, GeometryBasics.Ngon{2, Float64, 3, GeometryBasics.Point{2, Float64}}, GeometryBasics.SimpleFaceView{2, Float64, 3, GeometryBasics.OffsetInteger{-1, UInt32}, GeometryBasics.Point{2, Float64}, GeometryBasics.NgonFace{3, GeometryBasics.OffsetInteger{-1, UInt32}}}}}})\n",
      "    @ GLMakie ~/.julia/packages/GLMakie/TH3rf/src/drawing_primitives.jl:780\n",
      " [13] insert!(screen::GLMakie.Screen{GLFW.Window}, scene::Scene, x::Plot)\n",
      "    @ GLMakie ~/.julia/packages/GLMakie/TH3rf/src/drawing_primitives.jl:353\n",
      " [14] #233\n",
      "    @ ~/.julia/packages/GLMakie/TH3rf/src/drawing_primitives.jl:358 [inlined]\n",
      " [15] foreach(f::GLMakie.var\"#233#234\"{GLMakie.Screen{GLFW.Window}, Scene}, itr::Vector{Plot})\n",
      "    @ Base ./abstractarray.jl:3187\n",
      " [16] insert!(screen::GLMakie.Screen{GLFW.Window}, scene::Scene, x::Plot)\n",
      "    @ GLMakie ~/.julia/packages/GLMakie/TH3rf/src/drawing_primitives.jl:355\n",
      " [17] #233\n",
      "    @ ~/.julia/packages/GLMakie/TH3rf/src/drawing_primitives.jl:358 [inlined]\n",
      " [18] foreach(f::GLMakie.var\"#233#234\"{GLMakie.Screen{GLFW.Window}, Scene}, itr::Vector{Plot})\n",
      "    @ Base ./abstractarray.jl:3187\n",
      " [19] insert!(screen::GLMakie.Screen{GLFW.Window}, scene::Scene, x::Plot)\n",
      "    @ GLMakie ~/.julia/packages/GLMakie/TH3rf/src/drawing_primitives.jl:355\n",
      " [20] insertplots!(screen::GLMakie.Screen{GLFW.Window}, scene::Scene)\n",
      "    @ GLMakie ~/.julia/packages/GLMakie/TH3rf/src/screen.jl:517\n",
      " [21] insertplots!(screen::GLMakie.Screen{GLFW.Window}, scene::Scene) (repeats 2 times)\n",
      "    @ GLMakie ~/.julia/packages/GLMakie/TH3rf/src/screen.jl:520\n",
      " [22] display_scene!(screen::GLMakie.Screen{GLFW.Window}, scene::Scene)\n",
      "    @ GLMakie ~/.julia/packages/GLMakie/TH3rf/src/screen.jl:444\n",
      " [23] GLMakie.Screen(scene::Scene, config::GLMakie.ScreenConfig; visible::Nothing, start_renderloop::Bool)\n",
      "    @ GLMakie ~/.julia/packages/GLMakie/TH3rf/src/screen.jl:461\n",
      " [24] GLMakie.Screen(scene::Scene, config::GLMakie.ScreenConfig)\n",
      "    @ GLMakie ~/.julia/packages/GLMakie/TH3rf/src/screen.jl:457\n",
      " [25] getscreen(::Module, ::Scene, ::Dict{Symbol, Any})\n",
      "    @ Makie ~/.julia/packages/Makie/Y3ABD/src/display.jl:436\n",
      " [26] display(figlike::Figure; backend::Module, inline::Bool, update::Bool, screen_config::@Kwargs{})\n",
      "    @ Makie ~/.julia/packages/Makie/Y3ABD/src/display.jl:165\n",
      " [27] display(figlike::Figure)\n",
      "    @ Makie ~/.julia/packages/Makie/Y3ABD/src/display.jl:130\n",
      " [28] #invokelatest#2\n",
      "    @ ./essentials.jl:1055 [inlined]\n",
      " [29] invokelatest\n",
      "    @ ./essentials.jl:1052 [inlined]\n",
      " [30] (::VSCodeServer.var\"#217#218\"{VSCodeServer.NotebookRunCellArguments, String})()\n",
      "    @ VSCodeServer ~/.vscode/extensions/julialang.language-julia-1.144.2/scripts/packages/VSCodeServer/src/serve_notebook.jl:54\n",
      " [31] withpath(f::VSCodeServer.var\"#217#218\"{VSCodeServer.NotebookRunCellArguments, String}, path::String)\n",
      "    @ VSCodeServer ~/.vscode/extensions/julialang.language-julia-1.144.2/scripts/packages/VSCodeServer/src/repl.jl:276\n",
      " [32] notebook_runcell_request(conn::VSCodeServer.JSONRPC.JSONRPCEndpoint{Base.PipeEndpoint, Base.PipeEndpoint, VSCodeServer.JSON.Serializations.StandardSerialization}, params::VSCodeServer.NotebookRunCellArguments, token::VSCodeServer.CancellationTokens.CancellationToken)\n",
      "    @ VSCodeServer ~/.vscode/extensions/julialang.language-julia-1.144.2/scripts/packages/VSCodeServer/src/serve_notebook.jl:13\n",
      " [33] dispatch_msg(x::VSCodeServer.JSONRPC.JSONRPCEndpoint{Base.PipeEndpoint, Base.PipeEndpoint, VSCodeServer.JSON.Serializations.StandardSerialization}, dispatcher::VSCodeServer.JSONRPC.MsgDispatcher, msg::VSCodeServer.JSONRPC.Request)\n",
      "    @ VSCodeServer.JSONRPC ~/.vscode/extensions/julialang.language-julia-1.144.2/scripts/packages/JSONRPC/src/typed.jl:68\n",
      " [34] serve_notebook(pipename::String, debugger_pipename::String, outputchannel_logger::Base.CoreLogging.SimpleLogger; error_handler::var\"#5#10\"{String})\n",
      "    @ VSCodeServer ~/.vscode/extensions/julialang.language-julia-1.144.2/scripts/packages/VSCodeServer/src/serve_notebook.jl:147\n",
      " [35] top-level scope\n",
      "    @ ~/.vscode/extensions/julialang.language-julia-1.144.2/scripts/notebook/notebook.jl:35"
     ]
    }
   ],
   "source": [
    "fig, ax, plt = plot(Ω, uh)\n",
    "ax.aspect = AxisAspect(1)\n",
    "Colorbar(fig[2,1], plt, vertical=false)\n",
    "fig\n"
   ]
  },
  {
   "cell_type": "code",
   "execution_count": 28,
   "id": "9d076467",
   "metadata": {},
   "outputs": [
    {
     "data": {
      "text/plain": [
       "([\"images/E_delta.vtu\"],)"
      ]
     },
     "metadata": {},
     "output_type": "display_data"
    }
   ],
   "source": [
    "writevtk(Ω,\"images/delta\",cellfields=[\"ϕ\" => uh])\n",
    "writevtk(Ω,\"images/E_delta\",cellfields=[\"E\" => -∇(uh)])\n"
   ]
  },
  {
   "cell_type": "code",
   "execution_count": 15,
   "id": "90ba6245",
   "metadata": {},
   "outputs": [],
   "source": [
    "\n",
    "\n"
   ]
  }
 ],
 "metadata": {
  "kernelspec": {
   "display_name": "Julia 1.11.5",
   "language": "julia",
   "name": "julia-1.11"
  },
  "language_info": {
   "file_extension": ".jl",
   "mimetype": "application/julia",
   "name": "julia",
   "version": "1.11.5"
  },
  "toc-autonumbering": false,
  "toc-showtags": false
 },
 "nbformat": 4,
 "nbformat_minor": 5
}
