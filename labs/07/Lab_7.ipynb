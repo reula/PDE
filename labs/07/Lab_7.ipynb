{
 "cells": [
  {
   "cell_type": "markdown",
   "metadata": {},
   "source": [
    "# Lab 7\n",
    "\n",
    "### Important 1: ###\n",
    "For this assignment, you must have the `Gridap` and `Gmsh` libraries installed, as well as one of the compatible visualizers: **VisIt** https://wci.llnl.gov/simulation/computer-codes/visit/ or **Paraview** https://www.paraview.org/\n",
    "\n",
    "### Important 2: ###\n",
    "Rename the file as: \n",
    "**group_name_task_7.ipynb** or **your_last_name_first_name_task_7.ipynb**\n",
    "\n",
    "**All generated code and the presentation must be included in this notebook.**\n",
    "\n",
    "**The objectives of the assignment are varied:**\n",
    "\n",
    "1. Get familiar with the ```Gridap``` package and solving problems using **Finite Elements**.\n",
    "2. Solve Dirichlet problems for the Laplace or Poisson equation.\n",
    "3. Get familiar with modern visualizers.\n",
    "4. Process the obtained data.\n",
    "\n",
    "\n",
    "**1)** Run the notebook **Poisson_example_en.ipynb** as your test option and check that it works correctly. Experiment with different \"solution\" functions and their \"sources\". Visualize the results in the chosen visualizer (VisIt or Paraview).\n",
    "\n",
    "**2)** Experiment with different solver configurations (different methods, different number of iterations, tolerances). Try different types of Finite Elements and different orders.\n",
    "\n",
    "**3)** Run the notebook **Poisson_example_cap.ipynb** with options to compute the capacitances of different conductor configurations. Experiment with different conductor configurations or by changing their relative distances, sizes, shapes, etc. \n",
    "\n",
    "**4)** Make your own mesh using Gmsh and import it to the notebook. Don't forget to include it when sending finished lab.\n",
    "\n",
    "**5)** Use different resolutions and see how it affects the calculated capacitances. For simple models you can use methods similar to the ones in the Gridap Tutorial: https://gridap.github.io/Tutorials/stable/pages/t002_validation/#validation.jl-1\n",
    "\n",
    "**6)** For the adventurous: Change the boundary conditions to Neumann or Mixed, think of a specific (physical or engineering) problem and apply them. Asymptotic conditions: For isolated systems, \"Robin\" type boundary conditions are used. These impose a decay of the type (in 3 dimensions) $u = \\frac{C}{r^n}$ without specifying $C$, for example by imposing (in 3 dimensions use $n=1$) $\\partial_r u + \\frac{n}{r^{n+1}}u = 0$ on a sphere of radius $R$ large enough. Implement this condition for this system (in 2 dimensions).\n",
    "\n"
   ]
  },
  {
   "cell_type": "code",
   "execution_count": null,
   "metadata": {},
   "outputs": [],
   "source": []
  }
 ],
 "metadata": {
  "kernelspec": {
   "display_name": "Python 3 (ipykernel)",
   "language": "python",
   "name": "python3"
  },
  "language_info": {
   "codemirror_mode": {
    "name": "ipython",
    "version": 3
   },
   "file_extension": ".py",
   "mimetype": "text/x-python",
   "name": "python",
   "nbconvert_exporter": "python",
   "pygments_lexer": "ipython3",
   "version": "3.9.7"
  },
  "latex_envs": {
   "LaTeX_envs_menu_present": true,
   "autoclose": false,
   "autocomplete": true,
   "bibliofile": "biblio.bib",
   "cite_by": "apalike",
   "current_citInitial": 1,
   "eqLabelWithNumbers": true,
   "eqNumInitial": 1,
   "hotkeys": {
    "equation": "Ctrl-E",
    "itemize": "Ctrl-I"
   },
   "labels_anchors": false,
   "latex_user_defs": false,
   "report_style_numbering": false,
   "user_envs_cfg": false
  }
 },
 "nbformat": 4,
 "nbformat_minor": 4
}
