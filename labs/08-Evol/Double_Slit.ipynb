{
 "cells": [
  {
   "cell_type": "markdown",
   "id": "e5dc48c4-47c1-41cf-b0b3-3029c289527f",
   "metadata": {},
   "source": [
    "## Schrodinger Equation ##"
   ]
  },
  {
   "cell_type": "markdown",
   "id": "c28df877-709f-497c-a4ec-bdcb5d1686cd",
   "metadata": {},
   "source": [
    "We are going to solve the Schrodinger equation on a domain $\\Omega_h$ with Dirichlet boundary contitions."
   ]
  },
  {
   "cell_type": "markdown",
   "id": "b59d4ca5-8032-4e4d-a905-bf3544cce615",
   "metadata": {},
   "source": [
    "The equation to solve is:\n",
    "\n",
    "$$\n",
    "i \\frac{\\partial u}{\\partial t} = \\Delta u \n",
    "$$\n",
    "\n",
    "Which we solve using,\n",
    "\n",
    "$$\n",
    "i (u - u_n) = dt *  \\Delta (u + u_n)/2\n",
    "$$\n",
    "\n",
    "As time integrator, here $u = u_{n+1}$. Since the eigenvalues of $\\Delta$ are proportional to $\\Delta x^2$, $\\lambda = -c/\\Delta x^2$, $c > 0$, we must be carefull with the stability region of the method. We have, for each eigenfunction, \n",
    "\n",
    "$$\n",
    "(i - \\lambda dt/2)u = (i + \\lambda dt /2 )u_n\n",
    "$$\n",
    "\n",
    "Thus, the amplification factor is: \n",
    "\n",
    "$$\n",
    "|\\frac{1 + i\\lambda dt /2}{1 - i\\lambda dt /2}| = 1\n",
    "$$\n",
    "\n",
    "and the system is unconditionaly stable.\n",
    "\n",
    "\n",
    "\n",
    "We shall use its weak form,\n",
    "\n",
    "$$\n",
    "\\int [2i v*u +  \\nabla v \\cdot \\nabla u ] \\; d\\Omega = \\int [2i*v*u_n - \\nabla v \\cdot \\nabla u_n ] \\; d\\Omega\n",
    "$$\n",
    "\n"
   ]
  },
  {
   "cell_type": "code",
   "execution_count": null,
   "id": "243cd6dc-15ba-4989-90c6-84e1317cc327",
   "metadata": {},
   "outputs": [
    {
     "name": "stderr",
     "output_type": "stream",
     "text": [
      "\u001b[32m\u001b[1m  Activating\u001b[22m\u001b[39m project at `~/Docencia/PDE/pde_private/Tareas/Tarea_7/gridap_makie`\n"
     ]
    }
   ],
   "source": [
    "#import Pkg; Pkg.activate(\"gridap_makie\")\n",
    "using Gridap\n",
    "using GridapMakie, GLMakie\n",
    "using FileIO\n",
    "#using Plots\n",
    "#mkdir(\"models\")\n",
    "#mkdir(\"images\")\n",
    "using GridapGmsh\n",
    "#using GridapGeosciences\n",
    "using Gridap.Arrays\n",
    "using Gridap.TensorValues\n",
    "using Gridap.ReferenceFEs\n",
    "using Gridap.Geometry\n",
    "using Gridap.Fields\n",
    "using Gridap.Algebra\n",
    "using SparseArrays\n",
    "using Gridap.FESpaces\n",
    "using Gridap.CellData\n",
    "using Gridap\n",
    "using GridapMakie, GLMakie\n",
    "using FileIO\n",
    "#using gmsh\n",
    "using LinearAlgebra\n",
    "using SuiteSparse"
   ]
  },
  {
   "cell_type": "code",
   "execution_count": 1,
   "id": "2862b0cd-1c91-4be8-9019-dcd435ca698e",
   "metadata": {},
   "outputs": [
    {
     "ename": "LoadError",
     "evalue": "SystemError: opening file \"/Users/reula/Docencia/PDE/pde_private/Tareas/Tarea_7/mesh_generator_Gmsh.jl\": No such file or directory",
     "output_type": "error",
     "traceback": [
      "SystemError: opening file \"/Users/reula/Docencia/PDE/pde_private/Tareas/Tarea_7/mesh_generator_Gmsh.jl\": No such file or directory",
      "",
      "Stacktrace:",
      "  [1] systemerror(p::String, errno::Int32; extrainfo::Nothing)",
      "    @ Base ./error.jl:176",
      "  [2] #systemerror#80",
      "    @ ./error.jl:175 [inlined]",
      "  [3] systemerror",
      "    @ ./error.jl:175 [inlined]",
      "  [4] open(fname::String; lock::Bool, read::Nothing, write::Nothing, create::Nothing, truncate::Nothing, append::Nothing)",
      "    @ Base ./iostream.jl:293",
      "  [5] open",
      "    @ ./iostream.jl:275 [inlined]",
      "  [6] open(f::Base.var\"#387#388\"{String}, args::String; kwargs::Base.Pairs{Symbol, Union{}, Tuple{}, NamedTuple{(), Tuple{}}})",
      "    @ Base ./io.jl:382",
      "  [7] open",
      "    @ ./io.jl:381 [inlined]",
      "  [8] read",
      "    @ ./io.jl:462 [inlined]",
      "  [9] _include(mapexpr::Function, mod::Module, _path::String)",
      "    @ Base ./loading.jl:1484",
      " [10] include(fname::String)",
      "    @ Base.MainInclude ./client.jl:476",
      " [11] top-level scope",
      "    @ In[1]:2",
      " [12] eval",
      "    @ ./boot.jl:368 [inlined]",
      " [13] include_string(mapexpr::typeof(REPL.softscope), mod::Module, code::String, filename::String)",
      "    @ Base ./loading.jl:1428"
     ]
    }
   ],
   "source": [
    "include(\"../../Tareas/Tarea_5/mesh_generator.jl\")\n",
    "\n",
    "grid_type = \"double_slit\"\n",
    "\n",
    "Lx = 1.0\n",
    "Ly = 1.0\n",
    "Sx = 0.05\n",
    "Sy = 0.4\n",
    "SS = 0.05\n",
    "#h = 0.01 #grosa not sure how it relates to h\n",
    "#h = 0.1 #junta\n",
    "h = 0.005 #\n",
    "#p = (\"double_slit_grosa\", 1, 1, 0.05, 0.4, 0.05, h) #for test / rectangle (Length_x, Length_y, h) \n",
    "#p = (\"double_slit_junta\", 1, 1, 0.05, 0.3, 0.1, h)\n",
    "#p = (\"double_slit\", 1, 1, 0.05, 0.25, 0.1, h)\n",
    "p = (\"double_slit_junta_dis\", Lx, Ly, Sx, Sy, SS, h)\n",
    "boundary_tags = [\"ext\",\"int\"]\n",
    "dirichlet_tags= [\"ext\",\"int\"]\n",
    "dirichlet_values = 0.0 # 0.0+im*0.0\n",
    "model = make_model(grid_type, p)"
   ]
  },
  {
   "cell_type": "code",
   "execution_count": 5,
   "id": "087e3435-ec84-4335-9058-bee23bae3b12",
   "metadata": {},
   "outputs": [
    {
     "ename": "LoadError",
     "evalue": "UndefVarError: h not defined",
     "output_type": "error",
     "traceback": [
      "UndefVarError: h not defined",
      "",
      "Stacktrace:",
      " [1] top-level scope",
      "   @ In[5]:23",
      " [2] eval",
      "   @ ./boot.jl:368 [inlined]",
      " [3] include_string(mapexpr::typeof(REPL.softscope), mod::Module, code::String, filename::String)",
      "   @ Base ./loading.jl:1428"
     ]
    }
   ],
   "source": [
    "T = 0.1            # final time for test\n",
    "#T = 0.8\n",
    "num_steps = 101   # number of time steps for \n",
    "dt = T / (num_steps-1) # time step size\n",
    "\n",
    "\n",
    "# Intervals where data is saved\n",
    "n_int = 5 # for 64\n",
    "#mod = 60 # for 128\n",
    "#mod = 120 # for 128 T=6\n",
    "#mod = 240 # for 256 T=3\n",
    "#mod = 480\n",
    "\n",
    "dumping = false\n",
    "#dumping = true\n",
    "\n",
    "\n",
    "file_name = \"double_slit_grosa\" #where to save things\n",
    "if dumping\n",
    "    file_name = file_name*\"_dumping\"\n",
    "end\n",
    "\n",
    "println(\"dt / dx^2 = $(dt / h^2)   dt / dx = $(dt / h)  dt^3 / dx^6 = $((dt / h^2)^3)\")"
   ]
  },
  {
   "cell_type": "markdown",
   "id": "1493e883-cb2b-48b3-9e5e-4c030a4dee55",
   "metadata": {},
   "source": [
    "The first number indicates what it would be the CFL condition for the explicit Euler method. The second a guide about taking time and space comparable steps. The third is proportinal to the error, obtained by expanding $\\frac{1 + i\\lambda dt /2}{1 - i\\lambda dt /2} - e^{i\\lambda dt} = (1 + i\\lambda dt /2)(1 + i\\lambda dt /2 - \\frac{\\lambda^2 dt^2}{4})  - (1 + i\\lambda dt - \\frac{\\lambda^2 dt^2}{2}) = O(\\lambda dt)^3 $"
   ]
  },
  {
   "cell_type": "code",
   "execution_count": null,
   "id": "be7b49d7-3947-4440-93da-39ed7f8964e2",
   "metadata": {},
   "outputs": [],
   "source": []
  },
  {
   "cell_type": "code",
   "execution_count": null,
   "id": "41bb7a4b-747c-4088-b9f4-3ac6ab97bdc1",
   "metadata": {},
   "outputs": [
    {
     "data": {
      "text/plain": [
       "Measure()"
      ]
     },
     "execution_count": 157,
     "metadata": {},
     "output_type": "execute_result"
    }
   ],
   "source": [
    "order = 2\n",
    "degree = order\n",
    "Ωₕ = Triangulation(model)\n",
    "dΩₕ = Measure(Ωₕ,degree)\n"
   ]
  },
  {
   "cell_type": "code",
   "execution_count": null,
   "id": "dff10043-fc95-41bf-b15f-af4790342399",
   "metadata": {},
   "outputs": [
    {
     "data": {
      "image/png": "[encoded data removed]",
      "text/plain": [
       "Figure()"
      ]
     },
     "execution_count": 158,
     "metadata": {},
     "output_type": "execute_result"
    }
   ],
   "source": [
    "ue(x)=x[1]\n",
    "Γ₁ = BoundaryTriangulation(model,tags=[\"ext\", \"int\"])\n",
    "fig, ax , plt  = plot(Γ₁,ue, colormap=:heat, linewidth=10)\n",
    "ax.aspect = AxisAspect(2.2)\n",
    "Colorbar(fig[1,2], plt)\n",
    "fig\n",
    "\n",
    "#plot(Γ₁)"
   ]
  },
  {
   "cell_type": "code",
   "execution_count": null,
   "id": "b4704249-9c67-484a-8268-0e1c259183d5",
   "metadata": {},
   "outputs": [],
   "source": [
    "#scatter(BoundaryTriangulation(model,tags=[4]))\n"
   ]
  },
  {
   "cell_type": "code",
   "execution_count": null,
   "id": "58407394-2cca-47b9-93fc-4b0655c9961c",
   "metadata": {},
   "outputs": [
    {
     "data": {
      "text/plain": [
       "(Lagrangian(), (Float64, 2), Base.Iterators.Pairs{Union{}, Union{}, Tuple{}, NamedTuple{(), Tuple{}}}())"
      ]
     },
     "execution_count": 160,
     "metadata": {},
     "output_type": "execute_result"
    }
   ],
   "source": [
    "reffe = ReferenceFE(lagrangian,Float64,order)"
   ]
  },
  {
   "cell_type": "code",
   "execution_count": null,
   "id": "aeb0c2c2-aabc-4a85-ab89-07633c6905f1",
   "metadata": {},
   "outputs": [
    {
     "data": {
      "text/plain": [
       "TrialFESpace()"
      ]
     },
     "execution_count": 161,
     "metadata": {},
     "output_type": "execute_result"
    }
   ],
   "source": [
    "V = TestFESpace(model,reffe,dirichlet_tags=dirichlet_tags,conformity=:H1,vector_type=Vector{ComplexF64})\n",
    "U = TrialFESpace(V,0.0)"
   ]
  },
  {
   "cell_type": "code",
   "execution_count": null,
   "id": "6f7504d7-55b6-430b-adee-56d693e64253",
   "metadata": {},
   "outputs": [],
   "source": [
    "#ls = LUSolver()\n",
    "#solver = LinearFESolver(ls)"
   ]
  },
  {
   "cell_type": "code",
   "execution_count": null,
   "id": "94b03f2b-7765-49c2-8005-6e358743545d",
   "metadata": {},
   "outputs": [
    {
     "data": {
      "text/plain": [
       "norm_L2 (generic function with 1 method)"
      ]
     },
     "execution_count": 163,
     "metadata": {},
     "output_type": "execute_result"
    }
   ],
   "source": [
    "norm_L2(u) = sqrt(real(sum(∫(u'*u)*dΩₕ)))"
   ]
  },
  {
   "cell_type": "code",
   "execution_count": null,
   "id": "72d31ef1-d5c9-462f-b736-368996c2f296",
   "metadata": {},
   "outputs": [
    {
     "data": {
      "text/plain": [
       "0.6400000000000001 + 0.0im"
      ]
     },
     "execution_count": 164,
     "metadata": {},
     "output_type": "execute_result"
    }
   ],
   "source": [
    "function u_0_bump(x,par) \n",
    "    r0, r1, p = par\n",
    "    r = sqrt((x[1]-0.5)^2 + (x[2]-0.5)^2)\n",
    "    if r > r0 && r < r1\n",
    "        return (r-r0)^p*(r-r1)^p * (4^(2p)) + 0.0*im\n",
    "    else \n",
    "        return 0.0 + 0.0*im\n",
    "    end\n",
    "end\n",
    "\n",
    "function u_0_particle(x,par)\n",
    "    r0, xi, k, p = par\n",
    "    r = sqrt((x[1]-xi[1])^2 + 0.2*(x[2]-xi[2])^2)\n",
    "    kx = 2π*(k[1]*(x[1]-xi[1]) + k[2]*(x[2]-xi[2]))\n",
    "    if r < r0\n",
    "        return (r-r0)^p * 4^p *exp(im*kx)\n",
    "    else \n",
    "        return 0.0 + 0.0*im\n",
    "    end\n",
    "end\n",
    "        \n",
    "\n",
    "par_particle = (0.2, [0.5;0.5], [-10;0], 2)\n",
    "\n",
    "u_0_particle([0.5;0.5], par_particle)\n"
   ]
  },
  {
   "cell_type": "code",
   "execution_count": null,
   "id": "17621d2c-ee14-4917-82d1-a64d89c7d7c6",
   "metadata": {},
   "outputs": [
    {
     "data": {
      "text/plain": [
       "SingleFieldFEFunction():\n",
       " num_cells: 185606\n",
       " DomainStyle: ReferenceDomain()\n",
       " Triangulation: UnstructuredGrid()\n",
       " Triangulation id: 14677597502317758768"
      ]
     },
     "execution_count": 165,
     "metadata": {},
     "output_type": "execute_result"
    }
   ],
   "source": [
    "test=false\n",
    "bump=false\n",
    "particle=true\n",
    "\n",
    "\n",
    "if test\n",
    "    u_0(x) = u_0_test(x,par_test)\n",
    "elseif bump\n",
    "    u_0(x) = u_0_bump(x, par_bump)\n",
    "elseif particle \n",
    "    u_0(x) = u_0_particle(x, par_particle)    \n",
    "end\n",
    "\n",
    "u_n = interpolate_everywhere(u_0,V)\n",
    "#writevtk( Ωₕ,\"Results/results_$(lpad(0,3,'0'))\", cellfields=[\"uh_r\"=>real(u_n),\"uh_i\"=>imag(u_n)])\n"
   ]
  },
  {
   "cell_type": "code",
   "execution_count": null,
   "id": "c780a78b-1974-466d-b656-9dd035c1bffe",
   "metadata": {},
   "outputs": [
    {
     "data": {
      "image/png": "[encoded data removed]",
      "text/plain": [
       "Figure()"
      ]
     },
     "execution_count": 166,
     "metadata": {},
     "output_type": "execute_result"
    }
   ],
   "source": [
    "fig, axₕlt = plot(Ωₕ, real(u_n), colormap=:heat)\n",
    "ax.aspect = AxisAspect(2.2)\n",
    "Colorbar(fig[2,1], plt, vertical=false)\n",
    "current_figure()\n",
    "#fig"
   ]
  },
  {
   "cell_type": "code",
   "execution_count": null,
   "id": "b6346d32-7037-48c2-9f41-51633b855fd0",
   "metadata": {},
   "outputs": [
    {
     "data": {
      "image/png": "[encoded data removed]",
      "text/plain": [
       "Figure()"
      ]
     },
     "execution_count": 167,
     "metadata": {},
     "output_type": "execute_result"
    }
   ],
   "source": [
    "function ϵ(x)\n",
    "    l = Lx*0.1\n",
    "    lx_0 = l\n",
    "    lx_1 = 2*Lx + Sx - l\n",
    "    ly_0 = l\n",
    "    ly_1 = Ly - l\n",
    "    if (x[1] < lx_0)\n",
    "        return 1 - (x[1]/lx_0)^2\n",
    "    elseif (x[2] < ly_0)\n",
    "        return 1 - (x[2]/ly_0)^2\n",
    "    elseif (x[1] > lx_1)\n",
    "        return 1 - ((x[1] - (lx_1+l))/l)^2\n",
    "    elseif (x[2] > ly_1)\n",
    "        return 1 - ((x[2] - (ly_1+l))/l)^2\n",
    "    else\n",
    "        return 0.0 + im*0.0\n",
    "    end\n",
    "end\n",
    "\n",
    "if dumping \n",
    "    ϵₕ = interpolate_everywhere(ϵ,V)\n",
    "else\n",
    "    ϵₕ = interpolate_everywhere(0.0,V)\n",
    "end\n",
    "\n",
    "fig, axₕlt = plot(Ωₕ, real(ϵₕ), colormap=:heat)\n",
    "ax.aspect = AxisAspect(2.2)\n",
    "Colorbar(fig[2,1], plt, vertical=false)\n",
    "current_figure()"
   ]
  },
  {
   "cell_type": "markdown",
   "id": "7ce1d218-bacf-4c29-860b-9d3c130f547e",
   "metadata": {},
   "source": [
    "To generate just once the matrix A we follow this example: https://github.com/gridap/Gridap.jl/blob/master/test/FESpacesTests/AssemblersTests.jl\n",
    "\n"
   ]
  },
  {
   "cell_type": "code",
   "execution_count": null,
   "id": "fa56225a-f1fb-4f70-a056-67f0670d7afe",
   "metadata": {},
   "outputs": [
    {
     "name": "stdout",
     "output_type": "stream",
     "text": [
      "time = 0.006,      l2 = 0.08759486637726673\n",
      "time = 0.011000000000000003,      l2 = 0.08759486637726527\n",
      "time = 0.016000000000000007,      l2 = 0.08759486637726545\n",
      "time = 0.02100000000000001,      l2 = 0.08759486637726782\n",
      "time = 0.026000000000000016,      l2 = 0.08759486637726807\n",
      "time = 0.03100000000000002,      l2 = 0.08759486637726945\n",
      "time = 0.036000000000000025,      l2 = 0.08759486637726963\n",
      "time = 0.04100000000000003,      l2 = 0.08759486637726904\n",
      "time = 0.046000000000000034,      l2 = 0.08759486637726954\n",
      "time = 0.05100000000000004,      l2 = 0.08759486637726938\n",
      "time = 0.05600000000000004,      l2 = 0.0875948663772696\n",
      "time = 0.06100000000000005,      l2 = 0.08759486637727022\n",
      "time = 0.06600000000000004,      l2 = 0.08759486637726997\n",
      "time = 0.07100000000000005,      l2 = 0.08759486637726997\n",
      "time = 0.07600000000000005,      l2 = 0.08759486637727082\n",
      "time = 0.08100000000000006,      l2 = 0.08759486637727168\n",
      "time = 0.08600000000000006,      l2 = 0.08759486637727085\n",
      "time = 0.09100000000000007,      l2 = 0.08759486637727161\n",
      "time = 0.09600000000000007,      l2 = 0.08759486637727146\n",
      "time = 0.10100000000000008,      l2 = 0.0875948663772706\n"
     ]
    }
   ],
   "source": [
    "assem = SparseMatrixAssembler(U,V)\n",
    "dv = get_fe_basis(V)\n",
    "du = get_trial_fe_basis(U)\n",
    "\n",
    "\n",
    "\n",
    "a(u,v) = ∫(((1 + im*ϵₕ))*(∇(v) ⋅ ∇(u))*dt + im*2*v*u)dΩₕ\n",
    "\n",
    "mat_contribs = a(du,dv)\n",
    "data = collect_cell_matrix(U,V,mat_contribs)\n",
    "A = assemble_matrix(assem,data)\n",
    "\n",
    "t = 0\n",
    "u_n = interpolate_everywhere(u_0,V)\n",
    "writevtk(\n",
    "          Ωₕ,\"Results/\"*file_name*\"_$(lpad(0,3,'0'))\",\n",
    "          cellfields=[\"uh_r\"=>real(u_n),\"uh_i\"=>imag(u_n)])\n",
    "\n",
    "if test\n",
    "    e = zeros(num_steps ÷ n_int)\n",
    "end\n",
    "    \n",
    "for istep in 1:num_steps\n",
    "\n",
    "    #println(\"\\n+++ Solving in step $istep of $num_steps +++\\n\")\n",
    "    t = t+dt\n",
    "    b(v) = ∫(((1 + im*ϵₕ))*(∇(v) ⋅ ∇(-u_n))*dt + im*2*v*u_n)dΩₕ\n",
    "    vec_contribs = b(dv)\n",
    "    data = collect_cell_vector(V,vec_contribs)\n",
    "    b = assemble_vector(assem,data)\n",
    "    \n",
    "    #op = AffineFEOperator(a,b,U,V)\n",
    "    #uh = solve(solver,op)\n",
    "    x = A\\b\n",
    "    uh = FEFunction(U,x)\n",
    "    \n",
    "    u_n = uh\n",
    "    \n",
    "    if (istep-1) % n_int == 0 && istep > 1\n",
    "        writevtk(\n",
    "          Ωₕ,\"Results/\"*file_name*\"_$(lpad(istep,3,'0'))\",\n",
    "          cellfields=[\"uh_r\"=>real(u_n),\"uh_i\"=>imag(u_n)])\n",
    "        l2 = norm_L2(u_n)\n",
    "        println(\"time = $t,      l2 = $l2\")\n",
    "        if test \n",
    "            u_0(x) = test_solution(x,t,par_test)\n",
    "            u_s = interpolate_everywhere(u_0,V)\n",
    "            error = norm_L2(u_n - u_s)\n",
    "            e[(istep-1) ÷ n_int] = error\n",
    "            l2 = norm_L2(u_n)\n",
    "            println(\"time = $t, rel_error = $(error/l2),      l2 = $l2\")\n",
    "        end\n",
    "    end\n",
    "        \n",
    "\n",
    "end\n"
   ]
  },
  {
   "cell_type": "code",
   "execution_count": null,
   "id": "76628d2a-ea5e-44ad-b899-cc31ca537fca",
   "metadata": {},
   "outputs": [],
   "source": []
  }
 ],
 "metadata": {
  "kernelspec": {
   "display_name": "Julia 1.8.1",
   "language": "julia",
   "name": "julia-1.8"
  },
  "language_info": {
   "file_extension": ".jl",
   "mimetype": "application/julia",
   "name": "julia",
   "version": "1.8.1"
  }
 },
 "nbformat": 4,
 "nbformat_minor": 5
}
