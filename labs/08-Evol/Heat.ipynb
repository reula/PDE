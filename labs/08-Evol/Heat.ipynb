{
 "cells": [
  {
   "cell_type": "markdown",
   "id": "e5dc48c4-47c1-41cf-b0b3-3029c289527f",
   "metadata": {},
   "source": [
    "## Heat Equation ##"
   ]
  },
  {
   "cell_type": "markdown",
   "id": "c28df877-709f-497c-a4ec-bdcb5d1686cd",
   "metadata": {},
   "source": [
    "We are going to solve the heat equation on a domain $\\Omega_h$ with Dirichlet / Neumann boundary contitions."
   ]
  },
  {
   "cell_type": "markdown",
   "id": "b59d4ca5-8032-4e4d-a905-bf3544cce615",
   "metadata": {},
   "source": [
    "The equation to solve is:\n",
    "\n",
    "$$\n",
    "\\frac{\\partial u}{\\partial t} = \\Delta u \n",
    "$$\n",
    "\n",
    "Which we solve using,\n",
    "\n",
    "$$\n",
    "(u - u_n) = dt *  \\Delta (\\theta u + (1-\\theta)u_n)\n",
    "$$\n",
    "\n",
    "As time integrator, here $u = u_{n+1}$. Since the eigenvalues of $\\Delta$ are proportional to $\\Delta x^2$, $\\lambda = -c/\\Delta x^2$, $c > 0$, we must be carefull with the stability region of the method. We have, for each eigenfunction, \n",
    "\n",
    "$$\n",
    "(1 - \\theta \\lambda dt)u = (1 + (1-\\theta) \\lambda dt )u_n\n",
    "$$\n",
    "\n",
    "Thus, the amplification factor is: \n",
    "\n",
    "$$\n",
    "|\\frac{1 + (1-\\theta)\\lambda dt}{1 - \\theta \\lambda dt }| = 1\n",
    "$$\n",
    "\n",
    "and the system is unconditionaly stable if $\\theta \\geq 0.5$.\n",
    "\n",
    "\n",
    "\n",
    "We shall use its weak form,\n",
    "\n",
    "$$\n",
    "\\int [2 v*u +  \\nabla v \\cdot \\nabla u ] \\; d\\Omega = \\int [2*v*u_n - \\nabla v \\cdot \\nabla u_n ] \\; d\\Omega\n",
    "$$\n",
    "\n"
   ]
  },
  {
   "cell_type": "code",
   "execution_count": null,
   "id": "243cd6dc-15ba-4989-90c6-84e1317cc327",
   "metadata": {},
   "outputs": [],
   "source": [
    "using Gridap\n",
    "using GridapMakie, GLMakie; GLMakie.activate!(inline=true)\n",
    "using FileIO\n",
    "#mkdir(\"models\")  #CREATE THEM IN YOUR WORKING DIRECTORY\n",
    "#mkdir(\"images\")\n",
    "#mkdir(\"Results\")\n",
    "#mkdir(\"Results/Heat\")\n",
    "using GridapGmsh\n",
    "using Gridap.Arrays\n",
    "using Gridap.ReferenceFEs\n",
    "using Gridap.Algebra\n",
    "using SparseArrays\n",
    "using Gridap.FESpaces\n",
    "using Gridap.CellData"
   ]
  },
  {
   "cell_type": "code",
   "execution_count": null,
   "id": "9ef33339-ad88-4232-844b-fc3b07bf5e26",
   "metadata": {},
   "outputs": [],
   "source": [
    "n = 80\n",
    "domain = (0,1,0,1)\n",
    "partition = (n,n)\n",
    "model = CartesianDiscreteModel(domain, partition)\n",
    "\n",
    "\n",
    "T = 0.2           # final time for test\n",
    "#T = 0.8\n",
    "num_steps = 201   # number of time steps for 128 T=3 \n",
    "#num_steps = 12000   # number of time steps for 128 T=6 \n",
    "#num_steps = 10000   # number of time steps for 64 T=3 \n",
    "#num_steps = 50000   # number of time steps for 64 T=6 \n",
    "dt = T / (num_steps-1) # time step size\n",
    "\n",
    "\n",
    "# Intervals where data is saved\n",
    "n_int = 10 # for 64\n",
    "#mod = 60 # for 128\n",
    "#mod = 120 # for 128 T=6\n",
    "#mod = 240 # for 256 T=3\n",
    "#mod = 480\n",
    "\n",
    "test = false\n",
    "bump = false\n",
    "particle = false\n",
    "\n",
    "#particle = true\n",
    "#test = true\n",
    "bump = true\n",
    "    \n",
    "file_name = \"heat_dir_bump\" #where to save things\n",
    "\n",
    "println(\"dt / dx^2 = $(dt * n^2)   dt / dx = $(dt * n)  dt^3 / dx^3 = $((dt * n)^3)\")"
   ]
  },
  {
   "cell_type": "markdown",
   "id": "1493e883-cb2b-48b3-9e5e-4c030a4dee55",
   "metadata": {},
   "source": [
    "The first number indicates what it would be the CFL condition for the explicit Euler method. The second a guide about taking time and space comparable steps. The third is proportinal to the error, obtained by expanding $\\frac{1 + i\\lambda dt /2}{1 - i\\lambda dt /2} - e^{i\\lambda dt}$"
   ]
  },
  {
   "cell_type": "code",
   "execution_count": null,
   "id": "be7b49d7-3947-4440-93da-39ed7f8964e2",
   "metadata": {},
   "outputs": [],
   "source": [
    "labels = get_face_labeling(model)\n",
    "add_tag_from_tags!(labels,\"diri_all\",[1,2,3,4,5,6,7,8]);"
   ]
  },
  {
   "cell_type": "code",
   "execution_count": null,
   "id": "41bb7a4b-747c-4088-b9f4-3ac6ab97bdc1",
   "metadata": {},
   "outputs": [],
   "source": [
    "order = 2\n",
    "degree = order\n",
    "Ωₕ = Triangulation(model)\n",
    "dΩₕ = Measure(Ωₕ,degree)\n"
   ]
  },
  {
   "cell_type": "code",
   "execution_count": null,
   "id": "dff10043-fc95-41bf-b15f-af4790342399",
   "metadata": {},
   "outputs": [],
   "source": [
    "ue(x)=x[1]*x[2]\n",
    "Γ₁ = BoundaryTriangulation(model,tags=[5,6,7,8])\n",
    "fig, ax , plt  = plot(Γ₁,ue, colormap=:heat, linewidth=10)\n",
    "ax.aspect = AxisAspect(1)\n",
    "Colorbar(fig[1,2], plt)\n",
    "fig\n",
    "\n",
    "#plot(Γ₁)"
   ]
  },
  {
   "cell_type": "code",
   "execution_count": null,
   "id": "b4704249-9c67-484a-8268-0e1c259183d5",
   "metadata": {},
   "outputs": [],
   "source": [
    "#scatter(BoundaryTriangulation(model,tags=[4]))\n"
   ]
  },
  {
   "cell_type": "code",
   "execution_count": null,
   "id": "58407394-2cca-47b9-93fc-4b0655c9961c",
   "metadata": {},
   "outputs": [],
   "source": [
    "reffe = ReferenceFE(lagrangian,Float64,order)"
   ]
  },
  {
   "cell_type": "code",
   "execution_count": null,
   "id": "aeb0c2c2-aabc-4a85-ab89-07633c6905f1",
   "metadata": {},
   "outputs": [],
   "source": [
    "V = TestFESpace(model,reffe,labels=labels,dirichlet_tags=[\"diri_all\"], conformity=:H1)\n",
    "U = TrialFESpace(V,0.0)"
   ]
  },
  {
   "cell_type": "code",
   "execution_count": null,
   "id": "72d31ef1-d5c9-462f-b736-368996c2f296",
   "metadata": {},
   "outputs": [],
   "source": [
    "function u_0_bump(x,par) \n",
    "    r0, r1, p = par\n",
    "    r = sqrt((x[1]-0.5)^2 + (x[2]-0.5)^2)\n",
    "    if r >= r0 && r < r1\n",
    "        return (r+r1)^p*(r-r1)^p / (((r1-r0))^(2p))\n",
    "    else \n",
    "        return 0.0 + 0.0*im\n",
    "    end\n",
    "end\n",
    "\n",
    "function u_0_particle(x,par)\n",
    "    r0, xi, k, p = par\n",
    "    r = sqrt((x[1]-xi[1])^2 + (x[2]-xi[2])^2)\n",
    "    kx = 2π*(k[1]*(x[1]-xi[1]) + k[2]*(x[2]-xi[2]))\n",
    "    if r < r0\n",
    "        return real((r-r0)^p*(r-r0)^p * (4^(2p))*exp(im*kx))\n",
    "    else \n",
    "        return 0.0 \n",
    "    end\n",
    "end\n",
    "        \n",
    "\n",
    "\n",
    "function u_0_test(x,p)\n",
    "    n, m = p\n",
    "    return sin(π*x[1]*n)*sin(π*x[2]*m)\n",
    "end \n",
    "        \n",
    "function test_solution(x,t,p)\n",
    "    n, m = p\n",
    "    ω = -π^2*(n^2+m^2)\n",
    "    return sin(π*x[1]*n)*sin(π*x[2]*m)*exp(ω*t)\n",
    "end\n",
    "\n",
    "par_bump = (0.0, 0.25, 4)\n",
    "par_test = (2, 3)\n",
    "par_particle = (0.4, [0.25;0.25], [-16;16], 4)\n",
    "\n",
    "u_0_bump([0.5;0.5], par_bump)\n",
    "#u_0_test([0.5;0.5], par_test)    \n",
    "#u_0_particle([0.5;0.5], par_particle)\n"
   ]
  },
  {
   "cell_type": "code",
   "execution_count": null,
   "id": "17621d2c-ee14-4917-82d1-a64d89c7d7c6",
   "metadata": {},
   "outputs": [],
   "source": [
    "if test\n",
    "    u_0(x) = u_0_test(x,par_test)\n",
    "elseif bump\n",
    "    u_0(x) = u_0_bump(x, par_bump)\n",
    "elseif particle \n",
    "    u_0(x) = u_0_particle(x, par_particle)    \n",
    "end\n",
    "\n",
    "u_n = interpolate_everywhere(u_0,V)\n",
    "#writevtk( Ωₕ,\"Results/Heat/*file_name_$(lpad(0,3,'0'))\", cellfields=[\"uh_r\"=>real(u_n),\"uh_i\"=>imag(u_n)])\n"
   ]
  },
  {
   "cell_type": "code",
   "execution_count": null,
   "id": "c780a78b-1974-466d-b656-9dd035c1bffe",
   "metadata": {},
   "outputs": [],
   "source": [
    "fig, ax, plt = plot(Ωₕ, u_n)\n",
    "ax.aspect = AxisAspect(1)\n",
    "Colorbar(fig[2,1], plt, vertical=false)\n",
    "#current_figure()\n",
    "fig"
   ]
  },
  {
   "cell_type": "markdown",
   "id": "7ce1d218-bacf-4c29-860b-9d3c130f547e",
   "metadata": {},
   "source": [
    "To generate just once the matrix A we follow this example: https://github.com/gridap/Gridap.jl/blob/master/test/FESpacesTests/AssemblersTests.jl\n",
    "\n"
   ]
  },
  {
   "cell_type": "code",
   "execution_count": null,
   "id": "94b03f2b-7765-49c2-8005-6e358743545d",
   "metadata": {},
   "outputs": [],
   "source": [
    "norm_L2(u) = sqrt(real(sum(∫(u'*u)*dΩₕ)))"
   ]
  },
  {
   "cell_type": "code",
   "execution_count": null,
   "id": "fa56225a-f1fb-4f70-a056-67f0670d7afe",
   "metadata": {},
   "outputs": [],
   "source": [
    "assem = SparseMatrixAssembler(U,V)\n",
    "dv = get_fe_basis(V)\n",
    "du = get_trial_fe_basis(U)\n",
    "\n",
    "a(u,v) = ∫(∇(v) ⋅ ∇(u)*dt + 2*v*u)dΩₕ\n",
    "\n",
    "mat_contribs = a(du,dv)\n",
    "data = collect_cell_matrix(U,V,mat_contribs)\n",
    "A = assemble_matrix(assem,data)\n",
    "\n",
    "t = 0\n",
    "u_n = interpolate_everywhere(u_0,V)\n",
    "writevtk(\n",
    "          Ωₕ,\"Results/Heat/\"*file_name*\"_$(lpad(0,3,'0'))\",\n",
    "          cellfields=[\"T\"=>u_n])\n",
    "\n",
    "if test\n",
    "    e = zeros(num_steps ÷ n_int)\n",
    "end\n",
    "    \n",
    "for istep in 1:num_steps\n",
    "\n",
    "    #println(\"\\n+++ Solving in step $istep of $num_steps +++\\n\")\n",
    "    t = t+dt\n",
    "    b(v) = ∫(∇(v) ⋅ ∇(-u_n)*dt + 2*v*u_n)dΩₕ\n",
    "    vec_contribs = b(dv)\n",
    "    data = collect_cell_vector(V,vec_contribs)\n",
    "    b = assemble_vector(assem,data)\n",
    "    \n",
    "    #op = AffineFEOperator(a,b,U,V)\n",
    "    #uh = solve(solver,op)\n",
    "    x = A\\b\n",
    "    uh = FEFunction(U,x)\n",
    "    \n",
    "    u_n = uh\n",
    "    \n",
    "    if (istep-1) % n_int == 0 && istep > 1\n",
    "        writevtk(\n",
    "          Ωₕ,\"Results/Heat/\"*file_name*\"_$(lpad(istep,3,'0'))\",\n",
    "          cellfields=[\"T\"=>u_n])\n",
    "        if test \n",
    "            u_0(x) = test_solution(x,t,par_test)\n",
    "            u_s = interpolate_everywhere(u_0,V)\n",
    "            error = norm_L2(u_n - u_s)\n",
    "            e[(istep-1) ÷ n_int] = error\n",
    "            l2 = norm_L2(u_n)\n",
    "            println(\"time = $t, rel_error = $(error/l2),      l2 = $l2\")\n",
    "        end\n",
    "    end\n",
    "        \n",
    "\n",
    "end\n"
   ]
  },
  {
   "cell_type": "markdown",
   "id": "4913cca6-a50c-4cbd-8425-88ed3eb15cf0",
   "metadata": {},
   "source": [
    "Vemos que el error tiene un crecimiento lineal, tal como se espera. "
   ]
  },
  {
   "cell_type": "code",
   "execution_count": null,
   "id": "5b99bf2a-7571-4acf-9396-857e791dbcfd",
   "metadata": {},
   "outputs": [],
   "source": [
    "if test\n",
    "    scatter(e)\n",
    "end"
   ]
  },
  {
   "cell_type": "code",
   "execution_count": null,
   "id": "060a6fe1-9c11-490b-8081-ddf3e9f4ab42",
   "metadata": {},
   "outputs": [],
   "source": []
  },
  {
   "cell_type": "code",
   "execution_count": null,
   "id": "e4508b6e-c3b8-48c0-88d1-70dc523902e8",
   "metadata": {},
   "outputs": [],
   "source": []
  },
  {
   "cell_type": "code",
   "execution_count": null,
   "id": "965e56d4-3dff-4f8b-8757-1961e0745cff",
   "metadata": {},
   "outputs": [],
   "source": []
  }
 ],
 "metadata": {
  "kernelspec": {
   "display_name": "Julia 1.11.5",
   "language": "julia",
   "name": "julia-1.11"
  },
  "language_info": {
   "file_extension": ".jl",
   "mimetype": "application/julia",
   "name": "julia",
   "version": "1.11.5"
  }
 },
 "nbformat": 4,
 "nbformat_minor": 5
}
