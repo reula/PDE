{
 "cells": [
  {
   "cell_type": "markdown",
   "metadata": {},
   "source": [
    "# Assignment 6\n",
    "\n",
    "**Authors:** Pablo Montes, Oscar Reula, Joaquin Pelle\n",
    "\n",
    "### Important 1: ###\n",
    "This notebook is designed to run in Julia. \n",
    "\n",
    "You will need the following auxiliary file alongside the notebook: [shocks_utils.jl](/weave/lab06/shocks_utils.jl)\n",
    "\n",
    "### Important 2: ###\n",
    "\n",
    "Rename the file as: \n",
    "**group_name_assignment_6.ipynb**\n",
    "\n",
    "**All generated code and presentation must be included in this notebook.**\n",
    "\n",
    "**The objective of this assignment is multifaceted:**\n",
    "\n",
    "1. Become familiar with the shock formation phenomenon.\n",
    "2. Become familiar with shock capturing methods.\n",
    "3. Go through the process of implementing new code.\n",
    "\n",
    "\n",
    "**1)** In the directory, you will find a notebook with different shock capturing methods. \n",
    "One of second order *KT2* and two of fifth order, *MP5* and WENOZ. \n",
    "Both evolve the advection equation, ($u_t = c u_x$), as well as the Burgers equation, $u_t = \\frac{1}{2}(u^2)_x$. They do so in a circle (periodic boundary conditions) of length L.\n",
    "\n",
    "Evolve both (with WENOZ): \n",
    "\n",
    "1. For the first equation, verify that the solution moves at constant speed.\n",
    "2. For the second equation, verify that a shock forms at a given time.\n",
    "    1. Discuss how to find when and where the shock forms.\n",
    "    2. Verify that the shock formation time coincides with the theoretically calculated time.\n",
    "    3. Observe that the shock decays over time, and experimentally determine the decay law.\n",
    "    \n",
    "**2)** Evolve the advection equation with all three methods: \n",
    "\n",
    "1. Compare the results and describe what happens. Compare with different values of $\\theta$ (for *KT2*), different final times, and different spatial and temporal resolutions.\n",
    "2. Examine the convergence of the methods (calculate the Q factor in the corresponding norms).\n",
    "3. Compare with what you would obtain using a conventional 4th order finite difference method.\n",
    "\n",
    "Repeat the first two points with the Burgers equation.\n",
    "\n",
    "**3)** Choose a D=1 conservative system and implement code to evolve it.\n",
    "The following two systems are given as examples, but you can choose any other.\n",
    "It is better if you have knowledge of the behavior of the system you choose.\n",
    "\n",
    "1. Euler: the variables are density $\\rho$ and momentum $p^x$, $U=(\\rho, p^x)$.\n",
    "\\begin{align}\n",
    "\\dot{\\rho} &= -\\partial_x(p^x) \\\\\n",
    "\\dot{p^x} &= -\\partial_x(\\frac{p^x p^x}{\\rho} + p_0 \\rho^{\\gamma})\n",
    "\\end{align}\n",
    "With a recommended value of $\\gamma = 1.3$. You must take an initial condition where $\\rho$ is positive and not close to zero. The propagation speed of the fluid is: $c^2 = \\frac{dp}{d\\rho} = \\gamma p/\\rho = \\gamma p_0 \\rho^{\\gamma-1}$\n",
    "    \n",
    "2. Force-Free: the variables are the magnetic field (y component) and the Poynting vector (x and y components), $U = (S^x, S^y, B^y)$\n",
    "\\begin{align}\n",
    "\\dot{S^x} &= -\\partial_x(T^{xx}) = \\partial_x(-e + B_x^2) \\\\\n",
    "\\dot{S^y} &= -\\partial_x(T^{xy}) = \\partial_x(B_xB_y) \\\\\n",
    "\\dot{B^y} &= \\partial_x(v^x B^y + v^y B^x) \n",
    "\\end{align}\n",
    "Where, $e = \\frac{1}{2}(E_z^2 + B_x^2 + B_y^2) = \\frac{1}{2}(\\frac{S_x^2+S_y^2}{B_x^2+B_y^2}+B_x^2+B_y^2)$ and $v^i = \\frac{S^i}{B^2}$. For this equation $B^x$ is a constant *not equal to zero*. Additionally, $S^i$ must be perpendicular $\\sum_i S^i B^i = 0$ with $\\sum_i (v^i) < 1$."
   ]
  },
  {
   "cell_type": "markdown",
   "metadata": {},
   "source": []
  }
 ],
 "metadata": {
  "kernelspec": {
   "display_name": "Julia 1.5.0",
   "language": "julia",
   "name": "julia-1.5"
  },
  "language_info": {
   "file_extension": ".jl",
   "mimetype": "application/julia",
   "name": "julia",
   "version": "1.5.0"
  },
  "latex_envs": {
   "LaTeX_envs_menu_present": true,
   "autoclose": false,
   "autocomplete": true,
   "bibliofile": "biblio.bib",
   "cite_by": "apalike",
   "current_citInitial": 1,
   "eqLabelWithNumbers": true,
   "eqNumInitial": 1,
   "hotkeys": {
    "equation": "Ctrl-E",
    "itemize": "Ctrl-I"
   },
   "labels_anchors": false,
   "latex_user_defs": false,
   "report_style_numbering": false,
   "user_envs_cfg": false
  }
 },
 "nbformat": 4,
 "nbformat_minor": 4
}
